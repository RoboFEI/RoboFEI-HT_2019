{
 "cells": [
  {
   "cell_type": "code",
   "execution_count": 1,
   "metadata": {
    "collapsed": true
   },
   "outputs": [],
   "source": [
    "#ini-iPython"
   ]
  },
  {
   "cell_type": "markdown",
   "metadata": {},
   "source": [
    "# Executando no diretório principal"
   ]
  },
  {
   "cell_type": "code",
   "execution_count": 2,
   "metadata": {
    "collapsed": true
   },
   "outputs": [],
   "source": [
    "import os\n",
    "os.chdir('/home/vinicius/Dropbox/Projeto Mestrado/Codigos/RoboFEI-HT_Debug/AI/Visual_Memory') #Executando na pasta Visual_Memory\n",
    "import sys\n",
    "sys.path.append('./include')\n",
    "sys.path.append('./src')\n",
    "sys.path.append('./iPython')\n",
    "#end-iPython"
   ]
  },
  {
   "cell_type": "markdown",
   "metadata": {
    "collapsed": true
   },
   "source": [
    "---- Imports ----"
   ]
  },
  {
   "cell_type": "code",
   "execution_count": 3,
   "metadata": {
    "collapsed": true
   },
   "outputs": [],
   "source": [
    "# Libraries to be used.\n",
    "import sys\n",
    "#des-iPython sys.path.append('../include')\n",
    "#des-iPython sys.path.append('../src')"
   ]
  },
  {
   "cell_type": "code",
   "execution_count": 4,
   "metadata": {
    "collapsed": true
   },
   "outputs": [],
   "source": [
    "# The standard libraries used in the vision system.\n"
   ]
  },
  {
   "cell_type": "code",
   "execution_count": 5,
   "metadata": {
    "collapsed": false
   },
   "outputs": [],
   "source": [
    "# Used class developed by RoboFEI-HT.\n",
    "from Landmark import *\n",
    "sym.init_printing() #debug-iPython"
   ]
  },
  {
   "cell_type": "code",
   "execution_count": 6,
   "metadata": {
    "collapsed": false
   },
   "outputs": [],
   "source": [
    "me = Speeds( )\n",
    "land = Landmark(me)"
   ]
  },
  {
   "cell_type": "code",
   "execution_count": 7,
   "metadata": {
    "collapsed": false
   },
   "outputs": [
    {
     "name": "stdout",
     "output_type": "stream",
     "text": [
      "{'time': 0.0, 'pos': [5.997430332486877, 2.9960457896151866], 'target': 1, 'movement': 1} \n",
      "\n",
      "Matrix([[6.00], [3.00], [0], [0], [0], [0]]) Matrix([\n",
      "[0.01,    0,      0,      0,      0,      0],\n",
      "[   0, 0.01,      0,      0,      0,      0],\n",
      "[   0,    0, 1.0e+3,      0,      0,      0],\n",
      "[   0,    0,      0, 1.0e+3,      0,      0],\n",
      "[   0,    0,      0,      0, 1.0e+3,      0],\n",
      "[   0,    0,      0,      0,      0, 1.0e+3]]) \n",
      "\n",
      "{'time': 0.5, 'pos': [5.493223513534618, 2.949945147609769], 'target': 1, 'movement': 1} \n",
      "\n",
      "Matrix([[5.49], [2.95], [-1.07], [-0.0975], [-0.237], [-0.0217]]) Matrix([\n",
      "[   0.01,       0, 0.0212,      0, 0.00471,       0],\n",
      "[      0,    0.01,      0, 0.0212,       0, 0.00471],\n",
      "[ 0.0212,       0,   58.9,      0,   235.0,       0],\n",
      "[      0,  0.0212,      0,   58.9,       0,   235.0],\n",
      "[0.00471,       0,  235.0,      0,   941.0,       0],\n",
      "[      0, 0.00471,      0,  235.0,       0,   941.0]]) \n",
      "\n",
      "{'time': 1.5, 'pos': [4.495026292206717, 2.854922671716042], 'target': 1, 'movement': 1} \n",
      "\n",
      "Matrix([[4.50], [2.85], [-0.992], [-0.0970], [0.0133], [0]]) Matrix([\n",
      "[  0.01,      0, 0.0167,      0, 0.0133,      0],\n",
      "[     0,   0.01,      0, 0.0167,      0, 0.0133],\n",
      "[0.0167,      0,  0.135,      0,  0.178,      0],\n",
      "[     0, 0.0167,      0,  0.135,      0,  0.178],\n",
      "[0.0133,      0,  0.178,      0,  0.249,      0],\n",
      "[     0, 0.0133,      0,  0.178,      0,  0.249]]) \n",
      "\n",
      "{'time': 2.0, 'pos': [3.9953898860412904, 2.8043186043635715], 'target': 1, 'movement': 1} \n",
      "\n",
      "Matrix([[4.00], [2.80], [-0.995], [-0.101], [0.00594], [0]]) Matrix([\n",
      "[ 0.009,      0, 0.0173,      0, 0.0133,      0],\n",
      "[     0,  0.009,      0, 0.0173,      0, 0.0133],\n",
      "[0.0173,      0, 0.0751,      0, 0.0711,      0],\n",
      "[     0, 0.0173,      0, 0.0751,      0, 0.0711],\n",
      "[0.0133,      0, 0.0711,      0, 0.0711,      0],\n",
      "[     0, 0.0133,      0, 0.0711,      0, 0.0711]]) \n",
      "\n",
      "{'time': 3.0, 'pos': [3.0003614364565707, 2.7036039389877384], 'target': 1, 'movement': 1} \n",
      "\n",
      "Matrix([[3.00], [2.70], [-0.993], [-0.101], [0], [0]]) Matrix([\n",
      "[0.00957,       0, 0.0107,      0, 0.00519,       0],\n",
      "[      0, 0.00957,      0, 0.0107,       0, 0.00519],\n",
      "[ 0.0107,       0, 0.0222,      0,  0.0134,       0],\n",
      "[      0,  0.0107,      0, 0.0222,       0,  0.0134],\n",
      "[0.00519,       0, 0.0134,      0, 0.00877,       0],\n",
      "[      0, 0.00519,      0, 0.0134,       0, 0.00877]]) \n",
      "\n",
      "{'time': 3.5, 'pos': [2.5098761993143968, 2.6597212211583305], 'target': 1, 'movement': 1} \n",
      "\n",
      "Matrix([[2.51], [2.66], [-0.988], [-0.0959], [0], [0]]) Matrix([\n",
      "[0.00743,       0,  0.0077,       0, 0.00333,       0],\n",
      "[      0, 0.00743,       0,  0.0077,       0, 0.00333],\n",
      "[ 0.0077,       0,  0.0147,       0, 0.00778,       0],\n",
      "[      0,  0.0077,       0,  0.0147,       0, 0.00778],\n",
      "[0.00333,       0, 0.00778,       0, 0.00444,       0],\n",
      "[      0, 0.00333,       0, 0.00778,       0, 0.00444]]) \n",
      "\n",
      "{'time': 4.5, 'pos': [1.4995050149079001, 2.551075476468599], 'target': 1, 'movement': 1} \n",
      "\n",
      "Matrix([[1.50], [2.55], [-1.00], [-0.103], [0], [0]]) Matrix([\n",
      "[0.00833,       0, 0.00663,       0, 0.00223,       0],\n",
      "[      0, 0.00833,       0, 0.00663,       0, 0.00223],\n",
      "[0.00663,       0, 0.00842,       0, 0.00338,       0],\n",
      "[      0, 0.00663,       0, 0.00842,       0, 0.00338],\n",
      "[0.00223,       0, 0.00338,       0, 0.00147,       0],\n",
      "[      0, 0.00223,       0, 0.00338,       0, 0.00147]]) \n",
      "\n",
      "{'time': 5.0, 'pos': [0.9959696755029114, 2.4902132036878983], 'target': 1, 'movement': 1} \n",
      "\n",
      "Matrix([[0.998], [2.49], [-1.00], [-0.108], [0], [0]]) Matrix([\n",
      "[0.00644,       0, 0.00475,       0,  0.00146,        0],\n",
      "[      0, 0.00644,       0, 0.00475,        0,  0.00146],\n",
      "[0.00475,       0, 0.00585,       0,  0.00217,        0],\n",
      "[      0, 0.00475,       0, 0.00585,        0,  0.00217],\n",
      "[0.00146,       0, 0.00217,       0, 0.000867,        0],\n",
      "[      0, 0.00146,       0, 0.00217,        0, 0.000867]]) \n",
      "\n",
      "{'time': 5.5, 'pos': [0.5050094560346328, 2.4485006339161948], 'target': 1, 'movement': 1} \n",
      "\n",
      "Matrix([[0.501], [2.44], [-1.00], [-0.105], [0], [0]]) Matrix([\n",
      "[0.00571,       0, 0.00398,       0,  0.00114,        0],\n",
      "[      0, 0.00571,       0, 0.00398,        0,  0.00114],\n",
      "[0.00398,       0, 0.00455,       0,  0.00154,        0],\n",
      "[      0, 0.00398,       0, 0.00455,        0,  0.00154],\n",
      "[0.00114,       0, 0.00154,       0, 0.000564,        0],\n",
      "[      0, 0.00114,       0, 0.00154,        0, 0.000564]]) \n",
      "\n",
      "{'time': 6.0, 'pos': [0.007372862747402157, 2.391061248652086], 'target': 1, 'movement': 1} \n",
      "\n",
      "Matrix([[0], [2.39], [-0.999], [-0.105], [0], [0]]) Matrix([\n",
      "[0.00531,       0, 0.00349,       0, 0.00093,       0],\n",
      "[      0, 0.00531,       0, 0.00349,       0, 0.00093],\n",
      "[0.00349,       0, 0.00364,       0, 0.00113,       0],\n",
      "[      0, 0.00349,       0, 0.00364,       0, 0.00113],\n",
      "[0.00093,       0, 0.00113,       0, 0.00038,       0],\n",
      "[      0, 0.00093,       0, 0.00113,       0, 0.00038]]) \n",
      "\n"
     ]
    }
   ],
   "source": [
    "import random\n",
    "random.seed(time.time())\n",
    "\n",
    "# # Vx = 1.7 Vy = 0.3  omega = -5\n",
    "# lista = [\n",
    "#     {\"movement\": 1, \"target\": 1, \"pos\": [+6.00, +3.00], \"time\": 0.0,},\n",
    "# #     {\"movement\": 1, \"target\": 1, \"pos\": [+5.55, +2.84], \"time\": 0.5,},\n",
    "#     {\"movement\": 1, \"target\": 1, \"pos\": [+4.02, +3.21], \"time\": 1.0,},\n",
    "# #     {\"movement\": 1, \"target\": 1, \"pos\": [+3.01, +3.31], \"time\": 1.5,},\n",
    "#     {\"movement\": 1, \"target\": 1, \"pos\": [+1.99, +3.40], \"time\": 2.0,},\n",
    "#     {\"movement\": 1, \"target\": 1, \"pos\": [+0.96, +3.48], \"time\": 2.5,},\n",
    "#     {\"movement\": 1, \"target\": 1, \"pos\": [-0.08, +3.55], \"time\": 3.0,},\n",
    "# #     {\"movement\": 1, \"target\": 1, \"pos\": [-1.13, +3.62], \"time\": 3.5,},\n",
    "#     {\"movement\": 1, \"target\": 1, \"pos\": [-2.19, +3.67], \"time\": 4.0,},\n",
    "#     {\"movement\": 1, \"target\": 1, \"pos\": [-3.25, +3.72], \"time\": 4.5,},\n",
    "# #     {\"movement\": 1, \"target\": 1, \"pos\": [-4.33, +3.75], \"time\": 5.0,},\n",
    "#     {\"movement\": 1, \"target\": 1, \"pos\": [-5.41, +3.78], \"time\": 5.5,},\n",
    "#     {\"movement\": 1, \"target\": 1, \"pos\": [-6.50, +3.80], \"time\": 6.0,},\n",
    "#     {\"movement\": 1, \"target\": 1, \"pos\": [-7.60, +3.80], \"time\": 6.5,},\n",
    "# #     {\"movement\": 1, \"target\": 1, \"pos\": [-8.71, +3.80], \"time\": 7.0,},\n",
    "#     {\"movement\": 1, \"target\": 1, \"pos\": [-9.82, +3.78], \"time\": 7.5,},\n",
    "# ]\n",
    "\n",
    "# # Vx = 1  Vy = 0.1  omega = 2\n",
    "# lista = [\n",
    "#     {\"movement\": 1, \"target\": 1, \"pos\": [+6.00, +3.00], \"time\": 0.0,},\n",
    "# #     {\"movement\": 1, \"target\": 1, \"pos\": [+5.55, +2.84], \"time\": 0.5,},\n",
    "#     {\"movement\": 1, \"target\": 1, \"pos\": [+5.10, +2.69], \"time\": 1.0,},\n",
    "#     {\"movement\": 1, \"target\": 1, \"pos\": [+4.65, +2.53], \"time\": 1.5,},\n",
    "#     {\"movement\": 1, \"target\": 1, \"pos\": [+4.19, +2.37], \"time\": 2.0,},\n",
    "# #     {\"movement\": 1, \"target\": 1, \"pos\": [+3.74, +2.22], \"time\": 2.5,},\n",
    "#     {\"movement\": 1, \"target\": 1, \"pos\": [+3.28, +2.06], \"time\": 3.0,},\n",
    "#     {\"movement\": 1, \"target\": 1, \"pos\": [+2.82, +1.90], \"time\": 3.5,},\n",
    "# #     {\"movement\": 1, \"target\": 1, \"pos\": [+2.36, +1.74], \"time\": 4.0,},\n",
    "#     {\"movement\": 1, \"target\": 1, \"pos\": [+1.90, +1.57], \"time\": 4.5,},\n",
    "#     {\"movement\": 1, \"target\": 1, \"pos\": [+1.43, +1.41], \"time\": 5.0,},\n",
    "#     {\"movement\": 1, \"target\": 1, \"pos\": [+0.96, +1.25], \"time\": 5.5,},\n",
    "#     {\"movement\": 1, \"target\": 1, \"pos\": [+0.49, +1.09], \"time\": 6.0,},\n",
    "# #     {\"movement\": 1, \"target\": 1, \"pos\": [+0.02, +0.92], \"time\": 6.5,},\n",
    "#     {\"movement\": 1, \"target\": 1, \"pos\": [-0.45, +0.76], \"time\": 7.0,},\n",
    "#     {\"movement\": 1, \"target\": 1, \"pos\": [-0.93, +0.59], \"time\": 7.5,},\n",
    "# ]\n",
    "\n",
    "# Vx = 1  Vy = 0.1  omega = 0\n",
    "lista = [\n",
    "    {\"movement\": 1, \"target\": 1, \"pos\": [+6.00, +3.00], \"time\": 0.0,},\n",
    "    {\"movement\": 1, \"target\": 1, \"pos\": [+5.50, +2.95], \"time\": 0.5,},\n",
    "#     {\"movement\": 1, \"target\": 1, \"pos\": [+5.00, +2.90], \"time\": 1.0,},\n",
    "    {\"movement\": 1, \"target\": 1, \"pos\": [+4.50, +2.85], \"time\": 1.5,},\n",
    "    {\"movement\": 1, \"target\": 1, \"pos\": [+4.00, +2.80], \"time\": 2.0,},\n",
    "#     {\"movement\": 1, \"target\": 1, \"pos\": [+3.50, +2.75], \"time\": 2.5,},\n",
    "    {\"movement\": 1, \"target\": 1, \"pos\": [+3.00, +2.70], \"time\": 3.0,},\n",
    "    {\"movement\": 1, \"target\": 1, \"pos\": [+2.50, +2.65], \"time\": 3.5,},\n",
    "#     {\"movement\": 1, \"target\": 1, \"pos\": [+2.00, +2.60], \"time\": 4.0,},\n",
    "    {\"movement\": 1, \"target\": 1, \"pos\": [+1.50, +2.55], \"time\": 4.5,},\n",
    "    {\"movement\": 1, \"target\": 1, \"pos\": [+1.00, +2.50], \"time\": 5.0,},\n",
    "    {\"movement\": 1, \"target\": 1, \"pos\": [+0.50, +2.45], \"time\": 5.5,},\n",
    "    {\"movement\": 1, \"target\": 1, \"pos\": [+0.00, +2.40], \"time\": 6.0,},\n",
    "#     {\"movement\": 1, \"target\": 1, \"pos\": [-0.50, +2.35], \"time\": 6.5,},\n",
    "    {\"movement\": 1, \"target\": 1, \"pos\": [-1.00, +2.30], \"time\": 7.0,},\n",
    "#     {\"movement\": 1, \"target\": 1, \"pos\": [-1.50, +2.25], \"time\": 7.5,},\n",
    "]\n",
    "\n",
    "for x in xrange(len(lista)-1):\n",
    "    lista[x][\"pos\"][0] += -land._parameters[\"vision_error\"] + 2*land._parameters[\"vision_error\"]*random.random()\n",
    "    lista[x][\"pos\"][1] += -land._parameters[\"vision_error\"] + 2*land._parameters[\"vision_error\"]*random.random()\n",
    "\n",
    "vx = 1\n",
    "vy = 0\n",
    "\n",
    "for data in lista[:-1]:\n",
    "    print data, \"\\n\"\n",
    "#     land.predict(tnow=data[\"time\"], movements=data[\"movement\"])\n",
    "#     print land._predictedstate[\"x\"].evalf(3), land._predictedstate[\"covariance\"].evalf(3), \"\\n\"\n",
    "    me.update(land.update(data))\n",
    "    print land._predictedstate[\"x\"].evalf(3), land._predictedstate[\"covariance\"].evalf(3), \"\\n\"\n",
    "#     land.predict(tnow=data[\"time\"]+1, movements=data[\"movement\"])\n",
    "#     print land._predictedstate[\"x\"].evalf(3), land._predictedstate[\"covariance\"].evalf(3), \"\\n\""
   ]
  },
  {
   "cell_type": "code",
   "execution_count": 8,
   "metadata": {
    "collapsed": false
   },
   "outputs": [],
   "source": [
    "land._end( )"
   ]
  },
  {
   "cell_type": "code",
   "execution_count": 9,
   "metadata": {
    "collapsed": false
   },
   "outputs": [
    {
     "name": "stdout",
     "output_type": "stream",
     "text": [
      "[-1.0, 2.3]\n",
      "time 7.0\n",
      "Matrix([[-0.999], [2.29], [-0.999], [-0.105], [0], [0]]) Matrix([\n",
      "[ 0.0181,       0, 0.00995,       0, 0.00225,       0],\n",
      "[      0,  0.0181,       0, 0.00995,       0, 0.00225],\n",
      "[0.00995,       0, 0.00629,       0, 0.00151,       0],\n",
      "[      0, 0.00995,       0, 0.00629,       0, 0.00151],\n",
      "[0.00225,       0, 0.00151,       0, 0.00038,       0],\n",
      "[      0, 0.00225,       0, 0.00151,       0, 0.00038]]) \n",
      "\n"
     ]
    }
   ],
   "source": [
    "print lista[len(lista)-1][\"pos\"]\n",
    "print \"time\", lista[len(lista)-1][\"time\"]\n",
    "land.predict(tnow=lista[len(lista)-1][\"time\"], movements=data[\"movement\"])\n",
    "print land._predictedstate[\"x\"].evalf(3), land._predictedstate[\"covariance\"].evalf(3), \"\\n\""
   ]
  },
  {
   "cell_type": "code",
   "execution_count": 10,
   "metadata": {
    "collapsed": false,
    "scrolled": true
   },
   "outputs": [
    {
     "data": {
      "image/png": "[encoded data removed]",
      "text/latex": [
       "$$\\left[\\begin{matrix}0.9985374143479\\\\0.10550485200938\\\\0\\\\0\\\\1\\end{matrix}\\right]$$"
      ],
      "text/plain": [
       "⎡0.9985374143479 ⎤\n",
       "⎢                ⎥\n",
       "⎢0.10550485200938⎥\n",
       "⎢                ⎥\n",
       "⎢       0        ⎥\n",
       "⎢                ⎥\n",
       "⎢       0        ⎥\n",
       "⎢                ⎥\n",
       "⎣       1        ⎦"
      ]
     },
     "execution_count": 10,
     "metadata": {},
     "output_type": "execute_result"
    }
   ],
   "source": [
    "me[1]['x_speed']"
   ]
  }
 ],
 "metadata": {
  "kernelspec": {
   "display_name": "Python 2",
   "language": "python",
   "name": "python2"
  },
  "language_info": {
   "codemirror_mode": {
    "name": "ipython",
    "version": 2
   },
   "file_extension": ".py",
   "mimetype": "text/x-python",
   "name": "python",
   "nbconvert_exporter": "python",
   "pygments_lexer": "ipython2",
   "version": "2.7.6"
  }
 },
 "nbformat": 4,
 "nbformat_minor": 2
}
