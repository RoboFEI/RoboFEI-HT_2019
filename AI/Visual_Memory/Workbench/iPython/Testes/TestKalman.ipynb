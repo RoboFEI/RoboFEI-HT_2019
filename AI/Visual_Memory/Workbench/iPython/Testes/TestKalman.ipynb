{
 "cells": [
  {
   "cell_type": "code",
   "execution_count": 1,
   "metadata": {
    "collapsed": true
   },
   "outputs": [],
   "source": [
    "from sympy import *\n",
    "import numpy as np\n",
    "init_printing()"
   ]
  },
  {
   "cell_type": "markdown",
   "metadata": {},
   "source": [
    "# Para landmark"
   ]
  },
  {
   "cell_type": "code",
   "execution_count": 2,
   "metadata": {
    "collapsed": false
   },
   "outputs": [
    {
     "data": {
      "image/png": "[encoded data removed]",
      "text/latex": [
       "$$\\left ( \\left[\\begin{matrix}1 & 0 & t & 0 & 0.5 t^{2} & 0\\\\0 & 1 & 0 & t & 0 & 0.5 t^{2}\\\\0 & 0 & 1 & 0 & t & 0\\\\0 & 0 & 0 & 1 & 0 & t\\\\0 & 0 & 0 & 0 & 1 & 0\\\\0 & 0 & 0 & 0 & -1 & 0\\end{matrix}\\right], \\quad \\left[\\begin{matrix}p_{x}\\\\p_{y}\\\\v_{x}\\\\v_{y}\\\\a_{x}\\\\a_{y}\\end{matrix}\\right], \\quad \\left[\\begin{matrix}0.5 a_{x} t^{2} + p_{x} + t v_{x}\\\\0.5 a_{y} t^{2} + p_{y} + t v_{y}\\\\a_{x} t + v_{x}\\\\a_{y} t + v_{y}\\\\a_{x}\\\\- a_{x}\\end{matrix}\\right]\\right )$$"
      ],
      "text/plain": [
       "⎛⎡                 2        ⎤         ⎡         2              ⎤⎞\n",
       "⎜⎢1  0  t  0  0.5⋅t     0   ⎥, ⎡pₓ ⎤, ⎢ 0.5⋅aₓ⋅t  + pₓ + t⋅vₓ  ⎥⎟\n",
       "⎜⎢                          ⎥  ⎢   ⎥  ⎢                        ⎥⎟\n",
       "⎜⎢                         2⎥  ⎢p_y⎥  ⎢         2              ⎥⎟\n",
       "⎜⎢0  1  0  t    0     0.5⋅t ⎥  ⎢   ⎥  ⎢0.5⋅a_y⋅t  + p_y + t⋅v_y⎥⎟\n",
       "⎜⎢                          ⎥  ⎢vₓ ⎥  ⎢                        ⎥⎟\n",
       "⎜⎢0  0  1  0    t       0   ⎥  ⎢   ⎥  ⎢       aₓ⋅t + vₓ        ⎥⎟\n",
       "⎜⎢                          ⎥  ⎢v_y⎥  ⎢                        ⎥⎟\n",
       "⎜⎢0  0  0  1    0       t   ⎥  ⎢   ⎥  ⎢      a_y⋅t + v_y       ⎥⎟\n",
       "⎜⎢                          ⎥  ⎢aₓ ⎥  ⎢                        ⎥⎟\n",
       "⎜⎢0  0  0  0    1       0   ⎥  ⎢   ⎥  ⎢           aₓ           ⎥⎟\n",
       "⎜⎢                          ⎥  ⎣a_y⎦  ⎢                        ⎥⎟\n",
       "⎝⎣0  0  0  0    -1      0   ⎦         ⎣          -aₓ           ⎦⎠"
      ]
     },
     "execution_count": 2,
     "metadata": {},
     "output_type": "execute_result"
    }
   ],
   "source": [
    "t = symbols('t')\n",
    "p_x, v_x, a_x = symbols('p_x v_x a_x')\n",
    "p_y, v_y, a_y = symbols('p_y v_y a_y')\n",
    "\n",
    "x = Matrix([\n",
    "        [p_x],\n",
    "        [p_y],\n",
    "        [v_x],\n",
    "        [v_y],\n",
    "        [a_x],\n",
    "        [a_y]\n",
    "           \n",
    "    ])\n",
    "\n",
    "x = Matrix([\n",
    "        [p_x],\n",
    "        [p_y],\n",
    "        [v_x],\n",
    "        [v_y],\n",
    "        [a_x],\n",
    "        [a_y]\n",
    "           \n",
    "    ])\n",
    "\n",
    "A = Matrix([\n",
    "        [1, 0, t, 0, 0.5*t**2, 0],\n",
    "        [0, 1, 0, t, 0, 0.5*t**2],\n",
    "        [0, 0, 1, 0, t, 0],\n",
    "        [0, 0, 0, 1, 0, t],\n",
    "        [0, 0, 0, 0, 1, 0],\n",
    "        [0, 0, 0, 0, -1, 0]\n",
    "    ])\n",
    "A, x, A*x"
   ]
  },
  {
   "cell_type": "code",
   "execution_count": 4,
   "metadata": {
    "collapsed": false
   },
   "outputs": [
    {
     "data": {
      "image/png": "[encoded data removed]",
      "text/latex": [
       "$$\\left ( \\left[\\begin{matrix}0.5 a_{x} t^{2} + p_{x} + t v_{x}\\\\0.5 a_{y} t^{2} + p_{y} + t v_{y}\\\\a_{x} t + v_{x}\\\\a_{y} t + v_{y}\\\\a_{x}\\\\- a_{x}\\end{matrix}\\right], \\quad \\left[\\begin{array}{cccccc}1000 & 0 & 0 & 0 & 0 & 0\\\\0 & 1000 & 0 & 0 & 0 & 0\\\\0 & 0 & 1000 & 0 & 0 & 0\\\\0 & 0 & 0 & 1000 & 0 & 0\\\\0 & 0 & 0 & 0 & 1000 & 0\\\\0 & 0 & 0 & 0 & 0 & 1000\\end{array}\\right]\\right )$$"
      ],
      "text/plain": [
       "⎛⎡         2              ⎤                                      ⎞\n",
       "⎜⎢ 0.5⋅aₓ⋅t  + pₓ + t⋅vₓ  ⎥, ⎡1000   0     0     0     0     0  ⎤⎟\n",
       "⎜⎢                        ⎥  ⎢                                  ⎥⎟\n",
       "⎜⎢         2              ⎥  ⎢ 0    1000   0     0     0     0  ⎥⎟\n",
       "⎜⎢0.5⋅a_y⋅t  + p_y + t⋅v_y⎥  ⎢                                  ⎥⎟\n",
       "⎜⎢                        ⎥  ⎢ 0     0    1000   0     0     0  ⎥⎟\n",
       "⎜⎢       aₓ⋅t + vₓ        ⎥  ⎢                                  ⎥⎟\n",
       "⎜⎢                        ⎥  ⎢ 0     0     0    1000   0     0  ⎥⎟\n",
       "⎜⎢      a_y⋅t + v_y       ⎥  ⎢                                  ⎥⎟\n",
       "⎜⎢                        ⎥  ⎢ 0     0     0     0    1000   0  ⎥⎟\n",
       "⎜⎢           aₓ           ⎥  ⎢                                  ⎥⎟\n",
       "⎜⎢                        ⎥  ⎣ 0     0     0     0     0    1000⎦⎟\n",
       "⎝⎣          -aₓ           ⎦                                      ⎠"
      ]
     },
     "execution_count": 4,
     "metadata": {},
     "output_type": "execute_result"
    }
   ],
   "source": [
    "eq = A*x\n",
    "\n",
    "covariance = Matrix(Identity(6)*1000)\n",
    "R = Matrix(Identity(6)*0.1)\n",
    "eq_cov = A*covariance*transpose(A) + R\n",
    "\n",
    "eq, covariance"
   ]
  },
  {
   "cell_type": "code",
   "execution_count": 5,
   "metadata": {
    "collapsed": false
   },
   "outputs": [
    {
     "data": {
      "text/plain": [
       "matrix([[0],\n",
       "        [0],\n",
       "        [0],\n",
       "        [0],\n",
       "        [0],\n",
       "        [0]])"
      ]
     },
     "execution_count": 5,
     "metadata": {},
     "output_type": "execute_result"
    }
   ],
   "source": [
    "x = np.matrix([0, 0, 0, 0, 0, 0]).T # Valores iniciais\n",
    "cov = Identity(6)*1e9 # Erros\n",
    "x"
   ]
  },
  {
   "cell_type": "markdown",
   "metadata": {},
   "source": [
    "## Para t = 0"
   ]
  },
  {
   "cell_type": "code",
   "execution_count": 6,
   "metadata": {
    "collapsed": false
   },
   "outputs": [
    {
     "data": {
      "text/plain": [
       "matrix([[ 0.],\n",
       "        [ 0.],\n",
       "        [ 0.],\n",
       "        [ 0.],\n",
       "        [ 0.],\n",
       "        [ 0.]])"
      ]
     },
     "execution_count": 6,
     "metadata": {},
     "output_type": "execute_result"
    }
   ],
   "source": [
    "x = np.matrix(\n",
    "eq.subs([ # Substituindo valores\n",
    "        [p_x, x[0]],\n",
    "        [p_y, x[1]],\n",
    "        [v_x, x[2]],\n",
    "        [v_y, x[3]],\n",
    "        [a_x, x[4]],\n",
    "        [a_y, x[5]],\n",
    "        \n",
    "        [t, 0],\n",
    "        \n",
    "    ])[:], dtype=float).T\n",
    "x"
   ]
  },
  {
   "cell_type": "code",
   "execution_count": 7,
   "metadata": {
    "collapsed": false
   },
   "outputs": [
    {
     "ename": "NameError",
     "evalue": "name 'R_p' is not defined",
     "output_type": "error",
     "traceback": [
      "\u001b[0;31m---------------------------------------------------------------------------\u001b[0m",
      "\u001b[0;31mNameError\u001b[0m                                 Traceback (most recent call last)",
      "\u001b[0;32m<ipython-input-7-1bb64421146a>\u001b[0m in \u001b[0;36m<module>\u001b[0;34m()\u001b[0m\n\u001b[0;32m----> 1\u001b[0;31m \u001b[0mV_x\u001b[0m \u001b[0;34m=\u001b[0m \u001b[0mv_x\u001b[0m \u001b[0;34m+\u001b[0m \u001b[0mR_p\u001b[0m\u001b[0;34m*\u001b[0m\u001b[0msin\u001b[0m\u001b[0;34m(\u001b[0m\u001b[0mtheta\u001b[0m\u001b[0;34m)\u001b[0m\u001b[0;34m*\u001b[0m\u001b[0momegar\u001b[0m\u001b[0;34m\u001b[0m\u001b[0m\n\u001b[0m",
      "\u001b[0;31mNameError\u001b[0m: name 'R_p' is not defined"
     ]
    }
   ],
   "source": [
    "V_x = v_x + R_p*sin(theta)*omegar"
   ]
  },
  {
   "cell_type": "code",
   "execution_count": null,
   "metadata": {
    "collapsed": true
   },
   "outputs": [],
   "source": [
    "V_y = v_y + R_p*sym.cos(theta)*omegar"
   ]
  },
  {
   "cell_type": "code",
   "execution_count": null,
   "metadata": {
    "collapsed": true
   },
   "outputs": [],
   "source": [
    "\n",
    "A_x = R_p*omegar"
   ]
  },
  {
   "cell_type": "code",
   "execution_count": null,
   "metadata": {
    "collapsed": true
   },
   "outputs": [],
   "source": []
  },
  {
   "cell_type": "code",
   "execution_count": null,
   "metadata": {
    "collapsed": true
   },
   "outputs": [],
   "source": []
  },
  {
   "cell_type": "code",
   "execution_count": null,
   "metadata": {
    "collapsed": true
   },
   "outputs": [],
   "source": []
  },
  {
   "cell_type": "code",
   "execution_count": null,
   "metadata": {
    "collapsed": true
   },
   "outputs": [],
   "source": []
  },
  {
   "cell_type": "code",
   "execution_count": null,
   "metadata": {
    "collapsed": true
   },
   "outputs": [],
   "source": []
  },
  {
   "cell_type": "markdown",
   "metadata": {},
   "source": [
    "# Para objetos"
   ]
  },
  {
   "cell_type": "code",
   "execution_count": 8,
   "metadata": {
    "collapsed": false
   },
   "outputs": [
    {
     "data": {
      "image/png": "[encoded data removed]",
      "text/latex": [
       "$$\\left ( \\left[\\begin{matrix}1 & 0 & t & 0 & 0.5 t^{2} & 0\\\\0 & 1 & 0 & t & 0 & 0.5 t^{2}\\\\0 & 0 & 1 & 0 & t & 0\\\\0 & 0 & 0 & 1 & 0 & t\\\\0 & 0 & 0 & 0 & 1 & 0\\\\0 & 0 & 0 & 0 & 0 & 1\\end{matrix}\\right], \\quad \\left[\\begin{matrix}p_{x}\\\\p_{y}\\\\v_{x}\\\\v_{y}\\\\a_{x}\\\\a_{y}\\end{matrix}\\right], \\quad \\left[\\begin{matrix}0.5 a_{x} t^{2} + p_{x} + t v_{x}\\\\0.5 a_{y} t^{2} + p_{y} + t v_{y}\\\\a_{x} t + v_{x}\\\\a_{y} t + v_{y}\\\\a_{x}\\\\a_{y}\\end{matrix}\\right]\\right )$$"
      ],
      "text/plain": [
       "⎛⎡                 2        ⎤         ⎡         2              ⎤⎞\n",
       "⎜⎢1  0  t  0  0.5⋅t     0   ⎥, ⎡pₓ ⎤, ⎢ 0.5⋅aₓ⋅t  + pₓ + t⋅vₓ  ⎥⎟\n",
       "⎜⎢                          ⎥  ⎢   ⎥  ⎢                        ⎥⎟\n",
       "⎜⎢                         2⎥  ⎢p_y⎥  ⎢         2              ⎥⎟\n",
       "⎜⎢0  1  0  t    0     0.5⋅t ⎥  ⎢   ⎥  ⎢0.5⋅a_y⋅t  + p_y + t⋅v_y⎥⎟\n",
       "⎜⎢                          ⎥  ⎢vₓ ⎥  ⎢                        ⎥⎟\n",
       "⎜⎢0  0  1  0    t       0   ⎥  ⎢   ⎥  ⎢       aₓ⋅t + vₓ        ⎥⎟\n",
       "⎜⎢                          ⎥  ⎢v_y⎥  ⎢                        ⎥⎟\n",
       "⎜⎢0  0  0  1    0       t   ⎥  ⎢   ⎥  ⎢      a_y⋅t + v_y       ⎥⎟\n",
       "⎜⎢                          ⎥  ⎢aₓ ⎥  ⎢                        ⎥⎟\n",
       "⎜⎢0  0  0  0    1       0   ⎥  ⎢   ⎥  ⎢           aₓ           ⎥⎟\n",
       "⎜⎢                          ⎥  ⎣a_y⎦  ⎢                        ⎥⎟\n",
       "⎝⎣0  0  0  0    0       1   ⎦         ⎣          a_y           ⎦⎠"
      ]
     },
     "execution_count": 8,
     "metadata": {},
     "output_type": "execute_result"
    }
   ],
   "source": [
    "t = symbols('t')\n",
    "p_x, v_x, a_x = symbols('p_x v_x a_x')\n",
    "p_y, v_y, a_y = symbols('p_y v_y a_y')\n",
    "x = Matrix([\n",
    "        [p_x],\n",
    "        [p_y],\n",
    "        [v_x],\n",
    "        [v_y],\n",
    "        [a_x],\n",
    "        [a_y]\n",
    "           \n",
    "    ])\n",
    "A_t = Matrix([\n",
    "        [1, 0, t, 0, 0.5*t**2, 0],\n",
    "        [0, 1, 0, t, 0, 0.5*t**2],\n",
    "        [0, 0, 1, 0, t, 0],\n",
    "        [0, 0, 0, 1, 0, t],\n",
    "        [0, 0, 0, 0, 1, 0],\n",
    "        [0, 0, 0, 0, 0, 1]\n",
    "    ])\n",
    "A_t, x, A_t*x"
   ]
  },
  {
   "cell_type": "code",
   "execution_count": 11,
   "metadata": {
    "collapsed": false
   },
   "outputs": [
    {
     "data": {
      "image/png": "[encoded data removed]",
      "text/latex": [
       "$$\\left[\\begin{matrix}t\\\\t\\\\t\\end{matrix}\\right]$$"
      ],
      "text/plain": [
       "⎡t⎤\n",
       "⎢ ⎥\n",
       "⎢t⎥\n",
       "⎢ ⎥\n",
       "⎣t⎦"
      ]
     },
     "execution_count": 11,
     "metadata": {},
     "output_type": "execute_result"
    }
   ],
   "source": [
    "u_t = Matrix([\n",
    "    [t],\n",
    "    [t],\n",
    "    [t]\n",
    "])\n",
    "u_t"
   ]
  },
  {
   "cell_type": "code",
   "execution_count": 17,
   "metadata": {
    "collapsed": false
   },
   "outputs": [
    {
     "data": {
      "image/png": "[encoded data removed]",
      "text/latex": [
       "$$\\left[\\begin{matrix}- t vr_{x}\\\\- t vr_{y}\\\\0\\\\0\\\\0\\\\0\\end{matrix}\\right]$$"
      ],
      "text/plain": [
       "⎡-t⋅vrₓ ⎤\n",
       "⎢       ⎥\n",
       "⎢-t⋅vr_y⎥\n",
       "⎢       ⎥\n",
       "⎢   0   ⎥\n",
       "⎢       ⎥\n",
       "⎢   0   ⎥\n",
       "⎢       ⎥\n",
       "⎢   0   ⎥\n",
       "⎢       ⎥\n",
       "⎣   0   ⎦"
      ]
     },
     "execution_count": 17,
     "metadata": {},
     "output_type": "execute_result"
    }
   ],
   "source": [
    "R_p, R_v, R_a = symbols(\"R_p R_v R_a\")\n",
    "vr_x, vr_y, omegar = symbols(\"vr_x, vr_y, \\\\omega\\ r\")\n",
    "\n",
    "# Matrix([\n",
    "#     -vr_x*t,\n",
    "#     -vr_y*t,\n",
    "#     0,\n",
    "#     0,\n",
    "#     0,\n",
    "#     0,\n",
    "# ])\n",
    "\n",
    "Matrix([\n",
    "    omegar*t,\n",
    "    -vr_y*t,\n",
    "    0,\n",
    "    0,\n",
    "    0,\n",
    "    0,\n",
    "])\n",
    "\n",
    "# # vr_x = 0\n",
    "# # vr_y = 0\n",
    "# # R_p = (x[0]**2 + x[1]**2)**0.5\n",
    "# # R_v = (x[2]**2 + x[3]**2)**0.5\n",
    "# # R_a = (x[4]**2 + x[5]**2)**0.5\n",
    "# # omegar = rad(90)\n",
    "# B_t = Matrix([\n",
    "#     [0, 0, 0],\n",
    "#     [0, 0, 0],\n",
    "#     [0, 0, 0],    \n",
    "#     [0, 0, 0],\n",
    "#     [0, 0, 0],\n",
    "#     [0, 0, 0],\n",
    "# ])\n",
    "# # x, (x+B_t*u_t).subs([[p_x, sqrt(2)], [p_y, sqrt(2)], [v_x, 2], [v_y, 0], [a_x, 2], [a_y, 0], [t, 1]]) # sqrt(2)\n",
    "# B_t, u_t, B_t*u_t"
   ]
  },
  {
   "cell_type": "code",
   "execution_count": null,
   "metadata": {
    "collapsed": false
   },
   "outputs": [],
   "source": [
    "eq = A_t*x + B_t*u_t\n",
    "eq"
   ]
  },
  {
   "cell_type": "code",
   "execution_count": null,
   "metadata": {
    "collapsed": false
   },
   "outputs": [],
   "source": [
    "# eq = eq.subs([[f_vr_x, 0], [f_vr_y, 0], [f_omegar, 0]]) # Sem movimentos do robô\n",
    "eq = eq.subs(t, 1) # delta de tempo 1s\n",
    "eq = eq.subs([[omegar, pi/2]]) # Velocidade angular do robo\n",
    "eq = eq.subs([[vr_x, 0], [vr_y, 0]]) # Velocidade em x e y do robo\n",
    "\n",
    "eq = eq.subs([[p_x, 0], [p_y, 0]]) # Posição incial objeto 0, 0\n",
    "eq = eq.subs([[v_x, 1], [v_y, 0]]) # velocidade incial objeto 1, 1\n",
    "eq = eq.subs([[a_x, 1], [a_y, 0]]) # aceleração incial objeto 1, 1\n",
    "eq"
   ]
  },
  {
   "cell_type": "code",
   "execution_count": null,
   "metadata": {
    "collapsed": false
   },
   "outputs": [],
   "source": [
    "eq = A_t*x + B_t*u_t\n",
    "eq = eq.subs([[f_vr_x, 1], [f_vr_y, 1], [f_omegar, 1]]) # Com movimentos do robô\n",
    "eq = eq.subs([[vr_x, 0], [vr_y, 1], [omegar, rad(180)]]) # Velocidade robô\n",
    "eq = eq.subs(t, 1) # delta de tempo 1s\n",
    "eq = eq.subs(R_p, (p_x**2 + p_y**2)**0.5) # Calculando R\n",
    "eq = eq.subs([[p_x, 2], [p_y, 0]]) # Posição incial objeto 2, 0\n",
    "eq = eq.subs([[v_x, 0], [v_y, 0]]) # velocidade incial objeto 0, 0\n",
    "eq = eq.subs([[a_x, 0], [a_y, 0]]) # velocidade incial objeto 0, 0\n",
    "eq"
   ]
  },
  {
   "cell_type": "code",
   "execution_count": null,
   "metadata": {
    "collapsed": false
   },
   "outputs": [],
   "source": [
    "eq = A_t*x + B_t*u_t\n",
    "eq"
   ]
  },
  {
   "cell_type": "markdown",
   "metadata": {
    "collapsed": false
   },
   "source": [
    "## Atualização"
   ]
  },
  {
   "cell_type": "code",
   "execution_count": null,
   "metadata": {
    "collapsed": false
   },
   "outputs": [],
   "source": [
    "z_p_x, z_p_y = symbols('z_{p_{x}} z_{p_{y}}')\n",
    "z = Matrix([\n",
    "        [z_p_x],\n",
    "        [z_p_y]\n",
    "    ])\n",
    "z"
   ]
  },
  {
   "cell_type": "code",
   "execution_count": null,
   "metadata": {
    "collapsed": false
   },
   "outputs": [],
   "source": [
    "C_t = Matrix([\n",
    "        [1, 0, 0, 0, 0, 0],\n",
    "        [0, 1, 0, 0, 0, 0]\n",
    "    ])\n",
    "C_t"
   ]
  },
  {
   "cell_type": "code",
   "execution_count": null,
   "metadata": {
    "collapsed": false
   },
   "outputs": [],
   "source": [
    "import numpy as np\n",
    "Sigma = symbols('\\\\Sigma_t')\n",
    "Sigma = Matrix(np.identity(6) * 1.0/1e-99)\n",
    "Sigma"
   ]
  },
  {
   "cell_type": "code",
   "execution_count": null,
   "metadata": {
    "collapsed": false
   },
   "outputs": [],
   "source": []
  },
  {
   "cell_type": "code",
   "execution_count": null,
   "metadata": {
    "collapsed": true
   },
   "outputs": [],
   "source": []
  }
 ],
 "metadata": {
  "kernelspec": {
   "display_name": "Python 2",
   "language": "python",
   "name": "python2"
  },
  "language_info": {
   "codemirror_mode": {
    "name": "ipython",
    "version": 2
   },
   "file_extension": ".py",
   "mimetype": "text/x-python",
   "name": "python",
   "nbconvert_exporter": "python",
   "pygments_lexer": "ipython2",
   "version": "2.7.6"
  }
 },
 "nbformat": 4,
 "nbformat_minor": 1
}
