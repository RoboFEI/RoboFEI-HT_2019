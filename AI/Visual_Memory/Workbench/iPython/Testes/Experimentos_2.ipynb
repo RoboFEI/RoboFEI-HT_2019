{
 "cells": [
  {
   "cell_type": "markdown",
   "metadata": {},
   "source": [
    "# Experimento mestrado 2 - Ex 1\n",
    "## Executando na pasta principal"
   ]
  },
  {
   "cell_type": "code",
   "execution_count": 1,
   "metadata": {},
   "outputs": [],
   "source": [
    "import os\n",
    "import numpy as np\n",
    "import pandas as pd\n",
    "import time\n",
    "import matplotlib.pyplot as plt\n",
    "%matplotlib inline\n",
    "os.chdir('../../../../') #Executando na pasta Visual_Memory\n",
    "import sys\n",
    "sys.path.append('./include')\n",
    "sys.path.append('./src')"
   ]
  },
  {
   "cell_type": "markdown",
   "metadata": {},
   "source": [
    "### Criando lista de videos "
   ]
  },
  {
   "cell_type": "code",
   "execution_count": 2,
   "metadata": {},
   "outputs": [],
   "source": [
    "address = \"/home/fei/Videos/Ex1\"\n",
    "Files = os.listdir(address)\n",
    "Files.sort()"
   ]
  },
  {
   "cell_type": "code",
   "execution_count": 3,
   "metadata": {},
   "outputs": [],
   "source": [
    "filesrob = []\n",
    "filescel = []\n",
    "for video in Files:\n",
    "    if video.find('cel') == -1:\n",
    "        filesrob.append(video)\n",
    "    else:\n",
    "        filescel.append(video)\n",
    "\n",
    "Files = zip(filesrob, filescel)"
   ]
  },
  {
   "cell_type": "markdown",
   "metadata": {},
   "source": [
    "### Preparando sistema:"
   ]
  },
  {
   "cell_type": "code",
   "execution_count": 4,
   "metadata": {},
   "outputs": [],
   "source": [
    "# Files = Files[:2]\n",
    "# print Files"
   ]
  },
  {
   "cell_type": "code",
   "execution_count": 5,
   "metadata": {},
   "outputs": [
    {
     "ename": "KeyboardInterrupt",
     "evalue": "",
     "output_type": "error",
     "traceback": [
      "\u001b[0;31m---------------------------------------------------------------------------\u001b[0m",
      "\u001b[0;31mKeyboardInterrupt\u001b[0m                         Traceback (most recent call last)",
      "\u001b[0;32m<ipython-input-5-618bd9bb1164>\u001b[0m in \u001b[0;36m<module>\u001b[0;34m()\u001b[0m\n\u001b[1;32m     33\u001b[0m \u001b[0;34m\u001b[0m\u001b[0m\n\u001b[1;32m     34\u001b[0m     \u001b[0;32mwhile\u001b[0m \u001b[0mos\u001b[0m\u001b[0;34m.\u001b[0m\u001b[0msystem\u001b[0m\u001b[0;34m(\u001b[0m\u001b[0;34m\"pidof -x ./runvision.sh\"\u001b[0m\u001b[0;34m)\u001b[0m \u001b[0;34m==\u001b[0m \u001b[0;36m0\u001b[0m\u001b[0;34m:\u001b[0m\u001b[0;34m\u001b[0m\u001b[0m\n\u001b[0;32m---> 35\u001b[0;31m         \u001b[0mtime\u001b[0m\u001b[0;34m.\u001b[0m\u001b[0msleep\u001b[0m\u001b[0;34m(\u001b[0m\u001b[0;36m1\u001b[0m\u001b[0;34m)\u001b[0m\u001b[0;34m\u001b[0m\u001b[0m\n\u001b[0m\u001b[1;32m     36\u001b[0m \u001b[0;34m\u001b[0m\u001b[0m\n\u001b[1;32m     37\u001b[0m     \u001b[0mos\u001b[0m\u001b[0;34m.\u001b[0m\u001b[0msystem\u001b[0m\u001b[0;34m(\u001b[0m\u001b[0;34m\"kill $(pidof -x ./runvisualmemory.sh)\"\u001b[0m\u001b[0;34m)\u001b[0m\u001b[0;34m\u001b[0m\u001b[0m\n",
      "\u001b[0;31mKeyboardInterrupt\u001b[0m: "
     ]
    }
   ],
   "source": [
    "os.system(\"mkdir Ex1\")\n",
    "listTime = []\n",
    "for vision, debug in Files:\n",
    "    # Criando sh da visão\n",
    "    text = open(\"./runvision.sh\", \"w\")\n",
    "    text.write(\"#!/bin/bash\\nPYTHONPATH=~/models/research/slim:~/models/research/object_detection:~/models/research:$PYTHONPATH\\n\\ncd Vision/\\npython vision.py --dnn --v \" + address + \"/\" + vision)\n",
    "    text.close()\n",
    "    os.system(\"chmod 755 runvision.sh\")\n",
    "    \n",
    "    # Criando sh da Visual Memory\n",
    "    text = open(\"./runvisualmemory.sh\", \"w\")\n",
    "    text.write(\"#!/bin/bash\\n\\ncd Visual_Memory/\\npython visualMemory.py --d --sd --nr 3 --p 333\")\n",
    "    text.close()\n",
    "    os.system(\"chmod 755 runvisualmemory.sh\")\n",
    "\n",
    "    # Limpando bkb\n",
    "    os.system(\"screen -d -m -S 'Vision' './runvision.sh'\")\n",
    "    time.sleep(3)\n",
    "    os.system(\"kill $(pidof -x ./runvision.sh)\")\n",
    "    \n",
    "    #Executando Visual Memory\n",
    "    os.system(\"screen -d -m -S 'VisualMemory' './runvisualmemory.sh'\")\n",
    "    os.system(\"gnome-terminal -x sh -c 'screen -R VisualMemory'\")\n",
    "    \n",
    "    #Executando visão[tempo, x, y, vx, vy, ex, ey, evx, evy, cx, cy, cvx, cvy, time]\n",
    "    os.system(\"screen -d -m -S 'Vision' './runvision.sh'\")\n",
    "#     os.system(\"gnome-terminal -x sh -c 'screen -R Vision'\")\n",
    "    \n",
    "    #Vendo video\n",
    "#     os.system(\"gnome-terminal -x sh -c 'sleep 4 && vlc \" + address + \"/\" + debug + \"'\")\n",
    "    \n",
    "    listTime.append([vision.split(\"_\")[0], time.time()])\n",
    "    \n",
    "    while os.system(\"pidof -x ./runvision.sh\") == 0:\n",
    "        time.sleep(1)\n",
    "    \n",
    "    os.system(\"kill $(pidof -x ./runvisualmemory.sh)\")\n",
    "    os.system(\"kill $(pidof -x ./runvision.sh)\")\n",
    "    os.system(\"kill $(pidof -x vlc)\")\n",
    "    \n",
    "    os.system(\"mv ./Visual_Memory/Data/Thread-1-Robots.npy ./Ex1/\" + vision.split(\"_\")[0] + \".npy\")\n",
    "    \n",
    "    os.system(\"sleep 5\")\n",
    "\n",
    "text = open(\"./time.txt\", \"w\")\n",
    "text.write(str(listTime))\n",
    "text.close()\n",
    "raw_input(\"Esperando..\")"
   ]
  },
  {
   "cell_type": "code",
   "execution_count": null,
   "metadata": {},
   "outputs": [],
   "source": [
    "address = \"./Ex1\"\n",
    "Files = os.listdir(address)\n",
    "Files.sort()\n",
    "listData = []\n",
    "for name in Files:\n",
    "#     print address + \"/\" + name\n",
    "    dataRob = np.load(address + \"/\" + name)\n",
    "    dataExp = []\n",
    "    for tempo, [x, y, vx, vy], [ex, ey, evx, evy], [cx, cy, cvx, cvy], t in dataRob:\n",
    "        dataExp.append([tempo, x, y, vx, vy, ex, ey, evx, evy, cx, cy, cvx, cvy, t])\n",
    "    dataExp = pd.DataFrame(\n",
    "        dataExp,\n",
    "        columns=[\n",
    "            \"Tempo\",\n",
    "            \"Posição X\",\n",
    "            \"Posição Y\",\n",
    "            \"Velocidade X\",\n",
    "            \"Velocidade Y\",\n",
    "            \"Erro PX\",\n",
    "            \"Erro PY\",\n",
    "            \"Erro VX\",\n",
    "            \"Erro VY\",\n",
    "            \"Covariância PX\",\n",
    "            \"Covariância PY\",\n",
    "            \"Covariância VX\",\n",
    "            \"Covariância VY\",\n",
    "            \"Time\",\n",
    "        ]\n",
    "    )\n",
    "#     dataExp[\"Tempo\"] = dataExp[\"Tempo\"] - dataExp[\"Tempo\"][0]\n",
    "    listData.append(dataExp)"
   ]
  },
  {
   "cell_type": "code",
   "execution_count": null,
   "metadata": {},
   "outputs": [],
   "source": [
    "listTime = pd.DataFrame(\n",
    "    np.loadtxt(\"time.txt\")[:,1],\n",
    "    index = [str(int(i)) for i in np.loadtxt(\"time.txt\")[:,0]]\n",
    ")\n",
    "for data, time in zip(listData, listTime[0]):\n",
    "    data[\"Tempo\"] = data[\"Tempo\"] - time"
   ]
  },
  {
   "cell_type": "code",
   "execution_count": null,
   "metadata": {},
   "outputs": [],
   "source": [
    "listData[0]"
   ]
  },
  {
   "cell_type": "code",
   "execution_count": null,
   "metadata": {},
   "outputs": [],
   "source": [
    "interposy = listData[0][\"Posição Y\"].values\n",
    "interposy\n",
    "\n",
    "listData[0][\"Erro PY\"] = listData[0][\"Erro PY\"].values.astype(float)\n",
    "intererry = listData[0][\"Erro PY\"].values\n",
    "intererry\n",
    "\n",
    "vel = ((600/max(listData[0][\"Tempo\"]))*listData[0][\"Tempo\"] - 300).values\n",
    "\n",
    "for data in listData[1:]:\n",
    "    newposy = np.interp(\n",
    "        listData[0][\"Tempo\"],\n",
    "        data[\"Tempo\"],\n",
    "        data[\"Posição Y\"]\n",
    "    )\n",
    "    \n",
    "    data[\"Erro PY\"] = data[\"Erro PY\"].values.astype(float)\n",
    "    newerry = np.interp(\n",
    "        listData[0][\"Tempo\"],\n",
    "        data[\"Tempo\"],\n",
    "        data[\"Erro PY\"]\n",
    "    )\n",
    "    \n",
    "    b = np.interp(\n",
    "        listData[0][\"Tempo\"],\n",
    "        data[\"Tempo\"],\n",
    "        ((600/max(data[\"Tempo\"]))*data[\"Tempo\"] - 300).values\n",
    "    )\n",
    "    \n",
    "    try:\n",
    "        interposy = np.append(interposy, [newposy], axis=0)\n",
    "        intererry = np.append(intererry, [newerry], axis=0)\n",
    "        vel = np.append(vel, [b], axis=0)\n",
    "    except ValueError:\n",
    "        interposy = np.append([interposy], [newposy], axis=0)\n",
    "        intererry = np.append([intererry], [newerry], axis=0)\n",
    "        vel = np.append([vel], [b], axis=0)"
   ]
  },
  {
   "cell_type": "code",
   "execution_count": null,
   "metadata": {},
   "outputs": [],
   "source": [
    "# zip(interposy.mean(axis=0), np.sqrt(interposy.var(axis=0)))\n",
    "# zip(intererry.mean(axis=0), np.sqrt(intererry.var(axis=0)))\n",
    "# zip(vel.mean(axis=0), np.sqrt(vel.var(axis=0)))"
   ]
  },
  {
   "cell_type": "code",
   "execution_count": null,
   "metadata": {},
   "outputs": [],
   "source": [
    "t = max(listData[0][\"Tempo\"])\n",
    "# t = 0\n",
    "print \"Conta x:\", (600/max(listData[0][\"Tempo\"]))*t - 300, \"cm\\nVelocidade:\", (600/max(listData[0][\"Tempo\"])), \"cm/s\""
   ]
  },
  {
   "cell_type": "code",
   "execution_count": null,
   "metadata": {},
   "outputs": [],
   "source": [
    "def moving_average(a, n=3) :\n",
    "    ret = np.cumsum(a, dtype=float)\n",
    "    ret[n:] = ret[n:] - ret[:-n]\n",
    "    return ret[n - 1:] / n"
   ]
  },
  {
   "cell_type": "code",
   "execution_count": null,
   "metadata": {},
   "outputs": [],
   "source": [
    "os.system(\"mkdir /home/fei/Imagens/\")\n",
    "os.system(\"sleep 3\")"
   ]
  },
  {
   "cell_type": "code",
   "execution_count": null,
   "metadata": {},
   "outputs": [],
   "source": [
    "limit = 100\n",
    "\n",
    "# plt.figure(figsize = (12,8))\n",
    "plt.plot(\n",
    "    listData[0][\"Tempo\"], # Tempo\n",
    "    vel.mean(axis = 0), # Desejado\n",
    "    \"r\", # Cor e padrão\n",
    "    label = u\"Posição\",\n",
    ")\n",
    "\n",
    "plt.errorbar(\n",
    "    listData[0][\"Tempo\"], # Tempo\n",
    "    interposy.mean(axis = 0), # Posição\n",
    "    yerr = np.clip(intererry.mean(axis = 0), -limit, limit), # Erro Y\n",
    "    color = \"b\", # Cor e padrão\n",
    "    label = u\"Médias dos experimentos\",\n",
    ")\n",
    "\n",
    "plt.legend(loc = 2)\n",
    "plt.xlabel(u\"Tempo (s)\")\n",
    "plt.ylabel(u\"Posição em Y (cm)\")\n",
    "# plt.title(u\"Distância do rôbo em Y pelo tempo\")\n",
    "\n",
    "plt.grid()\n",
    "plt.savefig(\"/home/fei/Imagens/ex1graf1.png\", dpi = 720)"
   ]
  },
  {
   "cell_type": "code",
   "execution_count": null,
   "metadata": {},
   "outputs": [],
   "source": [
    "for data, time in zip(listData, listTime[0]):\n",
    "    data[\"Posição Y\"] = abs((600/max(data[\"Tempo\"]))*data[\"Tempo\"] - 300 - data[\"Posição Y\"])"
   ]
  },
  {
   "cell_type": "code",
   "execution_count": null,
   "metadata": {},
   "outputs": [],
   "source": [
    "interposy = listData[0][\"Posição Y\"].values\n",
    "interposy\n",
    "\n",
    "listData[0][\"Erro PY\"] = listData[0][\"Erro PY\"].values.astype(float)\n",
    "intererry = listData[0][\"Erro PY\"].values\n",
    "intererry\n",
    "\n",
    "vel = ((600/max(listData[0][\"Tempo\"]))*listData[0][\"Tempo\"] - 300).values\n",
    "\n",
    "for data in listData[1:]:\n",
    "    newposy = np.interp(\n",
    "        listData[0][\"Tempo\"],\n",
    "        data[\"Tempo\"],\n",
    "        data[\"Posição Y\"]\n",
    "    )\n",
    "    \n",
    "    data[\"Erro PY\"] = data[\"Erro PY\"].values.astype(float)\n",
    "    newerry = np.interp(\n",
    "        listData[0][\"Tempo\"],\n",
    "        data[\"Tempo\"],\n",
    "        data[\"Erro PY\"]\n",
    "    )\n",
    "    \n",
    "    b = np.interp(\n",
    "        listData[0][\"Tempo\"],\n",
    "        data[\"Tempo\"],\n",
    "        ((600/max(data[\"Tempo\"]))*data[\"Tempo\"] - 300).values\n",
    "    )\n",
    "    \n",
    "    try:\n",
    "        interposy = np.append(interposy, [newposy], axis=0)\n",
    "        intererry = np.append(intererry, [newerry], axis=0)\n",
    "        vel = np.append(vel, [b], axis=0)\n",
    "    except ValueError:\n",
    "        interposy = np.append([interposy], [newposy], axis=0)\n",
    "        intererry = np.append([intererry], [newerry], axis=0)\n",
    "        vel = np.append([vel], [b], axis=0)"
   ]
  },
  {
   "cell_type": "code",
   "execution_count": null,
   "metadata": {},
   "outputs": [],
   "source": [
    "# plt.figure(figsize=(12,8))\n",
    "plt.plot(\n",
    "    listData[0][\"Tempo\"], # Tempo\n",
    "    interposy.mean(axis = 0), # Desejado\n",
    "    \"r\", # Cor e padrão\n",
    "    label = u\"Erro Y\",\n",
    ")\n",
    "\n",
    "# plt.axhline(\n",
    "#     interposy.mean( ),\n",
    "#     color = 'b',\n",
    "#     linestyle = '--',\n",
    "#     label = u\"Média\",\n",
    "# )\n",
    "\n",
    "# plt.legend(loc = 2)\n",
    "plt.xlabel(u\"Tempo (s)\")\n",
    "plt.ylabel(u\"Erro em Y (cm)\")\n",
    "# plt.title(u\"Erro de distância em Y pelo tempo\")\n",
    "\n",
    "plt.grid()\n",
    "plt.savefig(\"/home/fei/Imagens/ex1graf2.png\", dpi = 720)"
   ]
  },
  {
   "cell_type": "code",
   "execution_count": null,
   "metadata": {},
   "outputs": [],
   "source": [
    "interposy = interposy.mean(axis=0)"
   ]
  },
  {
   "cell_type": "code",
   "execution_count": null,
   "metadata": {},
   "outputs": [],
   "source": [
    "print interposy.mean(), \"±\", np.sqrt(interposy.var( )), \"cm\""
   ]
  },
  {
   "cell_type": "code",
   "execution_count": null,
   "metadata": {},
   "outputs": [],
   "source": [
    "os.system(\"mkdir /home/fei/Dados/\")\n",
    "os.system(\"sleep 3\")\n",
    "\n",
    "with open(\"/home/fei/Dados/media.txt\", \"w\") as f:\n",
    "    f.write(str(round(interposy.mean( ), 2)))\n",
    "\n",
    "with open(\"/home/fei/Dados/desvio.txt\", \"w\") as f:\n",
    "    f.write(str(round(np.sqrt(interposy.var( )), 2)))"
   ]
  }
 ],
 "metadata": {
  "kernelspec": {
   "display_name": "Python 2",
   "language": "python",
   "name": "python2"
  },
  "language_info": {
   "codemirror_mode": {
    "name": "ipython",
    "version": 2
   },
   "file_extension": ".py",
   "mimetype": "text/x-python",
   "name": "python",
   "nbconvert_exporter": "python",
   "pygments_lexer": "ipython2",
   "version": "2.7.12"
  }
 },
 "nbformat": 4,
 "nbformat_minor": 1
}
