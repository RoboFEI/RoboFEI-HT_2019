{
 "cells": [
  {
   "cell_type": "code",
   "execution_count": 1,
   "metadata": {
    "collapsed": true
   },
   "outputs": [],
   "source": [
    "from sympy import *\n",
    "import numpy as np\n",
    "init_printing()"
   ]
  },
  {
   "cell_type": "code",
   "execution_count": 2,
   "metadata": {
    "collapsed": false
   },
   "outputs": [],
   "source": [
    "Vr_x, Vr_y, omegar, t = symbols(\"Vr_x Vr_y omega_r t\") #robot\n",
    "X, Y, V_x, V_y, A_x, A_y = symbols(\"X Y V_x V_y A_x A_y\") #tragetoria\n",
    "A, B = symbols(\"a b\") #tragetoria\n",
    "a = cos(omegar*t)\n",
    "b = sin(omegar*t)"
   ]
  },
  {
   "cell_type": "code",
   "execution_count": 3,
   "metadata": {
    "collapsed": false
   },
   "outputs": [],
   "source": [
    "# x = Vr_x*t*a - Vr_y*t*b\n",
    "# y = Vr_x*t*b + Vr_y*t*a\n",
    "# x, y"
   ]
  },
  {
   "cell_type": "code",
   "execution_count": 4,
   "metadata": {
    "collapsed": false
   },
   "outputs": [
    {
     "data": {
      "image/png": "[encoded data removed]",
      "text/latex": [
       "$$\\left ( Vr_{x} \\cos{\\left (\\omega_{r} t \\right )} - Vr_{y} \\sin{\\left (\\omega_{r} t \\right )}, \\quad Vr_{x} \\sin{\\left (\\omega_{r} t \\right )} + Vr_{y} \\cos{\\left (\\omega_{r} t \\right )}\\right )$$"
      ],
      "text/plain": [
       "(Vrₓ⋅cos(ωᵣ⋅t) - Vr_y⋅sin(ωᵣ⋅t), Vrₓ⋅sin(ωᵣ⋅t) + Vr_y⋅cos(ωᵣ⋅t))"
      ]
     },
     "execution_count": 4,
     "metadata": {},
     "output_type": "execute_result"
    }
   ],
   "source": [
    "v_x = Vr_x*a - Vr_y*b\n",
    "v_y = Vr_x*b + Vr_y*a\n",
    "v_x, v_y"
   ]
  },
  {
   "cell_type": "code",
   "execution_count": 5,
   "metadata": {
    "collapsed": false
   },
   "outputs": [
    {
     "data": {
      "image/png": "[encoded data removed]",
      "text/latex": [
       "$$\\left ( - Vr_{x} \\omega_{r} \\sin{\\left (\\omega_{r} t \\right )} - Vr_{y} \\omega_{r} \\cos{\\left (\\omega_{r} t \\right )}, \\quad Vr_{x} \\omega_{r} \\cos{\\left (\\omega_{r} t \\right )} - Vr_{y} \\omega_{r} \\sin{\\left (\\omega_{r} t \\right )}\\right )$$"
      ],
      "text/plain": [
       "(-Vrₓ⋅ωᵣ⋅sin(ωᵣ⋅t) - Vr_y⋅ωᵣ⋅cos(ωᵣ⋅t), Vrₓ⋅ωᵣ⋅cos(ωᵣ⋅t) - Vr_y⋅ωᵣ⋅sin(ωᵣ⋅t))"
      ]
     },
     "execution_count": 5,
     "metadata": {},
     "output_type": "execute_result"
    }
   ],
   "source": [
    "a_x = expand_trig(diff(v_x,t))\n",
    "a_y = expand_trig(diff(v_y,t))\n",
    "a_x, a_y"
   ]
  },
  {
   "cell_type": "code",
   "execution_count": 6,
   "metadata": {
    "collapsed": false
   },
   "outputs": [],
   "source": [
    "# x = x.subs([\n",
    "#     [a, A],\n",
    "#     [b, B],\n",
    "# ])\n",
    "# y = y.subs([\n",
    "#     [a, A],\n",
    "#     [b, B],\n",
    "# ])\n",
    "# x, y"
   ]
  },
  {
   "cell_type": "code",
   "execution_count": 7,
   "metadata": {
    "collapsed": false
   },
   "outputs": [
    {
     "data": {
      "image/png": "[encoded data removed]",
      "text/latex": [
       "$$\\left ( Vr_{x} a - Vr_{y} b, \\quad Vr_{x} b + Vr_{y} a\\right )$$"
      ],
      "text/plain": [
       "(Vrₓ⋅a - Vr_y⋅b, Vrₓ⋅b + Vr_y⋅a)"
      ]
     },
     "execution_count": 7,
     "metadata": {},
     "output_type": "execute_result"
    }
   ],
   "source": [
    "v_x = v_x.subs([\n",
    "    [a, A],\n",
    "    [b, B],\n",
    "])\n",
    "v_y = v_y.subs([\n",
    "    [a, A],\n",
    "    [b, B],\n",
    "])\n",
    "v_x, v_y"
   ]
  },
  {
   "cell_type": "code",
   "execution_count": 8,
   "metadata": {
    "collapsed": false
   },
   "outputs": [
    {
     "data": {
      "image/png": "[encoded data removed]",
      "text/latex": [
       "$$\\left ( - Vr_{x} b \\omega_{r} - Vr_{y} a \\omega_{r}, \\quad Vr_{x} a \\omega_{r} - Vr_{y} b \\omega_{r}\\right )$$"
      ],
      "text/plain": [
       "(-Vrₓ⋅b⋅ωᵣ - Vr_y⋅a⋅ωᵣ, Vrₓ⋅a⋅ωᵣ - Vr_y⋅b⋅ωᵣ)"
      ]
     },
     "execution_count": 8,
     "metadata": {},
     "output_type": "execute_result"
    }
   ],
   "source": [
    "a_x = a_x.subs([\n",
    "    [a, A],\n",
    "    [b, B],\n",
    "])\n",
    "a_y = a_y.subs([\n",
    "    [a, A],\n",
    "    [b, B],\n",
    "])\n",
    "a_x, a_y"
   ]
  },
  {
   "cell_type": "code",
   "execution_count": 9,
   "metadata": {
    "collapsed": false
   },
   "outputs": [
    {
     "data": {
      "image/png": "[encoded data removed]",
      "text/latex": [
       "$$\\emptyset$$"
      ],
      "text/plain": [
       "∅"
      ]
     },
     "execution_count": 9,
     "metadata": {},
     "output_type": "execute_result"
    }
   ],
   "source": [
    "#     x - X,\n",
    "#     y - Y,\n",
    "#     a_x - A_x,\n",
    "#     a_y - A_y,\n",
    "#     A**2 + A**2 -1\n",
    "\n",
    "resolucao = linsolve([\n",
    "    v_x - V_x,\n",
    "    v_y - V_y,\n",
    "    (a_x - A_x),\n",
    "    (a_y - a_y),\n",
    "    A**2 + B**2 - 1\n",
    "], (Vr_x, Vr_y, A, B, omegar))\n",
    "resolucao"
   ]
  },
  {
   "cell_type": "code",
   "execution_count": 10,
   "metadata": {
    "collapsed": false
   },
   "outputs": [
    {
     "data": {
      "image/png": "[encoded data removed]",
      "text/latex": [
       "$$0$$"
      ],
      "text/plain": [
       "0"
      ]
     },
     "execution_count": 10,
     "metadata": {},
     "output_type": "execute_result"
    }
   ],
   "source": [
    "a - sin(pi/2)*a + cos(pi/2)"
   ]
  },
  {
   "cell_type": "code",
   "execution_count": 11,
   "metadata": {
    "collapsed": false
   },
   "outputs": [
    {
     "data": {
      "image/png": "[encoded data removed]",
      "text/latex": [
       "$$\\frac{b t^{4}}{24}$$"
      ],
      "text/plain": [
       "   4\n",
       "b⋅t \n",
       "────\n",
       " 24 "
      ]
     },
     "execution_count": 11,
     "metadata": {},
     "output_type": "execute_result"
    }
   ],
   "source": [
    "integrate(integrate((B*t**2)/2, t), t)"
   ]
  },
  {
   "cell_type": "code",
   "execution_count": null,
   "metadata": {
    "collapsed": true
   },
   "outputs": [],
   "source": []
  }
 ],
 "metadata": {
  "kernelspec": {
   "display_name": "Python 2",
   "language": "python",
   "name": "python2"
  },
  "language_info": {
   "codemirror_mode": {
    "name": "ipython",
    "version": 2
   },
   "file_extension": ".py",
   "mimetype": "text/x-python",
   "name": "python",
   "nbconvert_exporter": "python",
   "pygments_lexer": "ipython2",
   "version": "2.7.6"
  }
 },
 "nbformat": 4,
 "nbformat_minor": 1
}
