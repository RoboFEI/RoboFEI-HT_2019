{
 "cells": [
  {
   "cell_type": "code",
   "execution_count": 1,
   "metadata": {
    "collapsed": true
   },
   "outputs": [],
   "source": [
    "# ini-iPython"
   ]
  },
  {
   "cell_type": "markdown",
   "metadata": {},
   "source": [
    "# Executando no diretório principal"
   ]
  },
  {
   "cell_type": "code",
   "execution_count": 2,
   "metadata": {
    "collapsed": true
   },
   "outputs": [],
   "source": [
    "import os\n",
    "os.chdir('/home/vinicius/Dropbox/Projeto Mestrado/Codigos/RoboFEI-HT_Debug/AI/Visual_Memory') #Executando na pasta Visual_Memory\n",
    "import sys\n",
    "sys.path.append('./include')\n",
    "sys.path.append('./src')\n",
    "sys.path.append('./iPython')\n",
    "# end-iPython"
   ]
  },
  {
   "cell_type": "markdown",
   "metadata": {
    "collapsed": true
   },
   "source": [
    "---- Imports ----"
   ]
  },
  {
   "cell_type": "code",
   "execution_count": 3,
   "metadata": {
    "collapsed": true
   },
   "outputs": [],
   "source": [
    "# Libraries to be used.\n",
    "import sys\n",
    "#des-iPython sys.path.append('../include')\n",
    "#des-iPython sys.path.append('../src')"
   ]
  },
  {
   "cell_type": "code",
   "execution_count": 4,
   "metadata": {
    "collapsed": true
   },
   "outputs": [],
   "source": [
    "# The standard libraries used in the vision system.\n"
   ]
  },
  {
   "cell_type": "code",
   "execution_count": 5,
   "metadata": {
    "collapsed": false
   },
   "outputs": [],
   "source": [
    "# Used class developed by RoboFEI-HT.\n",
    "from Landmark import *\n",
    "from Robots import *\n",
    "sym.init_printing() #debug-iPython"
   ]
  },
  {
   "cell_type": "code",
   "execution_count": 6,
   "metadata": {
    "collapsed": false
   },
   "outputs": [],
   "source": [
    "me = Speeds( )\n",
    "land = Landmark(me)\n",
    "rob = Robots(me)"
   ]
  },
  {
   "cell_type": "code",
   "execution_count": 7,
   "metadata": {
    "collapsed": false
   },
   "outputs": [
    {
     "name": "stdout",
     "output_type": "stream",
     "text": [
      "{'time': 0.0, 'pos': [7.0050102737406315, -0.002537059168439877], 'movement': 1} \n",
      "\n",
      "Matrix([[7.00], [0], [0], [0]]) Matrix([\n",
      "[0.01,    0,      0,      0],\n",
      "[   0, 0.01,      0,      0],\n",
      "[   0,    0, 2.0e+3,      0],\n",
      "[   0,    0,      0, 2.0e+3]]) \n",
      "\n",
      "{'time': 0.5, 'pos': [6.958971166322927, 1.0294803245576587], 'movement': 1} \n",
      "\n",
      "Matrix([[6.96], [1.03], [0], [4.90]]) Matrix([\n",
      "[0.01,    0, 0.02,    0],\n",
      "[   0, 0.01,    0, 0.02],\n",
      "[0.02,    0, 58.9,    0],\n",
      "[   0, 0.02,    0, 58.9]]) \n",
      "\n",
      "{'time': 1.0, 'pos': [6.769462876169918, -2.2371418354178356], 'movement': 1} \n",
      "\n",
      "Matrix([[6.77], [-2.23], [2.01], [-3.90]]) Matrix([\n",
      "[0.00999,       0, 0.02,    0],\n",
      "[      0, 0.00999,    0, 0.02],\n",
      "[   0.02,       0, 0.26,    0],\n",
      "[      0,    0.02,    0, 0.26]]) \n",
      "\n",
      "{'time': 1.5, 'pos': [6.400073774200656, -3.6226555208747246], 'movement': 1} \n",
      "\n",
      "Matrix([[6.45], [-3.80], [0.226], [-0.401]]) Matrix([\n",
      "[0.00912,       0, 0.0149,      0],\n",
      "[      0, 0.00912,      0, 0.0149],\n",
      "[ 0.0149,       0,  0.103,      0],\n",
      "[      0,  0.0149,      0,  0.103]]) \n",
      "\n",
      "{'time': 2.0, 'pos': [5.788533928819991, -5.146297947780803], 'movement': 1} \n",
      "\n",
      "Matrix([[5.75], [-5.18], [0.502], [-0.0844]]) Matrix([\n",
      "[0.00854,       0, 0.0119,      0],\n",
      "[      0, 0.00854,      0, 0.0119],\n",
      "[ 0.0119,       0, 0.0551,      0],\n",
      "[      0,  0.0119,      0, 0.0551]]) \n",
      "\n",
      "{'time': 2.5, 'pos': [4.860282558020094, -6.767315834581327], 'movement': 1} \n",
      "\n",
      "Matrix([[4.83], [-6.72], [0.649], [-0.318]]) Matrix([\n",
      "[0.00809,       0, 0.00977,       0],\n",
      "[      0, 0.00809,       0, 0.00977],\n",
      "[0.00977,       0,  0.0341,       0],\n",
      "[      0, 0.00977,       0,  0.0341]]) \n",
      "\n",
      "{'time': 3.0, 'pos': [3.60919479569822, -8.398041150981406], 'movement': 1} \n",
      "\n",
      "Matrix([[3.61], [-8.33], [0.668], [-0.655]]) Matrix([\n",
      "[0.00773,       0, 0.0082,      0],\n",
      "[      0, 0.00773,      0, 0.0082],\n",
      "[ 0.0082,       0,  0.023,      0],\n",
      "[      0,  0.0082,      0,  0.023]]) \n",
      "\n",
      "{'time': 3.5, 'pos': [1.9753629842196747, -9.96730283303469], 'movement': 1} \n",
      "\n",
      "Matrix([[2.03], [-9.90], [0.639], [-0.982]]) Matrix([\n",
      "[0.00742,       0, 0.00702,       0],\n",
      "[      0, 0.00742,       0, 0.00702],\n",
      "[0.00702,       0,  0.0165,       0],\n",
      "[      0, 0.00702,       0,  0.0165]]) \n",
      "\n"
     ]
    }
   ],
   "source": [
    "import random\n",
    "random.seed(time.time())\n",
    "\n",
    "# # Vx = 1  Vy = 0.1  omega = 0\n",
    "# lista = [\n",
    "#     [{\"movement\": 1, \"pos\": [+6.00, +3.00], \"time\": 0.0,}, {\"movement\": 1, \"pos\": [+7.00, +0.00], \"time\": 0.0,}],\n",
    "#     [{\"movement\": 1, \"pos\": [+5.50, +2.95], \"time\": 0.5,}, {\"movement\": 1, \"pos\": [+6.50, -0.05], \"time\": 0.5,}],\n",
    "#     [{\"movement\": 1, \"pos\": [+5.00, +2.90], \"time\": 1.0,}, {\"movement\": 1, \"pos\": [+6.00, -0.10], \"time\": 1.0,}],\n",
    "#     [{\"movement\": 1, \"pos\": [+4.50, +2.85], \"time\": 1.5,}, {\"movement\": 1, \"pos\": [+5.50, -0.15], \"time\": 1.5,}],\n",
    "#     [{\"movement\": 1, \"pos\": [+4.00, +2.80], \"time\": 2.0,}, {\"movement\": 1, \"pos\": [+5.00, -0.20], \"time\": 2.0,}],\n",
    "#     [{\"movement\": 1, \"pos\": [+3.50, +2.75], \"time\": 2.5,}, {\"movement\": 1, \"pos\": [+4.50, -0.25], \"time\": 2.5,}],\n",
    "#     [{\"movement\": 1, \"pos\": [+3.00, +2.70], \"time\": 3.0,}, {\"movement\": 1, \"pos\": [+4.00, -0.30], \"time\": 3.0,}],\n",
    "#     [{\"movement\": 1, \"pos\": [+2.50, +2.65], \"time\": 3.5,}, {\"movement\": 1, \"pos\": [+3.50, -0.35], \"time\": 3.5,}],\n",
    "#     [{\"movement\": 1, \"pos\": [+2.00, +2.60], \"time\": 4.0,}, {\"movement\": 1, \"pos\": [+3.00, -0.40], \"time\": 4.0,}],\n",
    "#     [{\"movement\": 1, \"pos\": [+1.50, +2.55], \"time\": 4.5,}, {\"movement\": 1, \"pos\": [+2.50, -0.45], \"time\": 4.5,}],\n",
    "#     [{\"movement\": 1, \"pos\": [+1.00, +2.50], \"time\": 5.0,}, {\"movement\": 1, \"pos\": [+2.00, -0.50], \"time\": 5.0,}],\n",
    "#     [{\"movement\": 1, \"pos\": [+0.50, +2.45], \"time\": 5.5,}, {\"movement\": 1, \"pos\": [+1.50, -0.55], \"time\": 5.5,}],\n",
    "#     [{\"movement\": 1, \"pos\": [+0.00, +2.40], \"time\": 6.0,}, {\"movement\": 1, \"pos\": [+1.00, -0.60], \"time\": 6.0,}],\n",
    "#     [{\"movement\": 1, \"pos\": [-0.50, +2.35], \"time\": 6.5,}, {\"movement\": 1, \"pos\": [+0.50, -0.65], \"time\": 6.5,}],\n",
    "#     [{\"movement\": 1, \"pos\": [-1.00, +2.30], \"time\": 7.0,}, {\"movement\": 1, \"pos\": [+0.00, -0.70], \"time\": 7.0,}],\n",
    "#     [{\"movement\": 1, \"pos\": [-1.50, +2.25], \"time\": 7.5,}, {\"movement\": 1, \"pos\": [-0.50, -0.75], \"time\": 7.5,}],\n",
    "# ]\n",
    "\n",
    "# # Vx = 1  Vy = 0 omega = 0  vox = 1 voy = 1\n",
    "# lista = [\n",
    "#     [{\"movement\": 1, \"pos\": [+6.00, +3.00], \"time\": 0.0,}, {\"movement\": 1, \"pos\": [+7.00, +0.00], \"time\": 0.0,}],\n",
    "#     [{\"movement\": 1, \"pos\": [+5.50, +3.00], \"time\": 0.5,}, {\"movement\": 1, \"pos\": [+7.00, -0.50], \"time\": 0.5,}],\n",
    "#     [{\"movement\": 1, \"pos\": [+5.00, +3.00], \"time\": 1.0,}, {\"movement\": 1, \"pos\": [+7.00, -1.00], \"time\": 1.0,}],\n",
    "#     [{\"movement\": 1, \"pos\": [+4.50, +3.00], \"time\": 1.5,}, {\"movement\": 1, \"pos\": [+7.00, -1.50], \"time\": 1.5,}],\n",
    "#     [{\"movement\": 1, \"pos\": [+4.00, +3.00], \"time\": 2.0,}, {\"movement\": 1, \"pos\": [+7.00, -2.00], \"time\": 2.0,}],\n",
    "#     [{\"movement\": 1, \"pos\": [+3.50, +3.00], \"time\": 2.5,}, {\"movement\": 1, \"pos\": [+7.00, -2.50], \"time\": 2.5,}],\n",
    "#     [{\"movement\": 1, \"pos\": [+3.00, +3.00], \"time\": 3.0,}, {\"movement\": 1, \"pos\": [+7.00, -3.00], \"time\": 3.0,}],\n",
    "#     [{\"movement\": 1, \"pos\": [+2.50, +3.00], \"time\": 3.5,}, {\"movement\": 1, \"pos\": [+7.00, -3.50], \"time\": 3.5,}],\n",
    "#     [{\"movement\": 1, \"pos\": [+2.00, +3.00], \"time\": 4.0,}, {\"movement\": 1, \"pos\": [+7.00, -4.00], \"time\": 4.0,}],\n",
    "#     [{\"movement\": 1, \"pos\": [+1.50, +3.00], \"time\": 4.5,}, {\"movement\": 1, \"pos\": [+7.00, -4.50], \"time\": 4.5,}],\n",
    "#     [{\"movement\": 1, \"pos\": [+1.00, +3.00], \"time\": 5.0,}, {\"movement\": 1, \"pos\": [+7.00, -5.00], \"time\": 5.0,}],\n",
    "#     [{\"movement\": 1, \"pos\": [+0.50, +3.00], \"time\": 5.5,}, {\"movement\": 1, \"pos\": [+7.00, -5.50], \"time\": 5.5,}],\n",
    "#     [{\"movement\": 1, \"pos\": [+0.00, +3.00], \"time\": 6.0,}, {\"movement\": 1, \"pos\": [+7.00, -6.00], \"time\": 6.0,}],\n",
    "#     [{\"movement\": 1, \"pos\": [-0.50, +3.00], \"time\": 6.5,}, {\"movement\": 1, \"pos\": [+7.00, -6.50], \"time\": 6.5,}],\n",
    "#     [{\"movement\": 1, \"pos\": [-1.00, +3.00], \"time\": 7.0,}, {\"movement\": 1, \"pos\": [+7.00, -7.00], \"time\": 7.0,}],\n",
    "#     [{\"movement\": 1, \"pos\": [-1.50, +3.00], \"time\": 7.5,}, {\"movement\": 1, \"pos\": [+7.00, -7.50], \"time\": 7.5,}],\n",
    "# ]\n",
    "\n",
    "# # Vx = 1  Vy = 0.1 omega = 2  vox = 1 voy = 1\n",
    "# lista = [\n",
    "#     [{\"movement\": 1, \"pos\": [+6.00, +3.00], \"time\": 0.0,}, {\"movement\": 1, \"pos\": [+7.00, +0.00], \"time\": 0.0,}],\n",
    "#     [{\"movement\": 1, \"pos\": [+5.55, +2.84], \"time\": 0.5,}, {\"movement\": 1, \"pos\": [+7.01, +0.32], \"time\": 0.5,}],\n",
    "#     [{\"movement\": 1, \"pos\": [+5.10, +2.69], \"time\": 1.0,}, {\"movement\": 1, \"pos\": [+7.03, +0.63], \"time\": 1.0,}],\n",
    "#     [{\"movement\": 1, \"pos\": [+4.65, +2.53], \"time\": 1.5,}, {\"movement\": 1, \"pos\": [+7.07, +0.90], \"time\": 1.5,}],\n",
    "#     [{\"movement\": 1, \"pos\": [+4.19, +2.37], \"time\": 2.0,}, {\"movement\": 1, \"pos\": [+7.12, +1.17], \"time\": 2.0,}],\n",
    "#     [{\"movement\": 1, \"pos\": [+3.74, +2.22], \"time\": 2.5,}, {\"movement\": 1, \"pos\": [+7.18, +1.41], \"time\": 2.5,}],\n",
    "#     [{\"movement\": 1, \"pos\": [+3.28, +2.06], \"time\": 3.0,}, {\"movement\": 1, \"pos\": [+7.26, +1.64], \"time\": 3.0,}],\n",
    "#     [{\"movement\": 1, \"pos\": [+2.82, +1.90], \"time\": 3.5,}, {\"movement\": 1, \"pos\": [+7.35, +1.84], \"time\": 3.5,}],\n",
    "#     [{\"movement\": 1, \"pos\": [+2.36, +1.74], \"time\": 4.0,}, {\"movement\": 1, \"pos\": [+7.45, +2.03], \"time\": 4.0,}],\n",
    "#     [{\"movement\": 1, \"pos\": [+1.90, +1.57], \"time\": 4.5,}, {\"movement\": 1, \"pos\": [+7.56, +2.20], \"time\": 4.5,}],\n",
    "#     [{\"movement\": 1, \"pos\": [+1.43, +1.41], \"time\": 5.0,}, {\"movement\": 1, \"pos\": [+7.69, +1.43], \"time\": 5.0,}],\n",
    "#     [{\"movement\": 1, \"pos\": [+0.96, +1.25], \"time\": 5.5,}, {\"movement\": 1, \"pos\": [+7.82, +2.46], \"time\": 5.5,}],\n",
    "#     [{\"movement\": 1, \"pos\": [+0.49, +1.09], \"time\": 6.0,}, {\"movement\": 1, \"pos\": [+7.96, +2.57], \"time\": 6.0,}],\n",
    "# ]\n",
    "\n",
    "# Vx = 1  Vy = 0.1 omega = 22.5°  vox = 1 voy = 1\n",
    "lista = [\n",
    "    [{\"movement\": 1, \"pos\": [+6.00, +3.00], \"time\": 0.0,}, {\"movement\": 1, \"pos\": [+7.00, +0.00], \"time\": 0.0,}],\n",
    "    [{\"movement\": 1, \"pos\": [+5.97, +1.72], \"time\": 0.5,}, {\"movement\": 1, \"pos\": [+6.95, +1.02], \"time\": 0.5,}],\n",
    "    [{\"movement\": 1, \"pos\": [+5.69, +0.38], \"time\": 1.0,}, {\"movement\": 1, \"pos\": [+6.77, -2.24], \"time\": 1.0,}],\n",
    "    [{\"movement\": 1, \"pos\": [+5.16, -0.99], \"time\": 1.5,}, {\"movement\": 1, \"pos\": [+6.40, -3.63], \"time\": 1.5,}],\n",
    "    [{\"movement\": 1, \"pos\": [+4.36, -2.32], \"time\": 2.0,}, {\"movement\": 1, \"pos\": [+5.78, -5.15], \"time\": 2.0,}],\n",
    "    [{\"movement\": 1, \"pos\": [+3.33, -3.57], \"time\": 2.5,}, {\"movement\": 1, \"pos\": [+4.86, -6.76], \"time\": 2.5,}],\n",
    "    [{\"movement\": 1, \"pos\": [+2.07, -4.70], \"time\": 3.0,}, {\"movement\": 1, \"pos\": [+3.60, -8.39], \"time\": 3.0,}],\n",
    "    [{\"movement\": 1, \"pos\": [+0.61, -5.65], \"time\": 3.5,}, {\"movement\": 1, \"pos\": [+1.98, -9.97], \"time\": 3.5,}],\n",
    "    [{\"movement\": 1, \"pos\": [-1.00, -6.40], \"time\": 4.0,}, {\"movement\": 1, \"pos\": [+0.00, -11.4], \"time\": 4.0,}],\n",
    "]\n",
    "\n",
    "for x in xrange(len(lista)-1):\n",
    "    lista[x][0][\"pos\"][0] += -land._parameters[\"vision_error\"] + 2*land._parameters[\"vision_error\"]*random.random()\n",
    "    lista[x][0][\"pos\"][1] += -land._parameters[\"vision_error\"] + 2*land._parameters[\"vision_error\"]*random.random()\n",
    "    \n",
    "    lista[x][1][\"pos\"][0] += -land._parameters[\"vision_error\"] + 2*land._parameters[\"vision_error\"]*random.random()\n",
    "    lista[x][1][\"pos\"][1] += -land._parameters[\"vision_error\"] + 2*land._parameters[\"vision_error\"]*random.random()\n",
    "\n",
    "for dataland, datarob in lista[:-1]:\n",
    "#     print dataland, \"\\n\"\n",
    "    me.update(land.update(dataland))\n",
    "#     print land._predictedstate[\"x\"].evalf(3), land._predictedstate[\"covariance\"].evalf(3), \"\\n\"\n",
    "    \n",
    "    print datarob, \"\\n\"\n",
    "    rob.update(datarob)\n",
    "    print rob._predictedstate[\"x\"].evalf(3), rob._predictedstate[\"covariance\"].evalf(3), \"\\n\""
   ]
  },
  {
   "cell_type": "code",
   "execution_count": 8,
   "metadata": {
    "collapsed": false
   },
   "outputs": [],
   "source": [
    "land._end( )\n",
    "rob._end( )"
   ]
  },
  {
   "cell_type": "code",
   "execution_count": 9,
   "metadata": {
    "collapsed": false
   },
   "outputs": [
    {
     "name": "stdout",
     "output_type": "stream",
     "text": [
      "Data: {'time': 4.0, 'pos': [0.0, -11.4], 'movement': 1}\n",
      "Matrix([[0.608], [-11.4], [0.842], [-1.10]]) Matrix([\n",
      "[0.0257,      0, 0.0228,      0],\n",
      "[     0, 0.0257,      0, 0.0228],\n",
      "[0.0228,      0, 0.0292,      0],\n",
      "[     0, 0.0228,      0, 0.0292]]) \n",
      "\n"
     ]
    }
   ],
   "source": [
    "print \"Data:\", lista[len(lista)-1][1]\n",
    "rob.predict(lista[len(lista)-1][1][\"time\"], lista[len(lista)-1][1][\"movement\"])\n",
    "print rob._predictedstate[\"x\"].evalf(3), rob._predictedstate[\"covariance\"].evalf(3), \"\\n\""
   ]
  },
  {
   "cell_type": "code",
   "execution_count": 10,
   "metadata": {
    "collapsed": false,
    "scrolled": true
   },
   "outputs": [
    {
     "data": {
      "image/png": "[encoded data removed]",
      "text/latex": [
       "$$\\left[\\begin{matrix}3.24782495187866\\\\2.13081062172866\\\\0.971403250890671\\\\-0.223154368942933\\\\1\\end{matrix}\\right]$$"
      ],
      "text/plain": [
       "⎡ 3.24782495187866 ⎤\n",
       "⎢                  ⎥\n",
       "⎢ 2.13081062172866 ⎥\n",
       "⎢                  ⎥\n",
       "⎢0.971403250890671 ⎥\n",
       "⎢                  ⎥\n",
       "⎢-0.223154368942933⎥\n",
       "⎢                  ⎥\n",
       "⎣        1         ⎦"
      ]
     },
     "execution_count": 10,
     "metadata": {},
     "output_type": "execute_result"
    }
   ],
   "source": [
    "me[1]['x_speed']"
   ]
  },
  {
   "cell_type": "code",
   "execution_count": 11,
   "metadata": {
    "collapsed": false
   },
   "outputs": [
    {
     "data": {
      "image/png": "[encoded data removed]",
      "text/latex": [
       "$$\\left[\\begin{matrix}0.00708 & 0 & 0.0075 & 0 & 0.00333 & 0\\\\0 & 0.00708 & 0 & 0.0075 & 0 & 0.00333\\\\0.0075 & 0 & 0.0126 & 0 & 0.00667 & 0\\\\0 & 0.0075 & 0 & 0.0126 & 0 & 0.00667\\\\0.00333 & 0 & 0.00667 & 0 & 0.00381 & 0\\\\0 & 0.00333 & 0 & 0.00667 & 0 & 0.00381\\end{matrix}\\right]$$"
      ],
      "text/plain": [
       "⎡0.00708     0     0.0075      0     0.00333     0   ⎤\n",
       "⎢                                                    ⎥\n",
       "⎢   0     0.00708     0     0.0075      0     0.00333⎥\n",
       "⎢                                                    ⎥\n",
       "⎢0.0075      0     0.0126      0     0.00667     0   ⎥\n",
       "⎢                                                    ⎥\n",
       "⎢   0     0.0075      0     0.0126      0     0.00667⎥\n",
       "⎢                                                    ⎥\n",
       "⎢0.00333     0     0.00667     0     0.00381     0   ⎥\n",
       "⎢                                                    ⎥\n",
       "⎣   0     0.00333     0     0.00667     0     0.00381⎦"
      ]
     },
     "execution_count": 11,
     "metadata": {},
     "output_type": "execute_result"
    }
   ],
   "source": [
    "me[1]['R'].evalf(3)"
   ]
  }
 ],
 "metadata": {
  "kernelspec": {
   "display_name": "Python 2",
   "language": "python",
   "name": "python2"
  },
  "language_info": {
   "codemirror_mode": {
    "name": "ipython",
    "version": 2
   },
   "file_extension": ".py",
   "mimetype": "text/x-python",
   "name": "python",
   "nbconvert_exporter": "python",
   "pygments_lexer": "ipython2",
   "version": "2.7.6"
  }
 },
 "nbformat": 4,
 "nbformat_minor": 2
}
