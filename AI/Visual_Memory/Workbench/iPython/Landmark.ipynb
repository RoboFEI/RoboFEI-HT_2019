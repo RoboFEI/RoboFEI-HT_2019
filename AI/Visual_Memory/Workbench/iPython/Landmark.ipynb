{
 "cells": [
  {
   "cell_type": "markdown",
   "metadata": {},
   "source": [
    "****************************************************************************\n",
    "* @file: Landmark.py\n",
    "* @project: ROBOFEI-HT - FEI 😛\n",
    "* @author: Vinicius Nicassio Ferreira\n",
    "* @version: V0.0.1\n",
    "* @created: 23/10/2017\n",
    "* @e-mail: vinicius.nicassio@gmail.com\n",
    "* @brief: Class Landmark\n",
    "****************************************************************************"
   ]
  },
  {
   "cell_type": "code",
   "execution_count": 1,
   "metadata": {
    "collapsed": true
   },
   "outputs": [],
   "source": [
    "#ini-iPython"
   ]
  },
  {
   "cell_type": "markdown",
   "metadata": {},
   "source": [
    "# Executando no diretório principal"
   ]
  },
  {
   "cell_type": "code",
   "execution_count": 2,
   "metadata": {
    "collapsed": true
   },
   "outputs": [],
   "source": [
    "import os\n",
    "os.chdir('../../') #Executando na pasta Visual_Memory\n",
    "os.system(\"cd Workbench/ && ./zerar.sh && cd ..\")\n",
    "os.system(\"cd Workbench/iPython/ && ./convertendo.sh && cd ../../\")\n",
    "import sys\n",
    "sys.path.append('./include')\n",
    "sys.path.append('./src')\n",
    "sys.path.append('./Workbench/iPython')\n",
    "#end-iPython"
   ]
  },
  {
   "cell_type": "markdown",
   "metadata": {
    "collapsed": true
   },
   "source": [
    "---- Imports ----"
   ]
  },
  {
   "cell_type": "code",
   "execution_count": 3,
   "metadata": {
    "collapsed": true
   },
   "outputs": [],
   "source": [
    "# Libraries to be used.\n",
    "import sys\n",
    "#des-iPython sys.path.append(\"../include\")\n",
    "#des-iPython sys.path.append(\"../src\")"
   ]
  },
  {
   "cell_type": "code",
   "execution_count": 4,
   "metadata": {
    "collapsed": true
   },
   "outputs": [],
   "source": [
    "# The standard libraries used in the visual memory system.\n"
   ]
  },
  {
   "cell_type": "code",
   "execution_count": 5,
   "metadata": {
    "collapsed": false
   },
   "outputs": [],
   "source": [
    "# Used class developed by RoboFEI-HT.\n",
    "#ini-iPython - Usando Classe KalmanFilter como instanciação \n",
    "os.system(\"sed -i '/@abstractmethod/d' ./Workbench/iPython/KalmanFilter.py\")\n",
    "os.system(\"sed -i '/__metaclass__/d' ./Workbench/iPython/KalmanFilter.py\")\n",
    "#end-iPython\n",
    "from KalmanFilter import * # Class responsible for implementing Kalman filter methods.\n",
    "sym.init_printing() #debug-iPython"
   ]
  },
  {
   "cell_type": "markdown",
   "metadata": {
    "collapsed": true
   },
   "source": [
    "# Class to Landmark\n",
    "Class responsible for performing landmarks tracking.\n",
    "doxygen-iPython"
   ]
  },
  {
   "cell_type": "code",
   "execution_count": 6,
   "metadata": {
    "collapsed": true
   },
   "outputs": [],
   "source": [
    "#des-iPython class Landmark(KalmanFilter):\n",
    "#ini-tab -> Iniciando código classe"
   ]
  },
  {
   "cell_type": "markdown",
   "metadata": {},
   "source": [
    "---- Variables ----"
   ]
  },
  {
   "cell_type": "code",
   "execution_count": 7,
   "metadata": {
    "collapsed": true
   },
   "outputs": [],
   "source": [
    "#ini-iPython\n",
    "\n",
    "# ------- Lista de funções -------\n",
    "\n",
    "#self-iPython update\n",
    "#self-iPython reset\n",
    "#self-iPython predict\n",
    "#self-iPython end\n",
    "\n",
    "#end-iPython - Fim listas"
   ]
  },
  {
   "cell_type": "markdown",
   "metadata": {},
   "source": [
    "# reset\n",
    ".\n",
    "doxygen-iPython"
   ]
  },
  {
   "cell_type": "code",
   "execution_count": 8,
   "metadata": {
    "collapsed": true
   },
   "outputs": [],
   "source": [
    "#eself-iPython reset\n",
    "#edes-iPython def reset(self):\n",
    "def reset( ):\n",
    "    #edes-iPython super(Landmark, self)._reset( )\n",
    "    self._reset( )\n",
    "    \n",
    "    self._B = sym.Matrix([\n",
    "        [0, 0, 0, 0, self._px],\n",
    "        [0, 0, 0, 0, self._py],\n",
    "        [0, 0, 0, 0, self._vx],\n",
    "        [0, 0, 0, 0, self._vy],\n",
    "        [0, 0, 0, 0, self._ax],\n",
    "        [0, 0, 0, 0, self._ay],\n",
    "    ])\n",
    "    \n",
    "    self._R = sym.zeros(6)\n",
    "    #self-iPython reset"
   ]
  },
  {
   "cell_type": "code",
   "execution_count": 9,
   "metadata": {
    "collapsed": true
   },
   "outputs": [],
   "source": [
    "#ini-iPython"
   ]
  },
  {
   "cell_type": "markdown",
   "metadata": {},
   "source": [
    "## Teste reset"
   ]
  },
  {
   "cell_type": "code",
   "execution_count": 10,
   "metadata": {
    "collapsed": false
   },
   "outputs": [
    {
     "name": "stdout",
     "output_type": "stream",
     "text": [
      "KALMAN FILTER - LANDMARKS section not found!\n"
     ]
    },
    {
     "data": {
      "image/png": "[encoded data removed]",
      "text/latex": [
       "$$\\left[\\begin{matrix}p_{x}\\\\p_{y}\\\\v_{x}\\\\v_{y}\\\\a_{x}\\\\a_{y}\\end{matrix}\\right]$$"
      ],
      "text/plain": [
       "⎡pₓ ⎤\n",
       "⎢   ⎥\n",
       "⎢p_y⎥\n",
       "⎢   ⎥\n",
       "⎢vₓ ⎥\n",
       "⎢   ⎥\n",
       "⎢v_y⎥\n",
       "⎢   ⎥\n",
       "⎢aₓ ⎥\n",
       "⎢   ⎥\n",
       "⎣a_y⎦"
      ]
     },
     "execution_count": 10,
     "metadata": {},
     "output_type": "execute_result"
    }
   ],
   "source": [
    "s = Speeds( ) #debug-iPython\n",
    "self = KalmanFilter(None, s, \"Landmarks\")\n",
    "reset( )\n",
    "self._B*sym.Matrix([\n",
    "    [2.3],\n",
    "    [1.9],\n",
    "    [7.8],\n",
    "    [1.5],\n",
    "    [1],\n",
    "])"
   ]
  },
  {
   "cell_type": "code",
   "execution_count": 11,
   "metadata": {
    "collapsed": false
   },
   "outputs": [],
   "source": [
    "del self\n",
    "del s\n",
    "#end-iPython"
   ]
  },
  {
   "cell_type": "markdown",
   "metadata": {},
   "source": [
    "# Constructor Class\n",
    "doxygen-iPython"
   ]
  },
  {
   "cell_type": "code",
   "execution_count": 12,
   "metadata": {
    "collapsed": false,
    "scrolled": true
   },
   "outputs": [
    {
     "name": "stdout",
     "output_type": "stream",
     "text": [
      "KALMAN FILTER - LANDMARKS section not found!\n"
     ]
    }
   ],
   "source": [
    "s = Speeds( ) #debug-iPython\n",
    "#des-iPython def __init__(self, a, s):\n",
    "#ini-tab -> Criando construtor\n",
    "# Instantiating constructor for inherited class.\n",
    "#edes-iPython super(Landmark, self).__init__(a, s, \"Landmarks\")\n",
    "self = KalmanFilter(None, s, \"Landmarks\")\n",
    "\n",
    "# Creating characteristic variables for landmarks and reading.\n",
    "#eself-iPython update\n",
    "self._parameters.update({\n",
    "    \"linear_acceleration\": True,\n",
    "    \"precision\": 2,\n",
    "}) #self-iPython update\n",
    "\n",
    "self._parameters = self._conf.readVariables(self._parameters)\n",
    "\n",
    "reset( )"
   ]
  },
  {
   "cell_type": "code",
   "execution_count": 13,
   "metadata": {
    "collapsed": true
   },
   "outputs": [],
   "source": [
    "#end-tab -> Finalizando construtor"
   ]
  },
  {
   "cell_type": "code",
   "execution_count": 14,
   "metadata": {
    "collapsed": false
   },
   "outputs": [],
   "source": [
    "#ini-iPython"
   ]
  },
  {
   "cell_type": "markdown",
   "metadata": {},
   "source": [
    "## Teste construtor"
   ]
  },
  {
   "cell_type": "code",
   "execution_count": 15,
   "metadata": {
    "collapsed": false
   },
   "outputs": [
    {
     "name": "stdout",
     "output_type": "stream",
     "text": [
      "{'linear_acceleration': True, 'precision': 2, 'vision_error': 0.1}\n"
     ]
    },
    {
     "data": {
      "text/plain": [
       "{'R': Matrix([\n",
       " [0, 0, 0, 0, 0, 0],\n",
       " [0, 0, 0, 0, 0, 0],\n",
       " [0, 0, 0, 0, 0, 0],\n",
       " [0, 0, 0, 0, 0, 0],\n",
       " [0, 0, 0, 0, 0, 0],\n",
       " [0, 0, 0, 0, 0, 0]]), 'x_speed': Matrix([\n",
       " [0],\n",
       " [0],\n",
       " [0],\n",
       " [0],\n",
       " [1]])}"
      ]
     },
     "execution_count": 15,
     "metadata": {},
     "output_type": "execute_result"
    }
   ],
   "source": [
    "self._end( )\n",
    "print self._parameters\n",
    "\n",
    "vrx, vry, arx, ary = sym.symbols(\"vr_x vr_y ar_x ar_y\")\n",
    "\n",
    "__u = sym.Matrix([\n",
    "    [vrx],\n",
    "    [vry],\n",
    "    [arx],\n",
    "    [ary],\n",
    "    [1],\n",
    "])\n",
    "\n",
    "self._B*__u\n",
    "\n",
    "s[1]\n",
    "#end-iPython"
   ]
  },
  {
   "cell_type": "markdown",
   "metadata": {},
   "source": [
    "# update\n",
    ".\n",
    "doxygen-iPython"
   ]
  },
  {
   "cell_type": "code",
   "execution_count": 16,
   "metadata": {
    "collapsed": false
   },
   "outputs": [],
   "source": [
    "#eself-iPython update\n",
    "#edes-iPython def update(self, data):\n",
    "def update(data):\n",
    "    self._predictedstate[\"x\"][2:, 0] = -self._speeds[data[\"movement\"]][\"x_speed\"][:len(self._speeds[data[\"movement\"]][\"x_speed\"])-1, 0]\n",
    "    self._predictedstate[\"covariance\"] = self._speeds[data[\"movement\"]][\"R\"]\n",
    "    \n",
    "    #edes-iPython super(Landmark, self)._update(data)\n",
    "    self._update(data)\n",
    "    \n",
    "    # Updating to current instant in time\n",
    "    if self._predictedstate[\"time\"] != time.time( ):\n",
    "        #edes-iPython _predict(tnow = None, movements = 1)\n",
    "        self._predict(tnow = None, movements = 1)\n",
    "    else:\n",
    "        if self._args.savedata == True:\n",
    "            try:\n",
    "                a = np.load(\"./Data/Land.npy\")\n",
    "                a = np.concatenate((a,\n",
    "                    [[\n",
    "                        self._state[\"time\"],\n",
    "                        [float(i) for i in self._state[\"x\"][:,0]],\n",
    "                        [self._state[\"covariance\"][i,i] for i in xrange(self._state[\"covariance\"].shape[0])],\n",
    "                        [float(i) for i in self._state[\"covariance\"][:,0]],\n",
    "                    ]]),\n",
    "                    axis=0\n",
    "                )\n",
    "            except IOError:\n",
    "                a = [[\n",
    "                    self._state[\"time\"],\n",
    "                    [float(i) for i in self._state[\"x\"][:,0]],\n",
    "                    [self._state[\"covariance\"][i,i] for i in xrange(self._state[\"covariance\"].shape[0])],\n",
    "                    [float(i) for i in self._state[\"covariance\"][:,0]],\n",
    "                ]]\n",
    "            np.save(\"./Data/Land\", a)\n",
    "\n",
    "        if self._predictedstate[\"covariance\"][0, 0] < self._parameters['vision_error']*self._parameters['precision'] and self._predictedstate[\"covariance\"][1, 1] < self._parameters['precision']:\n",
    "            self._bkb.write_float(\"VISUAL_MEMORY_LAND_X\", self._predictedstate[\"x\"][0,0])\n",
    "            self._bkb.write_float(\"VISUAL_MEMORY_LAND_Y\", self._predictedstate[\"x\"][1,0])\n",
    "            self._bkb.write_float(\"VISUAL_MEMORY_LAND_LOC\", 1)\n",
    "        else:        \n",
    "            self._bkb.write_float(\"VISUAL_MEMORY_LAND_LOC\", 0)\n",
    "    \n",
    "    return [data[\"movement\"], self._predictedstate[\"x\"], self._predictedstate[\"covariance\"]] #self-iPython update"
   ]
  },
  {
   "cell_type": "code",
   "execution_count": 17,
   "metadata": {
    "collapsed": false
   },
   "outputs": [],
   "source": [
    "#ini-iPython"
   ]
  },
  {
   "cell_type": "markdown",
   "metadata": {},
   "source": [
    "## Teste update"
   ]
  },
  {
   "cell_type": "code",
   "execution_count": 18,
   "metadata": {
    "collapsed": false
   },
   "outputs": [
    {
     "name": "stdout",
     "output_type": "stream",
     "text": [
      "[1, Matrix([\n",
      "[0.0],\n",
      "[0.0],\n",
      "[0.0],\n",
      "[0.0],\n",
      "[0.0],\n",
      "[0.0]]), Matrix([\n",
      "[0, 0, 0, 0, 0, 0],\n",
      "[0, 0, 0, 0, 0, 0],\n",
      "[0, 0, 0, 0, 0, 0],\n",
      "[0, 0, 0, 0, 0, 0],\n",
      "[0, 0, 0, 0, 0, 0],\n",
      "[0, 0, 0, 0, 0, 0]])]\n"
     ]
    }
   ],
   "source": [
    "data = {\n",
    "    \"movement\": 1,\n",
    "    \"target\": 1,\n",
    "    \"pos\": [0, 0],\n",
    "    \"time\": 1.0,\n",
    "}\n",
    "\n",
    "print update(data)\n",
    "#end-iPython"
   ]
  },
  {
   "cell_type": "markdown",
   "metadata": {},
   "source": [
    "# predict\n",
    ".\n",
    "doxygen-iPython"
   ]
  },
  {
   "cell_type": "code",
   "execution_count": 19,
   "metadata": {
    "collapsed": false
   },
   "outputs": [],
   "source": [
    "#eself-iPython predict\n",
    "#edes-iPython def predict(self, tnow = None, movements = None):\n",
    "def predict(tnow = None, movements = None):\n",
    "    self._predictedstate[\"x\"][2:, 0] = -self._speeds[movements][\"x_speed\"][:len(self._speeds[movements][\"x_speed\"])-1, 0]\n",
    "    self._predictedstate[\"covariance\"] = self._speeds[movements][\"R\"]\n",
    "    \n",
    "    #edes-iPython super(Landmark, self)._predict(tnow, movements)\n",
    "    self._predict(tnow, movements) #self-iPython predict\n",
    "    \n",
    "    if self._args.savedata == True:\n",
    "        try:\n",
    "            a = np.load(\"./Data/Land.npy\")\n",
    "            a = np.concatenate((a,\n",
    "                [[\n",
    "                    self._state[\"time\"],\n",
    "                    [float(i) for i in self._state[\"x\"][:,0]],\n",
    "                    [self._state[\"covariance\"][i,i] for i in xrange(self._state[\"covariance\"].shape[0])],\n",
    "                    [float(i) for i in self._state[\"covariance\"][:,0]],\n",
    "                ]]),\n",
    "                axis=0\n",
    "            )\n",
    "        except IOError:\n",
    "            a = [[\n",
    "                self._state[\"time\"],\n",
    "                [float(i) for i in self._state[\"x\"][:,0]],\n",
    "                [self._state[\"covariance\"][i,i] for i in xrange(self._state[\"covariance\"].shape[0])],\n",
    "                [float(i) for i in self._state[\"covariance\"][:,0]],\n",
    "            ]]\n",
    "        np.save(\"./Data/Land\", a)\n",
    "\n",
    "    if self._predictedstate[\"covariance\"][0, 0] < self._parameters['vision_error']*self._parameters['precision'] and self._predictedstate[\"covariance\"][1, 1] < self._parameters['precision']:\n",
    "        self._bkb.write_float(\"VISUAL_MEMORY_LAND_X\", self._predictedstate[\"x\"][0,0])\n",
    "        self._bkb.write_float(\"VISUAL_MEMORY_LAND_Y\", self._predictedstate[\"x\"][1,0])\n",
    "        self._bkb.write_float(\"VISUAL_MEMORY_LAND_LOC\", 1)\n",
    "    else:        \n",
    "        self._bkb.write_float(\"VISUAL_MEMORY_LAND_LOC\", 0)"
   ]
  },
  {
   "cell_type": "markdown",
   "metadata": {},
   "source": [
    "# end\n",
    ".\n",
    "doxygen-iPython"
   ]
  },
  {
   "cell_type": "code",
   "execution_count": 20,
   "metadata": {
    "collapsed": true
   },
   "outputs": [],
   "source": [
    "#eself-iPython end\n",
    "#edes-iPython def end(self):\n",
    "def end( ):\n",
    "    self._end( ) #self-iPython end"
   ]
  },
  {
   "cell_type": "code",
   "execution_count": 21,
   "metadata": {
    "collapsed": false
   },
   "outputs": [],
   "source": [
    "#ini-iPython"
   ]
  },
  {
   "cell_type": "markdown",
   "metadata": {},
   "source": [
    "## Teste end"
   ]
  },
  {
   "cell_type": "code",
   "execution_count": 22,
   "metadata": {
    "collapsed": true
   },
   "outputs": [],
   "source": [
    "end( )\n",
    "#end-iPython"
   ]
  },
  {
   "cell_type": "code",
   "execution_count": 23,
   "metadata": {
    "collapsed": false
   },
   "outputs": [],
   "source": [
    "#end-tab -> Finalizando classe"
   ]
  },
  {
   "cell_type": "code",
   "execution_count": 24,
   "metadata": {
    "collapsed": true
   },
   "outputs": [],
   "source": [
    "#ini-iPython"
   ]
  },
  {
   "cell_type": "markdown",
   "metadata": {},
   "source": [
    "# nova_variavel\n",
    ".\n",
    "doxygen-iPython"
   ]
  },
  {
   "cell_type": "code",
   "execution_count": 25,
   "metadata": {
    "collapsed": true
   },
   "outputs": [],
   "source": [
    "nova_variavel = None #self-iPython nova_variavel"
   ]
  },
  {
   "cell_type": "markdown",
   "metadata": {},
   "source": [
    "# nova_funcao\n",
    ".\n",
    "doxygen-iPython"
   ]
  },
  {
   "cell_type": "code",
   "execution_count": 26,
   "metadata": {
    "collapsed": true
   },
   "outputs": [],
   "source": [
    "# eself-iPython nova_funcao\n",
    "# edes-iPython def nova_funcao(self, variaveis_funcao):\n",
    "def nova_funcao(variaveis_funcao):\n",
    "    pass # self-iPython nova_funcao"
   ]
  },
  {
   "cell_type": "code",
   "execution_count": 27,
   "metadata": {
    "collapsed": true
   },
   "outputs": [],
   "source": [
    "#ini-iPython"
   ]
  },
  {
   "cell_type": "markdown",
   "metadata": {},
   "source": [
    "## Teste nova_funcao"
   ]
  },
  {
   "cell_type": "code",
   "execution_count": 28,
   "metadata": {
    "collapsed": true
   },
   "outputs": [],
   "source": [
    "\n",
    "#end-iPython"
   ]
  },
  {
   "cell_type": "code",
   "execution_count": 29,
   "metadata": {
    "collapsed": true
   },
   "outputs": [],
   "source": [
    "#end-iPython"
   ]
  }
 ],
 "metadata": {
  "kernelspec": {
   "display_name": "Python 2",
   "language": "python",
   "name": "python2"
  },
  "language_info": {
   "codemirror_mode": {
    "name": "ipython",
    "version": 2
   },
   "file_extension": ".py",
   "mimetype": "text/x-python",
   "name": "python",
   "nbconvert_exporter": "python",
   "pygments_lexer": "ipython2",
   "version": "2.7.6"
  }
 },
 "nbformat": 4,
 "nbformat_minor": 2
}
