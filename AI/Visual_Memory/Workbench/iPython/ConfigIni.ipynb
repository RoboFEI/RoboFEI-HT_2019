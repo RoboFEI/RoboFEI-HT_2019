{
 "cells": [
  {
   "cell_type": "markdown",
   "metadata": {},
   "source": [
    "****************************************************************************\n",
    "* @file: ConfigIni.py\n",
    "* @project: ROBOFEI-HT - FEI 😛\n",
    "* @author: Vinicius Nicassio Ferreira\n",
    "* @version: V0.0.1\n",
    "* @created: 23/10/2017\n",
    "* @e-mail: vinicius.nicassio@gmail.com\n",
    "* @brief: Class ConfigIni\n",
    "****************************************************************************"
   ]
  },
  {
   "cell_type": "code",
   "execution_count": 1,
   "metadata": {
    "collapsed": true
   },
   "outputs": [],
   "source": [
    "#ini-iPython"
   ]
  },
  {
   "cell_type": "markdown",
   "metadata": {},
   "source": [
    "# Executando no diretório principal"
   ]
  },
  {
   "cell_type": "code",
   "execution_count": 2,
   "metadata": {
    "collapsed": true
   },
   "outputs": [],
   "source": [
    "import os\n",
    "os.chdir('../../') #Executando na pasta Visual_Memory\n",
    "os.system(\"cd Workbench/ && ./zerar.sh && cd ..\")\n",
    "os.system(\"cd Workbench/iPython/ && ./convertendo.sh && cd ../../\")\n",
    "import sys\n",
    "sys.path.append('./include')\n",
    "sys.path.append('./src')\n",
    "sys.path.append('./Workbench/iPython')\n",
    "#end-iPython"
   ]
  },
  {
   "cell_type": "markdown",
   "metadata": {
    "collapsed": true
   },
   "source": [
    "---- Imports ----"
   ]
  },
  {
   "cell_type": "code",
   "execution_count": 3,
   "metadata": {
    "collapsed": true
   },
   "outputs": [],
   "source": [
    "# Libraries to be used.\n",
    "#des-iPython import sys\n",
    "#des-iPython sys.path.append(\"../include\")\n",
    "#des-iPython sys.path.append(\"../src\")"
   ]
  },
  {
   "cell_type": "code",
   "execution_count": 4,
   "metadata": {
    "collapsed": true
   },
   "outputs": [],
   "source": [
    "# The standard libraries used in the vision system.\n",
    "import configparser # Used to read ini files"
   ]
  },
  {
   "cell_type": "code",
   "execution_count": 5,
   "metadata": {
    "collapsed": false
   },
   "outputs": [],
   "source": [
    "# Used class developed by RoboFEI-HT.\n",
    "from VisualMemoryException import * # Used to handle exceptions"
   ]
  },
  {
   "cell_type": "markdown",
   "metadata": {
    "collapsed": true
   },
   "source": [
    "# Class to config ini\n",
    "Class used to read the ini file from the view.\n",
    "doxygen-iPython"
   ]
  },
  {
   "cell_type": "code",
   "execution_count": 6,
   "metadata": {
    "collapsed": true
   },
   "outputs": [],
   "source": [
    "#des-iPython class ConfigIni(object):\n",
    "#ini-tab -> Iniciando código classe"
   ]
  },
  {
   "cell_type": "markdown",
   "metadata": {},
   "source": [
    "---- Variables ----"
   ]
  },
  {
   "cell_type": "code",
   "execution_count": 7,
   "metadata": {
    "collapsed": true
   },
   "outputs": [],
   "source": [
    "#ini-iPython\n",
    "\n",
    "# ------- Lista de funções -------\n",
    "\n",
    "#self-iPython readVariables\n",
    "#self-iPython end\n",
    "\n",
    "#end-iPython - Fim listas"
   ]
  },
  {
   "cell_type": "markdown",
   "metadata": {},
   "source": [
    "# Address\n",
    "Path of the config.ini file.\n",
    "doxygen-iPython"
   ]
  },
  {
   "cell_type": "code",
   "execution_count": 8,
   "metadata": {
    "collapsed": true
   },
   "outputs": [],
   "source": [
    "__address = \"./Data/config.ini\" #self-iPython __address"
   ]
  },
  {
   "cell_type": "markdown",
   "metadata": {},
   "source": [
    "# Dictionary\n",
    "Dictionary to be used.\n",
    "doxygen-iPython"
   ]
  },
  {
   "cell_type": "code",
   "execution_count": 9,
   "metadata": {
    "collapsed": true
   },
   "outputs": [],
   "source": [
    "__dictionary = None #self-iPython __dictionary"
   ]
  },
  {
   "cell_type": "markdown",
   "metadata": {},
   "source": [
    "# myobject\n",
    "Class requesting variable reading.\n",
    "doxygen-iPython"
   ]
  },
  {
   "cell_type": "code",
   "execution_count": 10,
   "metadata": {
    "collapsed": true
   },
   "outputs": [],
   "source": [
    "__myobject = None #self-iPython __myobject"
   ]
  },
  {
   "cell_type": "markdown",
   "metadata": {},
   "source": [
    "# function\n",
    "Function that requests the reading of variables.\n",
    "doxygen-iPython"
   ]
  },
  {
   "cell_type": "code",
   "execution_count": 11,
   "metadata": {
    "collapsed": true
   },
   "outputs": [],
   "source": [
    "__function = None #self-iPython __function"
   ]
  },
  {
   "cell_type": "markdown",
   "metadata": {},
   "source": [
    "# __conf\n",
    "Variable for instantiation of the configparser responsible for reading ini files.\n",
    "doxygen-iPython"
   ]
  },
  {
   "cell_type": "code",
   "execution_count": 12,
   "metadata": {
    "collapsed": true
   },
   "outputs": [],
   "source": [
    "__conf = None #self-iPython __conf"
   ]
  },
  {
   "cell_type": "markdown",
   "metadata": {},
   "source": [
    "# Constructor Class\n",
    "doxygen-iPython"
   ]
  },
  {
   "cell_type": "code",
   "execution_count": 13,
   "metadata": {
    "collapsed": false
   },
   "outputs": [
    {
     "name": "stdout",
     "output_type": "stream",
     "text": [
      "BATATA - JAMAIS section not found!\n"
     ]
    },
    {
     "name": "stderr",
     "output_type": "stream",
     "text": [
      "/usr/local/lib/python2.7/dist-packages/ipykernel/__main__.py:18: DeprecationWarning: You passed a bytestring as `filenames`. This will not work on Python 3. Use `cp.read_file()` or switch to using Unicode strings across the board.\n"
     ]
    }
   ],
   "source": [
    "#des-iPython def __init__(self, obj, func, address=None):\n",
    "#ini-tab -> Criando construtor\n",
    "#ini-iPython\n",
    "obj = \"Batata\"\n",
    "func = \"Jamais\"\n",
    "address = \"./Data/Teste.ini\"\n",
    "#end-iPython\n",
    "# Testing new address\n",
    "if address != None:\n",
    "    __address = address\n",
    "\n",
    "# Instantiating class variables.\n",
    "__myobject = obj\n",
    "__function = func\n",
    "__conf = configparser.RawConfigParser()\n",
    "\n",
    "# Checking file existence\n",
    "if __conf.read(__address) is []:\n",
    "    print \"Config.ini file not found!\"\n",
    "    \n",
    "# Checking section existence\n",
    "if (__myobject + \" - \" + __function).upper() in __conf.sections():\n",
    "    #edes-iPython return\n",
    "    print \"SAIU AQUI\"\n",
    "else:\n",
    "    print (__myobject + \" - \" + __function).upper(), \"section not found!\""
   ]
  },
  {
   "cell_type": "code",
   "execution_count": 14,
   "metadata": {
    "collapsed": true
   },
   "outputs": [],
   "source": [
    "#end-tab -> finalizendo construtor"
   ]
  },
  {
   "cell_type": "markdown",
   "metadata": {},
   "source": [
    "# readVariables\n",
    "Function used to instantiate the dictionary that was used and update it with the config variables.\n",
    "@ param base Used dictionary.\n",
    "doxygen-iPython"
   ]
  },
  {
   "cell_type": "code",
   "execution_count": 15,
   "metadata": {
    "collapsed": false
   },
   "outputs": [],
   "source": [
    "#eself-iPython readVariables\n",
    "#edes-iPython def readVariables(self, base):\n",
    "def readVariables(base):\n",
    "    global __dictionary #debug-iPython\n",
    "    __dictionary = base # Saving class dictionary.\n",
    "    \n",
    "    # Checking section existence\n",
    "    if (__myobject + \" - \" + __function).upper() in __conf.sections():\n",
    "        # Completing/Overwriting dictionary values.\n",
    "        for key in __conf[(__myobject + \" - \" + __function).upper()].keys():\n",
    "            try: # Reading int\n",
    "                __dictionary[str(key)] = __conf.getint((__myobject + \" - \" + __function).upper(), str(key))\n",
    "                continue\n",
    "            except ValueError:\n",
    "                pass\n",
    "\n",
    "            try: # Reading float\n",
    "                __dictionary[str(key)] = __conf.getfloat((__myobject + \" - \" + __function).upper(), str(key))\n",
    "                continue\n",
    "            except ValueError:\n",
    "                pass\n",
    "\n",
    "            try: # Reading bool\n",
    "                __dictionary[str(key)] = __conf.getboolean((__myobject + \" - \" + __function).upper(), str(key))\n",
    "                continue\n",
    "            except ValueError:\n",
    "                pass\n",
    "\n",
    "            try: # Reading string\n",
    "                __dictionary[str(key)] = __conf.get((__myobject + \" - \" + __function).upper(), str(key))\n",
    "                continue\n",
    "            except ValueError:\n",
    "                pass\n",
    "    \n",
    "    return __dictionary #self-iPython readVariables"
   ]
  },
  {
   "cell_type": "code",
   "execution_count": 16,
   "metadata": {
    "collapsed": true
   },
   "outputs": [],
   "source": [
    "#ini-iPython"
   ]
  },
  {
   "cell_type": "code",
   "execution_count": 17,
   "metadata": {
    "collapsed": false
   },
   "outputs": [
    {
     "name": "stdout",
     "output_type": "stream",
     "text": [
      "base: {'batata': 0, 'subtitler': 0}\n",
      "dictionary: None\n",
      "new dictionary: {'batata': 0, 'subtitler': 0}\n"
     ]
    }
   ],
   "source": [
    "base = {}\n",
    "base[\"subtitler\"] = 0\n",
    "base[\"batata\"] = 0\n",
    "\n",
    "print \"base:\", base\n",
    "print \"dictionary:\", __dictionary\n",
    "\n",
    "readVariables(base)\n",
    "print \"new dictionary:\", base\n",
    "#end-iPython"
   ]
  },
  {
   "cell_type": "markdown",
   "metadata": {},
   "source": [
    "# end\n",
    "Responsible for saving the changes in config file.\n",
    "doxygen-iPython"
   ]
  },
  {
   "cell_type": "code",
   "execution_count": 18,
   "metadata": {
    "collapsed": true
   },
   "outputs": [],
   "source": [
    "#eself-iPython end\n",
    "#edes-iPython def end(self):\n",
    "def end( ):\n",
    "    __conf.read(__address)\n",
    "        \n",
    "    with open(__address, \"wb\") as configfile:\n",
    "        __conf[(__myobject + \" - \" + __function).upper()] = __dictionary\n",
    "        __conf.write(configfile) #self-iPython end"
   ]
  },
  {
   "cell_type": "code",
   "execution_count": 19,
   "metadata": {
    "collapsed": true
   },
   "outputs": [],
   "source": [
    "#ini-iPython"
   ]
  },
  {
   "cell_type": "markdown",
   "metadata": {},
   "source": [
    "## Testando função end"
   ]
  },
  {
   "cell_type": "code",
   "execution_count": 20,
   "metadata": {
    "collapsed": false
   },
   "outputs": [
    {
     "name": "stderr",
     "output_type": "stream",
     "text": [
      "/usr/local/lib/python2.7/dist-packages/ipykernel/__main__.py:4: DeprecationWarning: You passed a bytestring as `filenames`. This will not work on Python 3. Use `cp.read_file()` or switch to using Unicode strings across the board.\n"
     ]
    }
   ],
   "source": [
    "base[\"batata\"] = 3\n",
    "end( )\n",
    "#end-iPython"
   ]
  },
  {
   "cell_type": "code",
   "execution_count": 21,
   "metadata": {
    "collapsed": true
   },
   "outputs": [],
   "source": [
    "#end-tab -> finalizendo classe"
   ]
  }
 ],
 "metadata": {
  "kernelspec": {
   "display_name": "Python 2",
   "language": "python",
   "name": "python2"
  },
  "language_info": {
   "codemirror_mode": {
    "name": "ipython",
    "version": 2
   },
   "file_extension": ".py",
   "mimetype": "text/x-python",
   "name": "python",
   "nbconvert_exporter": "python",
   "pygments_lexer": "ipython2",
   "version": "2.7.6"
  }
 },
 "nbformat": 4,
 "nbformat_minor": 2
}
