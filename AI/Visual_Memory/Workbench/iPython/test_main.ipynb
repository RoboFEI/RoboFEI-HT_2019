{
 "cells": [
  {
   "cell_type": "code",
   "execution_count": 1,
   "metadata": {
    "collapsed": true
   },
   "outputs": [],
   "source": [
    "#ini-iPython"
   ]
  },
  {
   "cell_type": "markdown",
   "metadata": {},
   "source": [
    "# Executando no diretório principal"
   ]
  },
  {
   "cell_type": "code",
   "execution_count": 2,
   "metadata": {
    "collapsed": true
   },
   "outputs": [],
   "source": [
    "import os\n",
    "os.chdir('../../') #Executando na pasta Visual_Memory\n",
    "import sys\n",
    "sys.path.append('./include')\n",
    "sys.path.append('./src')\n",
    "sys.path.append('./Workbench/iPython')\n",
    "#end-iPython"
   ]
  },
  {
   "cell_type": "markdown",
   "metadata": {},
   "source": [
    " ****************************************************************************\n",
    " * @file: visualMemory.py\n",
    " * @project: ROBOFEI-HT - FEI 😛\n",
    " * @author: Vinicius Nicassio Ferreira\n",
    " * @version: V0.0.1\n",
    " * @created: 23/10/2017\n",
    " * @e-mail: vinicius.nicassio@gmail.com\n",
    " * @brief: Visual Memory\n",
    " ****************************************************************************\n",
    " Program to execute the Visual Memory process\n",
    " ****************************************************************************"
   ]
  },
  {
   "cell_type": "markdown",
   "metadata": {},
   "source": [
    "---- List of execution parameters ----"
   ]
  },
  {
   "cell_type": "code",
   "execution_count": 3,
   "metadata": {
    "collapsed": false
   },
   "outputs": [],
   "source": [
    "#des-iPython import argparse\n",
    "\n",
    "#des-iPython parser = argparse.ArgumentParser(\n",
    "#des-iPython     description='Visual Memory',\n",
    "#des-iPython     epilog= 'Responsável pelo rastreamento do objeto no campo e manter a informação de posição dos objetos sempre atualizada.\\\\' \\\n",
    "#des-iPython         'Responsible for tracking the object in the field and keeping the position information of the objects always updated.'\n",
    "#des-iPython )\n",
    "\n",
    "#des-iPython parser.add_argument(\n",
    "#des-iPython     '--numberrobots', # Full name\n",
    "#des-iPython     '--nr', # Abbreviation for the name\n",
    "#des-iPython     type = int, # Type variable\n",
    "#des-iPython     help = 'Quantidade de robos no campo.\\\\' \\\n",
    "#des-iPython     'Number of robots in fild.' # Description of the variable\n",
    "#des-iPython )\n",
    "\n",
    "#des-iPython parser.add_argument(\n",
    "#des-iPython     '--executionperiod', # Full name\n",
    "#des-iPython     '--p', # Abbreviation for the name\n",
    "#des-iPython     type = int, # Type variable\n",
    "#des-iPython     help = 'Período de execução em milisegundos.\\\\' \\\n",
    "#des-iPython     'Runtime in milliseconds.' # Description of the variable\n",
    "#des-iPython )\n",
    "\n",
    "#des-iPython parser.add_argument(\n",
    "#des-iPython     '--debug', # Full name\n",
    "#des-iPython     '--d', # Abbreviation for the name\n",
    "#des-iPython     action = \"store_true\", # Type variable\n",
    "#des-iPython     help = 'Exibe as informações calculadas os parametros utilizados.\\\\' \\\n",
    "#des-iPython     'Displays the calculated information the parameters used.' # Description of the variable\n",
    "#des-iPython )\n",
    "\n",
    "#des-iPython parser.add_argument(\n",
    "#des-iPython     '--savedata', # Full name\n",
    "#des-iPython     '--sd', # Abbreviation for the name\n",
    "#des-iPython     action = \"store_true\", # Type variable\n",
    "#des-iPython     help = 'Gera dados sobre as previsões feitas.\\\\' \\\n",
    "#des-iPython     'Generates data on the forecasts made.' # Description of the variable\n",
    "#des-iPython )\n",
    "\n",
    "#ini-iPython\n",
    "#des-iPython parser.add_argument(\n",
    "#des-iPython     '--savedata', # Full name\n",
    "#des-iPython     '--sd', # Abbreviation for the name\n",
    "#des-iPython     action = \"store_true\", # Type variable\n",
    "#des-iPython     help = 'Calibra valor para a câmera.\\\\' \\\n",
    "#des-iPython     'Calibrates value for the camera.' # Description of the variable\n",
    "#des-iPython )\n",
    "#end-iPython\n",
    "\n",
    "#des-iPython args = parser.parse_args()\n",
    "\n",
    "#ini-iPython\n",
    "class argumentos:\n",
    "    numberrobots = None\n",
    "    executionperiod = None\n",
    "    debug = False\n",
    "    savedata = False\n",
    "args = argumentos()\n",
    "#end-iPython"
   ]
  },
  {
   "cell_type": "markdown",
   "metadata": {},
   "source": [
    "---- Imports ----"
   ]
  },
  {
   "cell_type": "code",
   "execution_count": 4,
   "metadata": {
    "collapsed": true
   },
   "outputs": [],
   "source": [
    "# Libraries to be used.\n",
    "#des-iPython import sys\n",
    "#des-iPython sys.path.append('./include')\n",
    "#des-iPython sys.path.append('./src')"
   ]
  },
  {
   "cell_type": "code",
   "execution_count": 5,
   "metadata": {
    "collapsed": false
   },
   "outputs": [],
   "source": [
    "# Used class developed by RoboFEI-HT.\n",
    "from Behavior import *"
   ]
  },
  {
   "cell_type": "markdown",
   "metadata": {},
   "source": [
    "---- Preparing process ----"
   ]
  },
  {
   "cell_type": "code",
   "execution_count": 6,
   "metadata": {
    "collapsed": false
   },
   "outputs": [
    {
     "name": "stdout",
     "output_type": "stream",
     "text": [
      "SETTINGS - VISUAL MEMORY section not found!\n",
      "KALMAN FILTER - LANDMARKS section not found!\n",
      "KALMAN FILTER - ROBOTS section not found!\n",
      "KALMAN FILTER - ROBOTS section not found!\n",
      "KALMAN FILTER - ROBOTS section not found!\n",
      "KALMAN FILTER - ROBOTS section not found!\n",
      "KALMAN FILTER - ROBOTS section not found!\n",
      "KALMAN FILTER - ROBOTS section not found!\n",
      "KALMAN FILTER - ROBOTS section not found!\n"
     ]
    }
   ],
   "source": [
    "visualmemory = Behavior(args)"
   ]
  },
  {
   "cell_type": "markdown",
   "metadata": {},
   "source": [
    "---- Run process ----"
   ]
  },
  {
   "cell_type": "code",
   "execution_count": 7,
   "metadata": {
    "collapsed": false
   },
   "outputs": [
    {
     "name": "stdout",
     "output_type": "stream",
     "text": [
      "Keyboard interrupt detected\n"
     ]
    }
   ],
   "source": [
    "visualmemory.run( )"
   ]
  },
  {
   "cell_type": "markdown",
   "metadata": {},
   "source": [
    "---- Finalizing process ----"
   ]
  },
  {
   "cell_type": "code",
   "execution_count": 8,
   "metadata": {
    "collapsed": false
   },
   "outputs": [],
   "source": [
    "visualmemory.end( )"
   ]
  }
 ],
 "metadata": {
  "kernelspec": {
   "display_name": "Python 2",
   "language": "python",
   "name": "python2"
  },
  "language_info": {
   "codemirror_mode": {
    "name": "ipython",
    "version": 2
   },
   "file_extension": ".py",
   "mimetype": "text/x-python",
   "name": "python",
   "nbconvert_exporter": "python",
   "pygments_lexer": "ipython2",
   "version": "2.7.6"
  }
 },
 "nbformat": 4,
 "nbformat_minor": 1
}
