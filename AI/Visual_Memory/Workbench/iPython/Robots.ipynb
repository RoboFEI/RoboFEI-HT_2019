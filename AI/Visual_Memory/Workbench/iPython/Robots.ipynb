{
 "cells": [
  {
   "cell_type": "markdown",
   "metadata": {},
   "source": [
    "****************************************************************************\n",
    "* @file: Robots.py\n",
    "* @project: ROBOFEI-HT - FEI 😛\n",
    "* @author: Vinicius Nicassio Ferreira\n",
    "* @version: V0.0.1\n",
    "* @created: 23/10/2017\n",
    "* @e-mail: vinicius.nicassio@gmail.com\n",
    "* @brief: Class Robots\n",
    "****************************************************************************"
   ]
  },
  {
   "cell_type": "code",
   "execution_count": null,
   "metadata": {},
   "outputs": [],
   "source": [
    "#ini-iPython"
   ]
  },
  {
   "cell_type": "markdown",
   "metadata": {},
   "source": [
    "# Executando no diretório principal"
   ]
  },
  {
   "cell_type": "code",
   "execution_count": null,
   "metadata": {},
   "outputs": [],
   "source": [
    "import os\n",
    "import numpy as np\n",
    "os.chdir('../../') #Executando na pasta Visual_Memory\n",
    "os.system(\"cd Workbench/ && ./zerar.sh && cd ..\")\n",
    "os.system(\"cd Workbench/iPython/ && ./convertendo.sh && cd ../../\")\n",
    "import sys\n",
    "sys.path.append('./include')\n",
    "sys.path.append('./src')\n",
    "sys.path.append('./Workbench/iPython')\n",
    "#end-iPython"
   ]
  },
  {
   "cell_type": "markdown",
   "metadata": {
    "collapsed": true
   },
   "source": [
    "---- Imports ----"
   ]
  },
  {
   "cell_type": "code",
   "execution_count": null,
   "metadata": {},
   "outputs": [],
   "source": [
    "# Libraries to be used.\n",
    "import sys\n",
    "#des-iPython sys.path.append(\"../include\")\n",
    "#des-iPython sys.path.append(\"../src\")"
   ]
  },
  {
   "cell_type": "code",
   "execution_count": null,
   "metadata": {},
   "outputs": [],
   "source": [
    "# The standard libraries used in the visual memory system.\n"
   ]
  },
  {
   "cell_type": "code",
   "execution_count": null,
   "metadata": {},
   "outputs": [],
   "source": [
    "# Used class developed by RoboFEI-HT.\n",
    "#ini-iPython - Usando Classe KalmanFilter como instanciação\n",
    "os.system(\"sed -i '/@abstractmethod/d' ./Workbench/iPython/BasicThread.py\")\n",
    "os.system(\"sed -i '/__metaclass__/d' ./Workbench/iPython/BasicThread.py\")\n",
    "#end-iPython\n",
    "from BasicThread import * # Responsible for implementing the methods and variables responsible for managing the thread.\n",
    "sym.init_printing() #debug-iPython"
   ]
  },
  {
   "cell_type": "markdown",
   "metadata": {
    "collapsed": true
   },
   "source": [
    "# Class to Robots\n",
    "Class responsible for performing robots tracking.\n",
    "doxygen-iPython"
   ]
  },
  {
   "cell_type": "code",
   "execution_count": null,
   "metadata": {},
   "outputs": [],
   "source": [
    "#des-iPython class Robots(BasicThread):\n",
    "#ini-tab -> Iniciando código classe"
   ]
  },
  {
   "cell_type": "markdown",
   "metadata": {},
   "source": [
    "---- Variables ----"
   ]
  },
  {
   "cell_type": "markdown",
   "metadata": {},
   "source": [
    "# listfunction\n",
    ".\n",
    "doxygen-iPython"
   ]
  },
  {
   "cell_type": "code",
   "execution_count": null,
   "metadata": {},
   "outputs": [],
   "source": [
    "__listfunction = None #self-iPython __listfunction"
   ]
  },
  {
   "cell_type": "markdown",
   "metadata": {},
   "source": [
    "# robotnumber\n",
    ".\n",
    "doxygen-iPython"
   ]
  },
  {
   "cell_type": "code",
   "execution_count": null,
   "metadata": {},
   "outputs": [],
   "source": [
    "__robotnumber = None #self-iPython __robotnumber"
   ]
  },
  {
   "cell_type": "markdown",
   "metadata": {},
   "source": [
    "# posdata\n",
    ".\n",
    "doxygen-iPython"
   ]
  },
  {
   "cell_type": "code",
   "execution_count": null,
   "metadata": {},
   "outputs": [],
   "source": [
    "__posdata = None #self-iPython __posdata"
   ]
  },
  {
   "cell_type": "markdown",
   "metadata": {},
   "source": [
    "# contreset\n",
    ".\n",
    "doxygen-iPython"
   ]
  },
  {
   "cell_type": "code",
   "execution_count": null,
   "metadata": {},
   "outputs": [],
   "source": [
    "__contreset = 0 #self-iPython __contreset"
   ]
  },
  {
   "cell_type": "markdown",
   "metadata": {},
   "source": [
    "# __lastposdata\n",
    ".\n",
    "doxygen-iPython"
   ]
  },
  {
   "cell_type": "code",
   "execution_count": null,
   "metadata": {},
   "outputs": [],
   "source": [
    "__lastposdata = None #self-iPython __lastposdata"
   ]
  },
  {
   "cell_type": "markdown",
   "metadata": {},
   "source": [
    "# timenumber\n",
    ".\n",
    "doxygen-iPython"
   ]
  },
  {
   "cell_type": "code",
   "execution_count": null,
   "metadata": {},
   "outputs": [],
   "source": [
    "timenumber = 0 #self-iPython timenumber"
   ]
  },
  {
   "cell_type": "markdown",
   "metadata": {},
   "source": [
    "# weight\n",
    ".\n",
    "doxygen-iPython"
   ]
  },
  {
   "cell_type": "code",
   "execution_count": null,
   "metadata": {},
   "outputs": [],
   "source": [
    "weight = 0 #self-iPython weight"
   ]
  },
  {
   "cell_type": "code",
   "execution_count": null,
   "metadata": {},
   "outputs": [],
   "source": [
    "#ini-iPython\n",
    "\n",
    "# ------- Lista de funções -------\n",
    "\n",
    "#self-iPython reset\n",
    "#self-iPython __predictVector\n",
    "#self-iPython predictThread\n",
    "#self-iPython __updateVector\n",
    "#self-iPython updateThread\n",
    "#self-iPython run\n",
    "#self-iPython end\n",
    "#self-iPython calculatesDistance\n",
    "#self-iPython __lt__\n",
    "#self-iPython testReset\n",
    "\n",
    "#end-iPython - Fim listas"
   ]
  },
  {
   "cell_type": "markdown",
   "metadata": {},
   "source": [
    "# reset\n",
    ".\n",
    "doxygen-iPython"
   ]
  },
  {
   "cell_type": "code",
   "execution_count": null,
   "metadata": {},
   "outputs": [],
   "source": [
    "#eself-iPython reset\n",
    "#edes-iPython def reset(self):\n",
    "def reset( ):\n",
    "    global timenumber, self #debug-iPython\n",
    "    __listfunction = [ ]\n",
    "    \n",
    "    while not self._threadPaused():\n",
    "        pass\n",
    "    \n",
    "    #edes-iPython super(Robots, self)._reset( )\n",
    "    self._reset( )\n",
    "    \n",
    "    self._A = self._A[:-2,:-2]\n",
    "    self._B = self._B[:-2,:]\n",
    "    self._R = self._R[:-2,:-2]\n",
    "    self._C = self._C[:,:-2]\n",
    "    \n",
    "    self._predictedstate[\"x\"] = self._predictedstate[\"x\"][:-2,:]\n",
    "    self._predictedstate[\"covariance\"] = self._predictedstate[\"covariance\"][:-2,:-2]\n",
    "\n",
    "    if timenumber == 0:\n",
    "        return\n",
    "    elif timenumber < 0:\n",
    "        print \"Adversario:\", \"VISUAL_MEMORY_OP_\"+ str(-timenumber).zfill(2) #debug-iPython\n",
    "        self._bkb.write_float(\"VISUAL_MEMORY_OP_\"+ str(-timenumber).zfill(2) +\"_X\", 0)\n",
    "        self._bkb.write_float(\"VISUAL_MEMORY_OP_\"+ str(-timenumber).zfill(2) +\"_Y\", 0)\n",
    "        self._bkb.write_float(\"VISUAL_MEMORY_OP_\"+ str(-timenumber).zfill(2) +\"_MAX_VEL\", 0)\n",
    "        self._bkb.write_float(\"VISUAL_MEMORY_OP_\"+ str(-timenumber).zfill(2) +\"_LOC\", 0)\n",
    "    else:\n",
    "        print \"Aliado:\", \"VISUAL_MEMORY_AL_\"+ str(timenumber).zfill(2) #debug-iPython\n",
    "        self._bkb.write_float(\"VISUAL_MEMORY_AL_\"+ str(timenumber).zfill(2) +\"_X\", 0)\n",
    "        self._bkb.write_float(\"VISUAL_MEMORY_AL_\"+ str(timenumber).zfill(2) +\"_Y\", 0)\n",
    "        self._bkb.write_float(\"VISUAL_MEMORY_AL_\"+ str(timenumber).zfill(2) +\"_MAX_VEL\", 0)\n",
    "        self._bkb.write_float(\"VISUAL_MEMORY_AL_\"+ str(timenumber).zfill(2) +\"_LOC\", 0)\n",
    "    timenumber = 0  #self-iPython reset"
   ]
  },
  {
   "cell_type": "code",
   "execution_count": null,
   "metadata": {},
   "outputs": [],
   "source": [
    "#ini-iPython"
   ]
  },
  {
   "cell_type": "markdown",
   "metadata": {},
   "source": [
    "## Teste reset"
   ]
  },
  {
   "cell_type": "code",
   "execution_count": null,
   "metadata": {},
   "outputs": [],
   "source": [
    "timenumber = -2\n",
    "vrx, vry, arx, ary = sym.symbols(\"vr_x vr_y ar_x ar_y\")\n",
    "s = Speeds( ) #debug-iPython\n",
    "self = BasicThread(None, s, \"Robots\")\n",
    "reset( )\n",
    "self._A, self._B, self._R, self._C, self._predictedstate[\"x\"], self._predictedstate[\"covariance\"], timenumber"
   ]
  },
  {
   "cell_type": "code",
   "execution_count": null,
   "metadata": {},
   "outputs": [],
   "source": [
    "del self\n",
    "del s\n",
    "#end-iPython"
   ]
  },
  {
   "cell_type": "markdown",
   "metadata": {},
   "source": [
    "# Constructor Class\n",
    "doxygen-iPython"
   ]
  },
  {
   "cell_type": "code",
   "execution_count": null,
   "metadata": {
    "scrolled": true
   },
   "outputs": [],
   "source": [
    "#ini-iPython\n",
    "class argumentos:\n",
    "    numberrobots = 3\n",
    "    executionperiod = 2000\n",
    "    debug = False\n",
    "    savedata = True\n",
    "a = argumentos()\n",
    "#end-iPython\n",
    "s = Speeds( ) #debug-iPython\n",
    "pos = [0, 0] #debug-iPython\n",
    "n = 2 #debug-iPython\n",
    "#des-iPython def __init__(self, a, s, pos, n):\n",
    "#ini-tab -> Criando construtor\n",
    "# Instantiating constructor for inherited class.\n",
    "#edes-iPython super(Robots, self).__init__(a, s, \"Robots\")\n",
    "self = BasicThread(a, s, \"Robots\")\n",
    "\n",
    "timenumber = n\n",
    "\n",
    "__posdata = pos\n",
    "\n",
    "# Creating characteristic variables for Robots and reading.\n",
    "self._parameters.update({\n",
    "    \"precision\": 0.6\n",
    "})\n",
    "self._parameters = self._conf.readVariables(self._parameters)\n",
    "\n",
    "reset( )\n",
    "\n",
    "#des-iPython self.start( )"
   ]
  },
  {
   "cell_type": "code",
   "execution_count": null,
   "metadata": {},
   "outputs": [],
   "source": [
    "#end-tab -> Finalizando construtor"
   ]
  },
  {
   "cell_type": "code",
   "execution_count": null,
   "metadata": {},
   "outputs": [],
   "source": [
    "#ini-iPython"
   ]
  },
  {
   "cell_type": "markdown",
   "metadata": {},
   "source": [
    "## Teste construtor"
   ]
  },
  {
   "cell_type": "code",
   "execution_count": null,
   "metadata": {},
   "outputs": [],
   "source": [
    "self._end( )\n",
    "print self._parameters\n",
    "\n",
    "vrx, vry, arx, ary = sym.symbols(\"vr_x vr_y ar_x ar_y\")\n",
    "\n",
    "__u = sym.Matrix([\n",
    "    [vrx],\n",
    "    [vry],\n",
    "    [arx],\n",
    "    [ary],\n",
    "    [1],\n",
    "])\n",
    "\n",
    "self._B*__u\n",
    "#end-iPython"
   ]
  },
  {
   "cell_type": "markdown",
   "metadata": {},
   "source": [
    "# __predictVector\n",
    ".\n",
    "doxygen-iPython"
   ]
  },
  {
   "cell_type": "code",
   "execution_count": null,
   "metadata": {},
   "outputs": [],
   "source": [
    "#eself-iPython __predictVector\n",
    "#edes-iPython def __predictVector(self, vector):\n",
    "def __predictVector(vector):\n",
    "    tnow, movements = vector    \n",
    "    print \"Antes da Predição\" #debug-iPython\n",
    "    print \"tnow:\", tnow #debug-iPython\n",
    "    print self._state[\"x\"] #debug-iPython\n",
    "    print self._state[\"covariance\"] #debug-iPython\n",
    "    print \"\\n\" #debug-iPython\n",
    "    raw_input(\"Continue...\") #debug-iPython\n",
    "    print \"\\n\" #debug-iPython\n",
    "    #edes-iPython super(Robots, self)._predict(tnow, movements)\n",
    "    self._predict(tnow, movements)\n",
    "    print \"Depois da Predição\" #debug-iPython\n",
    "    print self._state[\"x\"] #debug-iPython\n",
    "    print self._state[\"covariance\"] #debug-iPython\n",
    "    print \"\\n\" #debug-iPython\n",
    "    raw_input(\"Continue...\") #debug-iPython\n",
    "    print \"\\n\" #debug-iPython\n",
    "    \n",
    "    print self.getName(), \"tnow:\", tnow #debug-iPython\n",
    "    if tnow == None and self._args.savedata == True:\n",
    "        try:\n",
    "            a = np.load(\"./Data/\" + self.getName() + \"-Robots.npy\")\n",
    "            a = np.concatenate((a,\n",
    "                [[\n",
    "                    self._state[\"time\"],\n",
    "                    [float(i) for i in self._state[\"x\"][:,0]],\n",
    "                    [self._state[\"covariance\"][i,i] for i in xrange(self._state[\"covariance\"].shape[0])],\n",
    "                    [float(i) for i in self._state[\"covariance\"][:,0]],\n",
    "                    timenumber,\n",
    "                ]]),\n",
    "                axis=0\n",
    "            )\n",
    "        except IOError:\n",
    "            a = [[\n",
    "                self._state[\"time\"],\n",
    "                [float(i) for i in self._state[\"x\"][:,0]],\n",
    "                [self._state[\"covariance\"][i,i] for i in xrange(self._state[\"covariance\"].shape[0])],\n",
    "                [float(i) for i in self._state[\"covariance\"][:,0]],\n",
    "                timenumber,\n",
    "            ]]\n",
    "        np.save(\"./Data/\" + self.getName() + \"-Robots\", a)\n",
    "    if tnow == None and timenumber != 0:\n",
    "        if self._predictedstate[\"covariance\"][0, 0] > self._parameters['vision_error'] or self._predictedstate[\"covariance\"][1, 1] > self._parameters['vision_error']:\n",
    "            if timenumber > 0:\n",
    "                self._bkb.write_float(\n",
    "                    \"VISUAL_MEMORY_AL_\" + str(int(timenumber)).zfill(2) + \"_LOC\",\n",
    "                    0\n",
    "                )\n",
    "            else:\n",
    "                self._bkb.write_float(\n",
    "                    \"VISUAL_MEMORY_OP_\" + str(-int(timenumber)).zfill(2) + \"_LOC\",\n",
    "                    0\n",
    "                )\n",
    "        \n",
    "        elif timenumber > 0:\n",
    "            self._bkb.write_float(\n",
    "                \"VISUAL_MEMORY_AL_\" + str(int(timenumber)).zfill(2) + \"_X\",\n",
    "                self._state[\"x\"][0, 0]\n",
    "            )\n",
    "            self._bkb.write_float(\n",
    "                \"VISUAL_MEMORY_AL_\" + str(int(timenumber)).zfill(2) + \"_Y\",\n",
    "                self._state[\"x\"][1, 0]\n",
    "            )\n",
    "            \n",
    "#             if sym.sqrt(self._state[\"x\"][2, 0]**2 + self._state[\"x\"][3, 0]**2) > self._bkb.read_float(\"VISUAL_MEMORY_AL_\" + str(int(timenumber)).zfill(2) + \"_MAX_VEL\"):\n",
    "            self._bkb.write_float(\n",
    "                \"VISUAL_MEMORY_AL_\" + str(int(timenumber)).zfill(2) + \"_MAX_VEL\",\n",
    "                sym.sqrt(self._state[\"x\"][2, 0]**2 + self._state[\"x\"][3, 0]**2)\n",
    "            )\n",
    "            \n",
    "            self._bkb.write_float(\n",
    "                \"VISUAL_MEMORY_AL_\" + str(int(timenumber)).zfill(2) + \"_LOC\",\n",
    "                1\n",
    "            )\n",
    "        else:\n",
    "            self._bkb.write_float(\n",
    "                \"VISUAL_MEMORY_OP_\" + str(-int(timenumber)).zfill(2) + \"_X\",\n",
    "                self._state[\"x\"][0, 0]\n",
    "            )\n",
    "            self._bkb.write_float(\n",
    "                \"VISUAL_MEMORY_OP_\" + str(-int(timenumber)).zfill(2) + \"_Y\",\n",
    "                self._state[\"x\"][1, 0]\n",
    "            )\n",
    "            \n",
    "#             if sym.sqrt(self._state[\"x\"][2, 0]**2 + self._state[\"x\"][3, 0]**2) > self._bkb.read_float(\"VISUAL_MEMORY_OP_\" + str(-int(timenumber)).zfill(2) + \"_MAX_VEL\"):\n",
    "            self._bkb.write_float(\n",
    "                \"VISUAL_MEMORY_OP_\" + str(-int(timenumber)).zfill(2) + \"_MAX_VEL\",\n",
    "                sym.sqrt(self._state[\"x\"][2, 0]**2 + self._state[\"x\"][3, 0]**2)\n",
    "            )\n",
    "            \n",
    "            self._bkb.write_float(\n",
    "                \"VISUAL_MEMORY_OP_\" + str(-int(timenumber)).zfill(2) + \"_LOC\",\n",
    "                1\n",
    "            ) #self-iPython __predictVector"
   ]
  },
  {
   "cell_type": "code",
   "execution_count": null,
   "metadata": {},
   "outputs": [],
   "source": [
    "#ini-iPython"
   ]
  },
  {
   "cell_type": "markdown",
   "metadata": {},
   "source": [
    "## Teste __predictVector"
   ]
  },
  {
   "cell_type": "code",
   "execution_count": null,
   "metadata": {},
   "outputs": [],
   "source": [
    "#end-iPython"
   ]
  },
  {
   "cell_type": "markdown",
   "metadata": {},
   "source": [
    "# predictThread\n",
    ".\n",
    "doxygen-iPython"
   ]
  },
  {
   "cell_type": "code",
   "execution_count": null,
   "metadata": {},
   "outputs": [],
   "source": [
    "#eself-iPython predictThread\n",
    "#edes-iPython def predictThread(self, tnow = None, movements = None):\n",
    "def predictThread(tnow = None, movements = None):\n",
    "    __listfunction.append([__predictVector, [tnow, movements]])\n",
    "    self._resume( ) #self-iPython predictThread"
   ]
  },
  {
   "cell_type": "code",
   "execution_count": null,
   "metadata": {},
   "outputs": [],
   "source": [
    "#ini-iPython"
   ]
  },
  {
   "cell_type": "markdown",
   "metadata": {},
   "source": [
    "## Teste predictThread"
   ]
  },
  {
   "cell_type": "code",
   "execution_count": null,
   "metadata": {},
   "outputs": [],
   "source": [
    "predictThread(1.0, 1)\n",
    "#end-iPython"
   ]
  },
  {
   "cell_type": "markdown",
   "metadata": {},
   "source": [
    "# updateVector\n",
    ".\n",
    "doxygen-iPython"
   ]
  },
  {
   "cell_type": "code",
   "execution_count": null,
   "metadata": {},
   "outputs": [],
   "source": [
    "#eself-iPython __updateVector\n",
    "#edes-iPython def __updateVector(self, data):\n",
    "def __updateVector(data):\n",
    "    print \"Antes da atualização\" #debug-iPython\n",
    "    print self._state[\"x\"] #debug-iPython\n",
    "    print self._state[\"covariance\"] #debug-iPython\n",
    "    raw_input() #debug-iPython\n",
    "    #edes-iPython super(Robots, self)._update(data) #self-iPython __updateVector\n",
    "    self._update(data)\n",
    "    print \"Depois da atualização\" #debug-iPython\n",
    "    print self._state[\"x\"] #debug-iPython\n",
    "    print self._state[\"covariance\"] #debug-iPython\n",
    "    raw_input() #debug-iPython"
   ]
  },
  {
   "cell_type": "markdown",
   "metadata": {},
   "source": [
    "# updateThread\n",
    ".\n",
    "doxygen-iPython"
   ]
  },
  {
   "cell_type": "code",
   "execution_count": null,
   "metadata": {},
   "outputs": [],
   "source": [
    "#eself-iPython updateThread\n",
    "#edes-iPython def updateThread(self, data):\n",
    "def updateThread(data):\n",
    "    __listfunction.append([__updateVector, data])\n",
    "    self._resume( ) #self-iPython updateThread"
   ]
  },
  {
   "cell_type": "code",
   "execution_count": null,
   "metadata": {},
   "outputs": [],
   "source": [
    "#ini-iPython"
   ]
  },
  {
   "cell_type": "markdown",
   "metadata": {},
   "source": [
    "## Teste predictThread"
   ]
  },
  {
   "cell_type": "code",
   "execution_count": null,
   "metadata": {},
   "outputs": [],
   "source": [
    "predictThread(1.0, 1)\n",
    "#end-iPython"
   ]
  },
  {
   "cell_type": "markdown",
   "metadata": {},
   "source": [
    "# run\n",
    ".\n",
    "doxygen-iPython"
   ]
  },
  {
   "cell_type": "code",
   "execution_count": null,
   "metadata": {},
   "outputs": [],
   "source": [
    "#eself-iPython run\n",
    "#edes-iPython def run(self):\n",
    "def run( ):\n",
    "    global self #debug-iPython\n",
    "    #edes-iPython self._running = True\n",
    "    self.running = True\n",
    "    #edes-iPython while self._running:\n",
    "    while self.running:\n",
    "        #edes-iPython with self._pausethread:\n",
    "        with self.pausethread:\n",
    "            while __listfunction != []:\n",
    "                func, data = __listfunction.pop(0)\n",
    "                func(data)\n",
    "        #edes-iPython self._pause( ) #self-iPython run\n",
    "        self.pause( )"
   ]
  },
  {
   "cell_type": "code",
   "execution_count": null,
   "metadata": {},
   "outputs": [],
   "source": [
    "#ini-iPython"
   ]
  },
  {
   "cell_type": "markdown",
   "metadata": {},
   "source": [
    "## Teste run"
   ]
  },
  {
   "cell_type": "code",
   "execution_count": null,
   "metadata": {},
   "outputs": [],
   "source": [
    "self = BasicThread(None, s, \"Robots\")\n",
    "self._reset()\n",
    "self.run = run\n",
    "self.start( )\n",
    "\n",
    "data = {\n",
    "    \"target\": 1,\n",
    "    \"pos\": [1, 1],\n",
    "    \"time\": 1.0,\n",
    "    \"movement\": 1\n",
    "}\n",
    "__listfunction = [ ]\n",
    "\n",
    "updateThread(data)\n",
    "\n",
    "# time.sleep(1)\n",
    "print \"listfunction:\", __listfunction\n",
    "self._predictedstate"
   ]
  },
  {
   "cell_type": "code",
   "execution_count": null,
   "metadata": {},
   "outputs": [],
   "source": [
    "print self._predictedstate\n",
    "time.sleep(1)\n",
    "self._finalize( )\n",
    "print self.running\n",
    "#end-iPython"
   ]
  },
  {
   "cell_type": "markdown",
   "metadata": {},
   "source": [
    "# end\n",
    ".\n",
    "doxygen-iPython"
   ]
  },
  {
   "cell_type": "code",
   "execution_count": null,
   "metadata": {},
   "outputs": [],
   "source": [
    "#eself-iPython end\n",
    "#edes-iPython def end(self):\n",
    "def end( ):\n",
    "    __listfunction = [ ]\n",
    "    self._finalize( )\n",
    "    #edes-iPython super(Robots, self)._end( ) #self-iPython end\n",
    "    self._end( ) #self-iPython end"
   ]
  },
  {
   "cell_type": "code",
   "execution_count": null,
   "metadata": {},
   "outputs": [],
   "source": [
    "#ini-iPython"
   ]
  },
  {
   "cell_type": "markdown",
   "metadata": {},
   "source": [
    "## Teste end"
   ]
  },
  {
   "cell_type": "code",
   "execution_count": null,
   "metadata": {},
   "outputs": [],
   "source": [
    "end( )\n",
    "#end-iPython"
   ]
  },
  {
   "cell_type": "markdown",
   "metadata": {},
   "source": [
    "# calculatesDistance\n",
    ".\n",
    "doxygen-iPython"
   ]
  },
  {
   "cell_type": "code",
   "execution_count": null,
   "metadata": {},
   "outputs": [],
   "source": [
    "#eself-iPython calculatesDistance\n",
    "#edes-iPython def calculatesDistance(self):\n",
    "def calculatesDistance( ):\n",
    "    global __lastposdata, __posdata, weight #debug-iPython\n",
    "    print \"Last:\", __lastposdata #debug-iPython\n",
    "    print \"Atual:\", __posdata #debug-iPython    \n",
    "    if __lastposdata == __posdata[:2]:\n",
    "        print \"Já calulado\" #debug-iPython\n",
    "        raw_input(\"...\") #debug-iPython\n",
    "        return\n",
    "    \n",
    "    print \"Calculando\" #debug-iPython\n",
    "    self._predict(__posdata[2], 0)    \n",
    "    __lastposdata = copy(__posdata[:2])\n",
    "    \n",
    "    #ini-iPython\n",
    "    print \"Valor Comparação\", sym.Matrix(__posdata[:2])\n",
    "    print \"Estado:\", self._predictedstate[\"x\"][:2,:2]\n",
    "    print \"Covariancia\", self._predictedstate[\"covariance\"][:2,:2]\n",
    "    temp = sym.Matrix(__posdata[:2]) - self._predictedstate[\"x\"][:2,:2]\n",
    "    temp = 2**(10./(1+(temp[0]**2 + temp[1]**2)**0.5))\n",
    "    print temp\n",
    "    raw_input(\"...\")\n",
    "    #end-iPython\n",
    "    \n",
    "    weight = sym.Matrix(__posdata[:2]) - self._predictedstate[\"x\"][:2,:2]\n",
    "    weight = 2**(10./(1+(weight[0]**2 + weight[1]**2)**0.5)) #self-iPython calculatesDistance"
   ]
  },
  {
   "cell_type": "code",
   "execution_count": null,
   "metadata": {},
   "outputs": [],
   "source": [
    "#ini-iPython"
   ]
  },
  {
   "cell_type": "markdown",
   "metadata": {},
   "source": [
    "## Teste calculatesDistance"
   ]
  },
  {
   "cell_type": "code",
   "execution_count": null,
   "metadata": {},
   "outputs": [],
   "source": [
    "__posdata = [1, 1]\n",
    "\n",
    "self._state[\"x\"][:2,:2] = [1, 2]\n",
    "self._state[\"x\"][:2,:2]\n",
    "self._state[\"covariance\"][:2,:2] = [[1, 0], [0, 1]]\n",
    "\n",
    "calculatesDistance( )\n",
    "print weight\n",
    "#end-iPython"
   ]
  },
  {
   "cell_type": "markdown",
   "metadata": {},
   "source": [
    "# __lt__\n",
    ".\n",
    "doxygen-iPython"
   ]
  },
  {
   "cell_type": "code",
   "execution_count": null,
   "metadata": {},
   "outputs": [],
   "source": [
    "#eself-iPython __lt__\n",
    "#eself-iPython weight\n",
    "#eself-iPython calculatesDistance\n",
    "#edes-iPython def __lt__(self, other):\n",
    "def __lt__(other):\n",
    "    self.calculatesDistance( )\n",
    "    other.calculatesDistance( )\n",
    "    return self.weight < other.weight #self-iPython __lt__\n",
    "    #self-iPython weight\n",
    "    #self-iPython calculatesDistance"
   ]
  },
  {
   "cell_type": "code",
   "execution_count": null,
   "metadata": {},
   "outputs": [],
   "source": [
    "#ini-iPython"
   ]
  },
  {
   "cell_type": "markdown",
   "metadata": {},
   "source": [
    "## Teste __lt__"
   ]
  },
  {
   "cell_type": "code",
   "execution_count": null,
   "metadata": {},
   "outputs": [],
   "source": [
    "\n",
    "#end-iPython"
   ]
  },
  {
   "cell_type": "markdown",
   "metadata": {},
   "source": [
    "# testReset\n",
    "doxygen-iPython"
   ]
  },
  {
   "cell_type": "code",
   "execution_count": null,
   "metadata": {},
   "outputs": [],
   "source": [
    "#eself-iPython testReset\n",
    "#edes-iPython def testReset(self):\n",
    "def testReset( ):\n",
    "    print \"\\n\" #debug-iPython\n",
    "    print \"Erro:\", self._state[\"covariance\"][0,0] + self._state[\"covariance\"][1,1] #debug-iPython\n",
    "    print \"Valor max:\", self._parameters[\"vision_error\"] #debug-iPython\n",
    "    print \"if:\", self._state[\"covariance\"][0,0] + self._state[\"covariance\"][1,1] > 3*self._parameters[\"vision_error\"] #debug-iPython\n",
    "    if self._state[\"covariance\"][0,0] + self._state[\"covariance\"][1,1] > 3*self._parameters[\"vision_error\"]:\n",
    "        __contreset += 1\n",
    "    else:\n",
    "        __contreset = 0\n",
    "        \n",
    "    if __contreset == 20:\n",
    "        reset()\n",
    "        __contreset = 0\n",
    "        print \"Resetando\" #debug-iPython\n",
    "        return True\n",
    "    else:\n",
    "        return False #self-iPython testReset"
   ]
  },
  {
   "cell_type": "code",
   "execution_count": null,
   "metadata": {},
   "outputs": [],
   "source": [
    "#ini-iPython"
   ]
  },
  {
   "cell_type": "markdown",
   "metadata": {},
   "source": [
    "## Teste testReset"
   ]
  },
  {
   "cell_type": "code",
   "execution_count": null,
   "metadata": {},
   "outputs": [],
   "source": [
    "\n",
    "#end-iPython"
   ]
  },
  {
   "cell_type": "code",
   "execution_count": null,
   "metadata": {},
   "outputs": [],
   "source": [
    "#end-tab -> Finalizando classe"
   ]
  },
  {
   "cell_type": "code",
   "execution_count": null,
   "metadata": {},
   "outputs": [],
   "source": [
    "#ini-iPython"
   ]
  },
  {
   "cell_type": "markdown",
   "metadata": {},
   "source": [
    "# nova_variavel\n",
    ".\n",
    "doxygen-iPython"
   ]
  },
  {
   "cell_type": "code",
   "execution_count": null,
   "metadata": {},
   "outputs": [],
   "source": [
    "nova_variavel = None #self-iPython nova_variavel"
   ]
  },
  {
   "cell_type": "markdown",
   "metadata": {},
   "source": [
    "# nova_funcao\n",
    ".\n",
    "doxygen-iPython"
   ]
  },
  {
   "cell_type": "code",
   "execution_count": null,
   "metadata": {},
   "outputs": [],
   "source": [
    "# eself-iPython nova_funcao\n",
    "# edes-iPython def nova_funcao(self, variaveis_funcao):\n",
    "def nova_funcao(variaveis_funcao):\n",
    "    pass # self-iPython nova_funcao"
   ]
  },
  {
   "cell_type": "code",
   "execution_count": null,
   "metadata": {},
   "outputs": [],
   "source": [
    "#ini-iPython"
   ]
  },
  {
   "cell_type": "markdown",
   "metadata": {},
   "source": [
    "## Teste nova_funcao"
   ]
  },
  {
   "cell_type": "code",
   "execution_count": null,
   "metadata": {},
   "outputs": [],
   "source": [
    "\n",
    "#end-iPython"
   ]
  },
  {
   "cell_type": "code",
   "execution_count": null,
   "metadata": {},
   "outputs": [],
   "source": [
    "#end-iPython"
   ]
  }
 ],
 "metadata": {
  "kernelspec": {
   "display_name": "Python 2",
   "language": "python",
   "name": "python2"
  },
  "language_info": {
   "codemirror_mode": {
    "name": "ipython",
    "version": 2
   },
   "file_extension": ".py",
   "mimetype": "text/x-python",
   "name": "python",
   "nbconvert_exporter": "python",
   "pygments_lexer": "ipython2",
   "version": "2.7.12"
  }
 },
 "nbformat": 4,
 "nbformat_minor": 2
}
