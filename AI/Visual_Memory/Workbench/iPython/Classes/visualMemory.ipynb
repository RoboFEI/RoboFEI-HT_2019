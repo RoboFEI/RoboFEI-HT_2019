{
 "cells": [
  {
   "cell_type": "code",
   "execution_count": 1,
   "metadata": {
    "collapsed": true
   },
   "outputs": [],
   "source": [
    "#ini-iPython\n",
    "import os\n",
    "os.chdir(\"/home/vinicius/Dropbox/Projeto Mestrado/Codigos/RoboFEI-HT_Debug/AI/Visual_Memory\") #Executando na pasta Vision\n",
    "import sys\n",
    "sys.path.append(\"./iPython\")\n",
    "#end-iPython"
   ]
  },
  {
   "cell_type": "markdown",
   "metadata": {},
   "source": [
    "---- List of execution parameters ----"
   ]
  },
  {
   "cell_type": "code",
   "execution_count": 2,
   "metadata": {
    "collapsed": true
   },
   "outputs": [],
   "source": [
    "#des-iPython import argparse"
   ]
  },
  {
   "cell_type": "code",
   "execution_count": 3,
   "metadata": {
    "collapsed": false
   },
   "outputs": [],
   "source": [
    "#des-iPython parser = argparse.ArgumentParser(\n",
    "#des-iPython     description=\"Visual Memory\",\n",
    "#des-iPython     epilog= \"Responsável por rastrear todos os objetos detectáveis pela visão.\\\\\" \\\n",
    "#des-iPython             \"Responsible for tracking all objects detectable by vision.\"\n",
    "#des-iPython )\n",
    "\n",
    "#des-iPython parser.add_argument(\n",
    "#des-iPython     \"--robot_numbers\", # Full name\n",
    "#des-iPython     \"--rn\", # Abbreviation for the name\n",
    "#des-iPython     type = int, # Type variable\n",
    "#des-iPython     help = \"Número de robôs que serão rastreados.\\\\\" \\\n",
    "#des-iPython            \"Number of robots to be tracked.\" # Description of the variable\n",
    "#des-iPython )\n",
    "\n",
    "#des-iPython parser.add_argument(\n",
    "#des-iPython     \"--frequency_of_execution\", # Full name\n",
    "#des-iPython     \"--f\", # Abbreviation for the name\n",
    "#des-iPython     type = float, # Type variable\n",
    "#des-iPython     help = \"Frequência de execução do programa, caso seja zero ira rodar sem interrupções.\\\\\" \\\n",
    "#des-iPython            \"Frequency of program execution, if zero will run without interruptions.\" # Description of the variable\n",
    "#des-iPython )\n",
    "\n",
    "#des-iPython args = parser.parse_args()\n",
    "\n",
    "#ini-iPython\n",
    "class test():\n",
    "    robot_numbers = None\n",
    "    frequency_of_execution = None\n",
    "args = test()\n",
    "#end-iPython"
   ]
  },
  {
   "cell_type": "markdown",
   "metadata": {},
   "source": [
    "---- Imports ----"
   ]
  },
  {
   "cell_type": "code",
   "execution_count": 4,
   "metadata": {
    "collapsed": true
   },
   "outputs": [],
   "source": [
    "# Libraries to be used.\n",
    "import sys\n",
    "sys.path.append(\"./include\")\n",
    "sys.path.append(\"./src\")"
   ]
  },
  {
   "cell_type": "code",
   "execution_count": 5,
   "metadata": {
    "collapsed": true
   },
   "outputs": [],
   "source": [
    "# The standard libraries used in the Visual Memory System.\n",
    "import numpy as np\n",
    "import os\n",
    "from copy import copy"
   ]
  },
  {
   "cell_type": "code",
   "execution_count": 6,
   "metadata": {
    "collapsed": false
   },
   "outputs": [],
   "source": [
    "# Used class developed by RoboFEI-HT\n",
    "from MainFunctions import * # Declaration the main functions.\n",
    "from Blackboard import * # Class used to access shared memory.\n",
    "from Robots import * # Class used to track robot.\n",
    "from Landmark import * # Class used to track landmark.\n",
    "from Ball import * # Class used to track ball.\n",
    "from Speeds import * # Classes used to manage robot speed values."
   ]
  },
  {
   "cell_type": "markdown",
   "metadata": {},
   "source": [
    "---- Main Code ----"
   ]
  },
  {
   "cell_type": "markdown",
   "metadata": {},
   "source": [
    "Starting processes"
   ]
  },
  {
   "cell_type": "code",
   "execution_count": 7,
   "metadata": {
    "collapsed": false
   },
   "outputs": [],
   "source": [
    "killedProcess() # Recognize external kill"
   ]
  },
  {
   "cell_type": "code",
   "execution_count": 8,
   "metadata": {
    "collapsed": false
   },
   "outputs": [
    {
     "name": "stdout",
     "output_type": "stream",
     "text": [
      "Parâmetros: {'relation_measurement_and_robot': 80, 'robot_numbers': 8, 'frequency_of_execution': 5.0} \n",
      "\n",
      "Qnt. robôs: 8\n"
     ]
    }
   ],
   "source": [
    "# Default values\n",
    "os.system('rm ./Data/config.ini') #debug-iPython\n",
    "parameters = {\n",
    "    \"robot_numbers\": 8,\n",
    "    \"relation_measurement_and_robot\": 80,\n",
    "    \"frequency_of_execution\": 0.2,\n",
    "}\n",
    "\n",
    "# Reading \"config.ini\" values\n",
    "conf = ConfigIni(\"Basic\", \"Settings\")\n",
    "parameters = conf.read(parameters)\n",
    "if args.robot_numbers != None:\n",
    "    parameters[\"robot_numbers\"] = args.robot_numbers\n",
    "\n",
    "if args.frequency_of_execution != None:\n",
    "    parameters[\"frequency_of_execution\"] = args.frequency_of_execution\n",
    "\n",
    "if parameters['frequency_of_execution'] != 0:\n",
    "    parameters['frequency_of_execution'] = 1.0/parameters['frequency_of_execution']\n",
    "\n",
    "print \"Parâmetros:\", parameters, \"\\n\" #debug-iPython\n",
    "\n",
    "# List with velocities for each movement of the robot.\n",
    "speeds = Speeds( )\n",
    "\n",
    "mem = Blackboard( ) # Creating shared memory\n",
    "\n",
    "land = Landmark(speeds) # Creating landmark object\n",
    "\n",
    "ball = Ball(speeds) # Creating landmark object\n",
    "\n",
    "# Creating robot objects\n",
    "observation = []\n",
    "robots = []\n",
    "newrobots = []\n",
    "for __ in xrange(parameters[\"robot_numbers\"]):\n",
    "    newrobots.append(Robots(speeds, observation))\n",
    "print \"Qnt. robôs:\", len(newrobots) #debug-iPython"
   ]
  },
  {
   "cell_type": "markdown",
   "metadata": {},
   "source": [
    "Main loop"
   ]
  },
  {
   "cell_type": "code",
   "execution_count": 9,
   "metadata": {
    "collapsed": false
   },
   "outputs": [
    {
     "name": "stdout",
     "output_type": "stream",
     "text": [
      "taglandmark: 2.0\n",
      "Lendo valores de Landmarks\n",
      "Dados landmarks: [2.0, 0.0, 0.0, 0.0]\n"
     ]
    },
    {
     "ename": "AttributeError",
     "evalue": "'Landmark' object has no attribute 'update'",
     "output_type": "error",
     "traceback": [
      "\u001b[0;31m---------------------------------------------------------------------------\u001b[0m",
      "\u001b[0;31mAttributeError\u001b[0m                            Traceback (most recent call last)",
      "\u001b[0;32m<ipython-input-9-a11d720e50af>\u001b[0m in \u001b[0;36m<module>\u001b[0;34m()\u001b[0m\n\u001b[1;32m     15\u001b[0m         \u001b[0mdatalandmarks\u001b[0m \u001b[0;34m=\u001b[0m \u001b[0mreadDataLandmarks\u001b[0m\u001b[0;34m(\u001b[0m\u001b[0mtaglandmark\u001b[0m\u001b[0;34m,\u001b[0m \u001b[0mmem\u001b[0m\u001b[0;34m)\u001b[0m\u001b[0;34m\u001b[0m\u001b[0m\n\u001b[1;32m     16\u001b[0m         \u001b[0;32mprint\u001b[0m \u001b[0;34m\"Dados landmarks:\"\u001b[0m\u001b[0;34m,\u001b[0m \u001b[0mdatalandmarks\u001b[0m \u001b[0;31m#debug-iPython\u001b[0m\u001b[0;34m\u001b[0m\u001b[0m\n\u001b[0;32m---> 17\u001b[0;31m         \u001b[0mspeeds\u001b[0m\u001b[0;34m.\u001b[0m\u001b[0mupdate\u001b[0m\u001b[0;34m(\u001b[0m\u001b[0mland\u001b[0m\u001b[0;34m.\u001b[0m\u001b[0mupdate\u001b[0m\u001b[0;34m(\u001b[0m\u001b[0mdatalandmarks\u001b[0m\u001b[0;34m)\u001b[0m\u001b[0;34m)\u001b[0m\u001b[0;34m\u001b[0m\u001b[0m\n\u001b[0m\u001b[1;32m     18\u001b[0m \u001b[0;34m\u001b[0m\u001b[0m\n\u001b[1;32m     19\u001b[0m     \u001b[0;32melse\u001b[0m\u001b[0;34m:\u001b[0m\u001b[0;34m\u001b[0m\u001b[0m\n",
      "\u001b[0;31mAttributeError\u001b[0m: 'Landmark' object has no attribute 'update'"
     ]
    }
   ],
   "source": [
    "#des-iPython while True:\n",
    "#ini-tab\n",
    "try:\n",
    "    # start timestamp\n",
    "    start = time.time()\n",
    "    \n",
    "    # Reading data about the landmark.\n",
    "    mem.write_float(\"VISION_LAND_TAG\", 2) #debug-iPython\n",
    "    taglandmark = mem.read_float(\"VISION_LAND_TAG\")\n",
    "    print \"taglandmark:\", taglandmark #debug-iPython\n",
    "    \n",
    "    if taglandmark != 0:\n",
    "        print \"Lendo valores de Landmarks\" #debug-iPython\n",
    "        # Read the values sent\n",
    "        datalandmarks = readDataLandmarks(taglandmark, mem)\n",
    "        print \"Dados landmarks:\", datalandmarks #debug-iPython\n",
    "        speeds.update(land.update(datalandmarks))\n",
    "        \n",
    "    else:\n",
    "        print \"Sem valores de Landmarks\" #debug-iPython\n",
    "        land.prediction( )\n",
    "    \n",
    "#     datarobots = readDataRobots(mem, parameters[\"robot_numbers\"])\n",
    "    datarobots = [\n",
    "        [1, 5, 0, 0],\n",
    "        [1, 5, 0, 1],\n",
    "        [2, 5, 0, 2],\n",
    "        [2, 5, 0, 3],\n",
    "        [2, 5, 0, 4],\n",
    "        [1, 5, 0, 5],\n",
    "        [2, 5, 0, 6],\n",
    "        [1, 5, 0, 7],\n",
    "        [2, 5, 0, 8],\n",
    "        [2, 5, 0, 9],\n",
    "        [2, 5, 0, 10],\n",
    "        \n",
    "        [1, 0, 0, 0],\n",
    "        [1, 1, 1, 1],\n",
    "        [1, 2, 2, 2],\n",
    "        [2, 3, 3, 3],\n",
    "        [1, 4, 4, 4],\n",
    "        [2, 5, 5, 5],\n",
    "        [1, 6, 6, 6],\n",
    "        [1, 7, 7, 7],\n",
    "        [1, 8, 8, 8],\n",
    "        [2, 9, 9, 9],\n",
    "        [2, 10, 10, 10],\n",
    "        \n",
    "        [2, 10, 10, 0],\n",
    "        [2, 9, 9, 1],\n",
    "        [2, 8, 8, 2],\n",
    "        [2, 7, 7, 3],\n",
    "        [3, 6, 6, 4],\n",
    "        [3, 5, 5, 5],\n",
    "        [2, 4, 4, 6],\n",
    "        [3, 3, 3, 7],\n",
    "        [3, 2, 2, 8],\n",
    "        [3, 1, 1, 9],\n",
    "        [2, 0, 0, 10],\n",
    "        \n",
    "        [2, 5, 5, 0],\n",
    "        [3, 7, 6, 1],\n",
    "        [3, 9, 7, 2],\n",
    "        [2, 11, 8, 3],\n",
    "        [2, 13, 9, 4],\n",
    "        [3, 15, 10, 5],\n",
    "        [3, 15, 10, 6],\n",
    "        [2, 15, 10, 7],\n",
    "        [3, 15, 10, 8],\n",
    "        [3, 15, 10, 9],\n",
    "        [3, 15, 10, 10],\n",
    "    ]\n",
    "    \n",
    "    datarobots.sort(key = lambda a: a[3]); #print datarobots #debug-iPython\n",
    "    \n",
    "    if datarobots != []:\n",
    "        oldtime = datarobots[0][3]\n",
    "        robotstesting = copy(robots)\n",
    "        \n",
    "        obs = 0\n",
    "        while(obs < len(datarobots)):\n",
    "            print \"Entrou\", len(datarobots), \"passo:\", obs\n",
    "            if oldtime != datarobots[obs][3]:\n",
    "                print \"Novos dados\"\n",
    "                robotstesting = copy(robots)\n",
    "                oldtime = datarobots[obs][3]\n",
    "            \n",
    "            if robotstesting == []:\n",
    "                print \"Novo Robô\"\n",
    "                newrobots[0].insertObservation(datarobots[obs])\n",
    "                robots.append(newrobots.pop(0))\n",
    "                datarobots.remove(datarobots[obs])\n",
    "                continue\n",
    "            \n",
    "            observation = datarobots[obs]\n",
    "            \n",
    "            print 'remove todos os elementos de robôs de cores erradas'\n",
    "            \n",
    "            sort(robots, reverse = True)\n",
    "            \n",
    "            if datarobots[0].weight < float(parameters['relation_measurement_and_robot'])/100:\n",
    "                if newrobots != []:\n",
    "                    newrobots[0].insertObservation(datarobots[obs])\n",
    "                    robots.append(newrobots.pop(0))\n",
    "                    datarobots.remove(datarobots[obs])\n",
    "                    obs -= 1\n",
    "                    continue\n",
    "            else:\n",
    "                datarobots[0].insertObservation(datarobots[obs])\n",
    "                datarobots.pop(0)\n",
    "                datarobots.remove(datarobots[obs])\n",
    "                obs -= 1\n",
    "            \n",
    "            obs += 1\n",
    "                    \n",
    "            \n",
    "                \n",
    "        \n",
    "        \n",
    "    # stop timestamp\n",
    "    diff = time.time() - start\n",
    "    print 'Tempo desejado para espera:', parameters[\"frequency_of_execution\"], 's' #debug-iPython\n",
    "    print 'Tempo de execução:', diff*1000, 'ms' #debug-iPython\n",
    "    \n",
    "    if parameters[\"frequency_of_execution\"] - diff > 0:\n",
    "        print 'Esperando:', (parameters[\"frequency_of_execution\"] - diff)*1000, 'ms' #debug-iPython\n",
    "        time.sleep(parameters[\"frequency_of_execution\"] - diff)\n",
    "        print 'Tempo esgotado' #debug-iPython\n",
    "    \n",
    "except KeyboardInterrupt:\n",
    "    os.system(\"clear\") # Cleaning terminal\n",
    "    print \"Keyboard interrupt detected\"\n",
    "    #des-iPython break\n",
    "except VisualMemoryException as e:\n",
    "    #edes-iPython break\n",
    "    pass\n",
    "#end-tab -- Fim do loop"
   ]
  },
  {
   "cell_type": "markdown",
   "metadata": {},
   "source": [
    "Finishing processes"
   ]
  },
  {
   "cell_type": "code",
   "execution_count": null,
   "metadata": {
    "collapsed": false
   },
   "outputs": [],
   "source": [
    "# Saving config values\n",
    "if parameters['frequency_of_execution'] != 0:\n",
    "    parameters['frequency_of_execution'] = 1.0/parameters['frequency_of_execution']\n",
    "conf.finalize(parameters)"
   ]
  },
  {
   "cell_type": "code",
   "execution_count": null,
   "metadata": {
    "collapsed": true
   },
   "outputs": [],
   "source": [
    "#ini-iPython"
   ]
  },
  {
   "cell_type": "markdown",
   "metadata": {},
   "source": [
    "# Testes"
   ]
  },
  {
   "cell_type": "code",
   "execution_count": null,
   "metadata": {
    "collapsed": false
   },
   "outputs": [],
   "source": [
    "robots"
   ]
  },
  {
   "cell_type": "code",
   "execution_count": null,
   "metadata": {
    "collapsed": false
   },
   "outputs": [],
   "source": [
    "datarobots"
   ]
  },
  {
   "cell_type": "code",
   "execution_count": null,
   "metadata": {
    "collapsed": false
   },
   "outputs": [],
   "source": [
    "newrobots"
   ]
  },
  {
   "cell_type": "code",
   "execution_count": null,
   "metadata": {
    "collapsed": false
   },
   "outputs": [],
   "source": []
  },
  {
   "cell_type": "code",
   "execution_count": null,
   "metadata": {
    "collapsed": false
   },
   "outputs": [],
   "source": []
  },
  {
   "cell_type": "code",
   "execution_count": null,
   "metadata": {
    "collapsed": true
   },
   "outputs": [],
   "source": []
  },
  {
   "cell_type": "code",
   "execution_count": null,
   "metadata": {
    "collapsed": true
   },
   "outputs": [],
   "source": []
  },
  {
   "cell_type": "code",
   "execution_count": null,
   "metadata": {
    "collapsed": true
   },
   "outputs": [],
   "source": []
  },
  {
   "cell_type": "code",
   "execution_count": null,
   "metadata": {
    "collapsed": true
   },
   "outputs": [],
   "source": []
  },
  {
   "cell_type": "code",
   "execution_count": null,
   "metadata": {
    "collapsed": true
   },
   "outputs": [],
   "source": []
  },
  {
   "cell_type": "code",
   "execution_count": null,
   "metadata": {
    "collapsed": true
   },
   "outputs": [],
   "source": [
    "#end-iPython"
   ]
  }
 ],
 "metadata": {
  "kernelspec": {
   "display_name": "Python 2",
   "language": "python",
   "name": "python2"
  },
  "language_info": {
   "codemirror_mode": {
    "name": "ipython",
    "version": 2
   },
   "file_extension": ".py",
   "mimetype": "text/x-python",
   "name": "python",
   "nbconvert_exporter": "python",
   "pygments_lexer": "ipython2",
   "version": "2.7.6"
  }
 },
 "nbformat": 4,
 "nbformat_minor": 1
}
