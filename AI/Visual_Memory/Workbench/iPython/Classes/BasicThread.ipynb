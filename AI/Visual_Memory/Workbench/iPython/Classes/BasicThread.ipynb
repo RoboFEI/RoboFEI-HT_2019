{
 "cells": [
  {
   "cell_type": "code",
   "execution_count": 1,
   "metadata": {
    "collapsed": true
   },
   "outputs": [],
   "source": [
    "#ini-iPython\n",
    "import os\n",
    "os.chdir('/home/vinicius/Dropbox/Projeto Mestrado/Codigos/RoboFEI-HT_Debug/AI/Visual_Memory') #Executando na pasta Vision\n",
    "import sys\n",
    "sys.path.append('./include')\n",
    "sys.path.append('./src')\n",
    "sys.path.append('./iPython')\n",
    "#end-iPython"
   ]
  },
  {
   "cell_type": "markdown",
   "metadata": {
    "collapsed": true
   },
   "source": [
    "---- Imports ----"
   ]
  },
  {
   "cell_type": "code",
   "execution_count": 2,
   "metadata": {
    "collapsed": true
   },
   "outputs": [],
   "source": [
    "# Libraries to be used.\n",
    "import sys\n",
    "#des-iPython sys.path.append('../include')\n",
    "#des-iPython sys.path.append('../src')"
   ]
  },
  {
   "cell_type": "code",
   "execution_count": 3,
   "metadata": {
    "collapsed": true
   },
   "outputs": [],
   "source": [
    "# The standard libraries used in the visual memory system.\n"
   ]
  },
  {
   "cell_type": "code",
   "execution_count": 4,
   "metadata": {
    "collapsed": true
   },
   "outputs": [],
   "source": [
    "# Used class developed by RoboFEI-HT.\n",
    "from KalmanFilter import * # Class responsible for implementing kalman filter"
   ]
  },
  {
   "cell_type": "markdown",
   "metadata": {
    "collapsed": true
   },
   "source": [
    "# Class to BasicThread\n",
    ".\n",
    "doxygen-iPython"
   ]
  },
  {
   "cell_type": "code",
   "execution_count": 5,
   "metadata": {
    "collapsed": true
   },
   "outputs": [],
   "source": [
    "#des-iPython class BasicThread(KalmanFilter):\n",
    "#ini-tab -> Iniciando código classe\n",
    "#des-iPython __metaclass__ = ABCMeta"
   ]
  },
  {
   "cell_type": "markdown",
   "metadata": {},
   "source": [
    "---- Variables ----"
   ]
  },
  {
   "cell_type": "code",
   "execution_count": 6,
   "metadata": {
    "collapsed": true
   },
   "outputs": [],
   "source": [
    "#ini-iPython\n",
    "\n",
    "# ------- Lista de funções herdadas -------\n",
    "\n",
    "\n",
    "\n",
    "# ------- Lista variaveis herdadas -------\n",
    "\n",
    "\n",
    "\n",
    "# ------- Lista de funções -------\n",
    "\n",
    "\n",
    "\n",
    "# ------- Lista variaveis -------\n",
    "\n",
    "\n",
    "\n",
    "#end-iPython - Fim listas"
   ]
  },
  {
   "cell_type": "markdown",
   "metadata": {},
   "source": [
    "# Constructor Class\n",
    "doxygen-iPython"
   ]
  },
  {
   "cell_type": "code",
   "execution_count": 7,
   "metadata": {
    "collapsed": false
   },
   "outputs": [],
   "source": [
    "#des-iPython @abstractmethod\n",
    "#des-iPython def __init__(self, s):\n",
    "s = None #debug-iPython\n",
    "#ini-tab -> Criando construtor\n",
    "#edes-iPython super(BasicThread, self).__init__(s)\n",
    "a = KalmanFilter(s)"
   ]
  },
  {
   "cell_type": "code",
   "execution_count": 8,
   "metadata": {
    "collapsed": true
   },
   "outputs": [],
   "source": [
    "#end-tab -> Finalizando construtor\n",
    "#ini-iPython"
   ]
  },
  {
   "cell_type": "markdown",
   "metadata": {},
   "source": [
    "## Teste construtor"
   ]
  },
  {
   "cell_type": "code",
   "execution_count": 9,
   "metadata": {
    "collapsed": false
   },
   "outputs": [],
   "source": [
    "\n",
    "#end-iPython"
   ]
  },
  {
   "cell_type": "code",
   "execution_count": 10,
   "metadata": {
    "collapsed": false
   },
   "outputs": [],
   "source": [
    "#end-tab -> Finalizando classe"
   ]
  },
  {
   "cell_type": "code",
   "execution_count": 11,
   "metadata": {
    "collapsed": true
   },
   "outputs": [],
   "source": [
    "#ini-iPython"
   ]
  },
  {
   "cell_type": "markdown",
   "metadata": {},
   "source": [
    "# nova_variavel\n",
    ".\n",
    "doxygen-iPython"
   ]
  },
  {
   "cell_type": "code",
   "execution_count": 12,
   "metadata": {
    "collapsed": true
   },
   "outputs": [],
   "source": [
    "nova_variavel = None #self-iPython nova_variavel"
   ]
  },
  {
   "cell_type": "markdown",
   "metadata": {},
   "source": [
    "# nova_funcao\n",
    "doxygen-iPython"
   ]
  },
  {
   "cell_type": "code",
   "execution_count": 13,
   "metadata": {
    "collapsed": true
   },
   "outputs": [],
   "source": [
    "# eself-iPython nova_funcao\n",
    "# edes-iPython def nova_funcao(self, variaveis_funcao):\n",
    "def nova_funcao(variaveis_funcao):\n",
    "    pass # self-iPython nova_funcao"
   ]
  },
  {
   "cell_type": "code",
   "execution_count": 14,
   "metadata": {
    "collapsed": true
   },
   "outputs": [],
   "source": [
    "#ini-iPython"
   ]
  },
  {
   "cell_type": "markdown",
   "metadata": {},
   "source": [
    "## Teste nova_funcao"
   ]
  },
  {
   "cell_type": "code",
   "execution_count": 15,
   "metadata": {
    "collapsed": true
   },
   "outputs": [],
   "source": [
    "\n",
    "#end-iPython"
   ]
  },
  {
   "cell_type": "code",
   "execution_count": 16,
   "metadata": {
    "collapsed": true
   },
   "outputs": [],
   "source": [
    "#end-iPython"
   ]
  }
 ],
 "metadata": {
  "kernelspec": {
   "display_name": "Python 2",
   "language": "python",
   "name": "python2"
  },
  "language_info": {
   "codemirror_mode": {
    "name": "ipython",
    "version": 2
   },
   "file_extension": ".py",
   "mimetype": "text/x-python",
   "name": "python",
   "nbconvert_exporter": "python",
   "pygments_lexer": "ipython2",
   "version": "2.7.6"
  }
 },
 "nbformat": 4,
 "nbformat_minor": 2
}
