{
 "cells": [
  {
   "cell_type": "markdown",
   "metadata": {},
   "source": [
    "****************************************************************************\n",
    "* @file: Behavior.py\n",
    "* @project: ROBOFEI-HT - FEI 😛\n",
    "* @author: Vinicius Nicassio Ferreira\n",
    "* @version: V0.0.1\n",
    "* @created: 23/10/2017\n",
    "* @e-mail: vinicius.nicassio@gmail.com\n",
    "* @brief: Class Behavior\n",
    "****************************************************************************"
   ]
  },
  {
   "cell_type": "code",
   "execution_count": null,
   "metadata": {},
   "outputs": [],
   "source": [
    "#ini-iPython"
   ]
  },
  {
   "cell_type": "markdown",
   "metadata": {},
   "source": [
    "# Executando no diretório principal"
   ]
  },
  {
   "cell_type": "code",
   "execution_count": null,
   "metadata": {},
   "outputs": [],
   "source": [
    "import os\n",
    "os.chdir('../../') #Executando na pasta Visual_Memory\n",
    "os.system(\"cd Workbench/ && ./zerar.sh && cd ..\")\n",
    "os.system(\"cd Workbench/iPython/ && ./convertendo.sh && cd ../../\")\n",
    "import sys\n",
    "sys.path.append('./include')\n",
    "sys.path.append('./src')\n",
    "sys.path.append('./Workbench/iPython')\n",
    "#end-iPython"
   ]
  },
  {
   "cell_type": "markdown",
   "metadata": {},
   "source": [
    "---- Imports ----"
   ]
  },
  {
   "cell_type": "code",
   "execution_count": null,
   "metadata": {},
   "outputs": [],
   "source": [
    "# Libraries to be used.\n",
    "#des-iPython import sys\n",
    "#des-iPython sys.path.append('../include')\n",
    "#des-iPython sys.path.append('../src')"
   ]
  },
  {
   "cell_type": "code",
   "execution_count": null,
   "metadata": {},
   "outputs": [],
   "source": [
    "# The standard libraries used in the visual memory system.\n",
    "import os # Class used for communication with the system\n",
    "import signal # Class used for external interrupt detection.\n",
    "from math import log10, floor # Functions used for rounding UI"
   ]
  },
  {
   "cell_type": "code",
   "execution_count": null,
   "metadata": {},
   "outputs": [],
   "source": [
    "# Used class developed by RoboFEI-HT.\n",
    "#ini-iPython - Usando Classe Basic como instanciação\n",
    "os.system(\"sed -i '/@abstractmethod/d' ./Workbench/iPython/Basic.py\")\n",
    "os.system(\"sed -i '/__metaclass__/d' ./Workbench/iPython/Basic.py\")\n",
    "#end-iPython\n",
    "from Basic import * # Standard and abstract class.\n",
    "from Robots import * # Class responsible for performing robots tracking.\n",
    "from Landmark import * # Class responsible for performing landmarks tracking."
   ]
  },
  {
   "cell_type": "markdown",
   "metadata": {},
   "source": [
    "# Class Behavior\n",
    "Class responsible for managing the behavior of Visual Memory.\n",
    "doxygen-iPython"
   ]
  },
  {
   "cell_type": "code",
   "execution_count": null,
   "metadata": {},
   "outputs": [],
   "source": [
    "#des-iPython class Behavior(Basic):\n",
    "#ini-tab -> Iniciando código classe"
   ]
  },
  {
   "cell_type": "markdown",
   "metadata": {},
   "source": [
    "---- Variables ----"
   ]
  },
  {
   "cell_type": "markdown",
   "metadata": {},
   "source": [
    "# __posrobot\n",
    "Variable used to instantiate class responsible for robot speed.\n",
    "doxygen-iPython"
   ]
  },
  {
   "cell_type": "code",
   "execution_count": null,
   "metadata": {},
   "outputs": [],
   "source": [
    "__posrobot = None #self-iPython __posrobot"
   ]
  },
  {
   "cell_type": "markdown",
   "metadata": {},
   "source": [
    "# parameters\n",
    "Variable used to instantiate class responsible for robot speed.\n",
    "doxygen-iPython"
   ]
  },
  {
   "cell_type": "code",
   "execution_count": null,
   "metadata": {},
   "outputs": [],
   "source": [
    "parameters = None #self-iPython parameters"
   ]
  },
  {
   "cell_type": "code",
   "execution_count": null,
   "metadata": {},
   "outputs": [],
   "source": [
    "#ini-iPython\n",
    "\n",
    "# ------- Lista de funções herdadas -------\n",
    "\n",
    "\n",
    "\n",
    "# ------- Lista variaveis -------\n",
    "\n",
    "#self-iPython me\n",
    "#self-iPython land\n",
    "#self-iPython robots\n",
    "\n",
    "#self-iPython __newrobots\n",
    "#self-iPython args\n",
    "\n",
    "# ------- Lista de funções -------\n",
    "\n",
    "#self-iPython run\n",
    "#self-iPython readDataLandmarks\n",
    "#self-iPython readDataRobots\n",
    "#self-iPython distributeDataRobots\n",
    "#self-iPython readDataBall\n",
    "#self-iPython end\n",
    "#self-iPython killedProcess\n",
    "#self-iPython signal_term_handler\n",
    "#self-iPython printPreviousLine\n",
    "#self-iPython updatingScreen\n",
    "#self-iPython roundUI\n",
    "\n",
    "#end-iPython - Fim listas"
   ]
  },
  {
   "cell_type": "code",
   "execution_count": null,
   "metadata": {},
   "outputs": [],
   "source": [
    "#eself-iPython signal_term_handler\n",
    "#edes-iPython def signal_term_handler(self, signal, frame):\n",
    "def signal_term_handler(signal, frame):\n",
    "    raise VisualMemoryException(3, '') #self-iPython signal_term_handler"
   ]
  },
  {
   "cell_type": "code",
   "execution_count": null,
   "metadata": {},
   "outputs": [],
   "source": [
    "#eself-iPython killedProcess\n",
    "#edes-iPython def killedProcess(self):\n",
    "def killedProcess( ):\n",
    "    signal.signal(signal.SIGTERM, signal_term_handler) #self-iPython killedProcess"
   ]
  },
  {
   "cell_type": "markdown",
   "metadata": {},
   "source": [
    "# Constructor Class\n",
    "doxygen-iPython"
   ]
  },
  {
   "cell_type": "code",
   "execution_count": null,
   "metadata": {},
   "outputs": [],
   "source": [
    "#ini-iPython\n",
    "class argumentos:\n",
    "    numberrobots = 4\n",
    "    executionperiod = 2000\n",
    "    debug = False\n",
    "    savedata = False\n",
    "a = argumentos()\n",
    "#end-iPython\n",
    "#des-iPython def __init__(self, a):\n",
    "#ini-tab -> Criando construtor\n",
    "killedProcess( ) # Function to monitor external process kill.\n",
    "args = a # Input arguments.\n",
    "\n",
    "#edes-iPython super(Behavior, self).__init__(a, \"Settings\", \"Visual Memory\")\n",
    "self = Basic(a, \"Settings\", \"Visual Memory\")\n",
    "\n",
    "# Creating default values and reading values\n",
    "parameters = {\n",
    "    \"number_robots\": 8,\n",
    "    \"execution_period_ms\": 100,\n",
    "    \"weight_robot\": 0.0006,\n",
    "}\n",
    "parameters = self._conf.readVariables(parameters)\n",
    "\n",
    "if args.numberrobots != None:\n",
    "    parameters[\"number_robots\"] = args.numberrobots\n",
    "\n",
    "if args.executionperiod != None:\n",
    "    parameters[\"execution_period_ms\"] = args.executionperiod\n",
    "\n",
    "if parameters[\"number_robots\"] < 0 or parameters[\"number_robots\"] > 22:\n",
    "    raise VisualMemoryException(1, parameters[\"number_robots\"])\n",
    "\n",
    "# Creating objects to be tracking\n",
    "me = Speeds( )\n",
    "land = Landmark(args, me)\n",
    "\n",
    "# Support Variables\n",
    "robots = []\n",
    "__newrobots = []\n",
    "__posrobot = [0, 0, 0]\n",
    "\n",
    "for i in xrange(-parameters[\"number_robots\"]/2, parameters[\"number_robots\"]/2):\n",
    "    if i == 0:\n",
    "        continue\n",
    "    __newrobots.append(Robots(args, me, __posrobot, i))\n",
    "a = __newrobots.pop()\n",
    "#eself-iPython end\n",
    "print \"Finalizando\"\n",
    "a.end() #self-iPython end\n",
    "print \"Finalizado\""
   ]
  },
  {
   "cell_type": "code",
   "execution_count": null,
   "metadata": {},
   "outputs": [],
   "source": [
    "#end-tab -> Finalizando construtor"
   ]
  },
  {
   "cell_type": "code",
   "execution_count": null,
   "metadata": {},
   "outputs": [],
   "source": [
    "#ini-iPython"
   ]
  },
  {
   "cell_type": "markdown",
   "metadata": {},
   "source": [
    "## Teste construtor"
   ]
  },
  {
   "cell_type": "code",
   "execution_count": null,
   "metadata": {},
   "outputs": [],
   "source": [
    "self._end( )\n",
    "__newrobots\n",
    "#end-iPython"
   ]
  },
  {
   "cell_type": "markdown",
   "metadata": {},
   "source": [
    "# readDataLandmarks\n",
    "Responsible for reading the data coming from the vision system.\n",
    "doxygen-iPython"
   ]
  },
  {
   "cell_type": "code",
   "execution_count": null,
   "metadata": {},
   "outputs": [],
   "source": [
    "#eself-iPython readDataLandmarks\n",
    "#edes-iPython def readDataLandmarks(self, old):\n",
    "def readDataLandmarks(old):\n",
    "    if self._bkb.read_int(\"VISION_LAND_TAG\") == 1:\n",
    "        data = [{\n",
    "                \"tag\": 1,\n",
    "                \"pos\": [self._bkb.read_float(\"VISION_LAND_X\"), self._bkb.read_float(\"VISION_LAND_Y\")],\n",
    "                \"time\": self._bkb.read_double(\"VISION_LAND_TIME\"),\n",
    "                \"movement\": self._bkb.read_int(\"VISION_LAND_MOV\"),\n",
    "            }]\n",
    "        \n",
    "        self._bkb.write_int(\"VISION_LAND_TAG\", 0)\n",
    "        return old + data\n",
    "    else:\n",
    "        return old #self-iPython readDataLandmarks"
   ]
  },
  {
   "cell_type": "code",
   "execution_count": null,
   "metadata": {},
   "outputs": [],
   "source": [
    "#ini-iPython"
   ]
  },
  {
   "cell_type": "markdown",
   "metadata": {},
   "source": [
    "## Teste readDataLandmarks"
   ]
  },
  {
   "cell_type": "code",
   "execution_count": null,
   "metadata": {},
   "outputs": [],
   "source": [
    "self._bkb.write_int(\"VISION_LAND_TAG\", 1)\n",
    "self._bkb.write_float(\"VISION_LAND_X\", 2)\n",
    "self._bkb.write_float(\"VISION_LAND_Y\", 3)\n",
    "self._bkb.write_double(\"VISION_LAND_TIME\", 4)\n",
    "self._bkb.write_int(\"VISION_LAND_MOV\", 4)\n",
    "a = []\n",
    "a = readDataLandmarks(a)\n",
    "print \"a:\", a\n",
    "a = readDataLandmarks(a)\n",
    "print \"a:\", a\n",
    "#end-iPython"
   ]
  },
  {
   "cell_type": "markdown",
   "metadata": {},
   "source": [
    "# readDataRobots\n",
    ".\n",
    "doxygen-iPython"
   ]
  },
  {
   "cell_type": "code",
   "execution_count": null,
   "metadata": {},
   "outputs": [],
   "source": [
    "#eself-iPython readDataRobots\n",
    "#edes-iPython def readDataRobots(self, old):\n",
    "def readDataRobots(old):\n",
    "    data = []\n",
    "    for number in xrange(1, 22):\n",
    "#         print \"number:\", number #debug-iPython\n",
    "        if self._bkb.read_int(\"VISION_RB\" + str(number).zfill(2) + \"_TAG\") == 0:\n",
    "            continue\n",
    "        \n",
    "        data.append({\n",
    "            \"tag\": self._bkb.read_int(\"VISION_RB\" + str(number).zfill(2) + \"_TAG\") - 2,\n",
    "            \"pos\": [self._bkb.read_float(\"VISION_RB\" + str(number).zfill(2) + \"_X\")*100, self._bkb.read_float(\"VISION_RB\" + str(number).zfill(2) + \"_Y\")*100],\n",
    "            \"time\": self._bkb.read_double(\"VISION_RB\" + str(number).zfill(2) + \"_TIME\"),\n",
    "            \"movement\": int(self._bkb.read_int(\"VISION_RB\" + str(number).zfill(2) + \"_MOV\")),\n",
    "        })\n",
    "        \n",
    "        self._bkb.write_int(\"VISION_RB\" + str(number).zfill(2) + \"_TAG\", 0)\n",
    "    \n",
    "    data = sorted(old + data, key= lambda k: k[\"time\"])\n",
    "    \n",
    "    return data #self-iPython readDataRobots"
   ]
  },
  {
   "cell_type": "markdown",
   "metadata": {},
   "source": [
    "## Teste readDataRobots"
   ]
  },
  {
   "cell_type": "code",
   "execution_count": null,
   "metadata": {},
   "outputs": [],
   "source": [
    "#ini-iPython\n",
    "from IPython.display import clear_output\n",
    "try:\n",
    "    while True:\n",
    "        time.sleep(3)\n",
    "        clear_output()\n",
    "        a = []\n",
    "        a = readDataRobots(a)\n",
    "        print \"a:\"\n",
    "        print np.array(a)\n",
    "except:\n",
    "    pass"
   ]
  },
  {
   "cell_type": "code",
   "execution_count": null,
   "metadata": {},
   "outputs": [],
   "source": [
    "self._bkb.write_int(\"VISION_RB01_TAG\", 2)\n",
    "self._bkb.write_float(\"VISION_RB01_X\", 1)\n",
    "self._bkb.write_float(\"VISION_RB01_Y\", 2)\n",
    "self._bkb.write_double(\"VISION_RB01_TIME\", 3)\n",
    "self._bkb.write_int(\"VISION_RB01_MOV\", 3)\n",
    "\n",
    "a = []\n",
    "a = readDataRobots(a)\n",
    "print \"a:\", a\n",
    "\n",
    "self._bkb.write_int(\"VISION_RB02_TAG\", 1)\n",
    "self._bkb.write_float(\"VISION_RB02_X\", 1)\n",
    "self._bkb.write_float(\"VISION_RB02_Y\", 2)\n",
    "self._bkb.write_double(\"VISION_RB02_TIME\", 2)\n",
    "self._bkb.write_int(\"VISION_RB02_MOV\", 2)\n",
    "\n",
    "a = readDataRobots(a)\n",
    "print \"a:\", a\n",
    "#end-iPython"
   ]
  },
  {
   "cell_type": "markdown",
   "metadata": {},
   "source": [
    "# distributeDataRobots\n",
    ".\n",
    "doxygen-iPython"
   ]
  },
  {
   "cell_type": "code",
   "execution_count": null,
   "metadata": {},
   "outputs": [],
   "source": [
    "#eself-iPython distributeDataRobots\n",
    "#edes-iPython def distributeDataRobots(self, datarobots):\n",
    "def distributeDataRobots(datarobots):\n",
    "    global __newrobots #debug-iPython\n",
    "    if datarobots == [] or __newrobots + robots == []:\n",
    "        return\n",
    "    \n",
    "    index = 0\n",
    "    timenow = -1\n",
    "    while index < len(datarobots):\n",
    "        data = datarobots[index]\n",
    "        print \"Dado analisado:\", data #debug-iPython\n",
    "        \n",
    "        # New instant in time.\n",
    "        if data[\"time\"] != timenow:\n",
    "            opponent = [ robot for robot in robots if robot.timenumber < 0 ]\n",
    "            indefinite = [ robot for robot in robots if robot.timenumber == 0 ]\n",
    "            teammate = [ robot for robot in robots if robot.timenumber > 1 ]\n",
    "            print \"Criado listas:\" #debug-iPython\n",
    "            print \"opponent:\", opponent #debug-iPython\n",
    "            print \"indefinite:\", indefinite #debug-iPython\n",
    "            print \"teammate:\", teammate #debug-iPython\n",
    "            timenow = data[\"time\"]\n",
    "        \n",
    "        # First input data\n",
    "        if robots == []:\n",
    "            print \"Primeira leitura\" #debug-iPython\n",
    "            candidates = __newrobots.pop(0)\n",
    "            candidates.timenumber = data[\"tag\"]*(len([ robot for robot in robots if robot.timenumber*data[\"tag\"] > 0 ]) + 1)\n",
    "            candidates.updateThread(data)\n",
    "            robots.append(candidates)\n",
    "            datarobots.pop(index)\n",
    "            print \"\\n\" #debug-iPython\n",
    "            raw_input(\"Continuar...\") #debug-iPython\n",
    "            continue\n",
    "        \n",
    "        # Calculates the similarity of the data with the objects\n",
    "        #  Saving position\n",
    "        __posrobot[0], __posrobot[1], __posrobot[2] = data[\"pos\"] + [data[\"time\"]]\n",
    "        \n",
    "        #  Generating Candidates\n",
    "        if data[\"tag\"] == -1:\n",
    "            candidates = opponent + indefinite\n",
    "        elif data[\"tag\"] == 1:\n",
    "            candidates = indefinite + teammate\n",
    "        else:\n",
    "            candidates = opponent + indefinite + teammate\n",
    "        print \"Candidatos feitos:\", candidates #debug-iPython\n",
    "        \n",
    "        for cad in candidates:\n",
    "            print \"Pausado antes:\", cad._threadPaused(), cad._predictedstate[\"x\"] #debug-iPython\n",
    "            while not cad._threadPaused():\n",
    "                time.sleep(0.033333)\n",
    "            print \"Pausado depois:\", cad._threadPaused(), cad._predictedstate[\"x\"] #debug-iPython\n",
    "        \n",
    "        #  Calculates the similarity\n",
    "        if len(candidates) == 1:\n",
    "            print \"Apenas 1\" #debug-iPython\n",
    "            candidates[0].calculatesDistance()\n",
    "        else:\n",
    "            print \"Varios\" #debug-iPython\n",
    "            candidates.sort(reverse=True)\n",
    "        \n",
    "        for cad in candidates: #debug-iPython\n",
    "            print \"weight:\", cad.weight, cad._predictedstate[\"x\"] #debug-iPython\n",
    "            print \"weight considerado:\", parameters[\"weight_robot\"] #debug-iPython\n",
    "        \n",
    "        if candidates != []: #debug-iPython\n",
    "            print \"weight:\", candidates[0].weight, candidates[0]._predictedstate[\"x\"], candidates[0].weight < parameters[\"weight_robot\"] #debug-iPython\n",
    "        \n",
    "        # Sends the data to the most similar object and run object update\n",
    "        if __newrobots != [] and (candidates == [] or candidates[0].weight < parameters[\"weight_robot\"]):\n",
    "            print \"Nenhum candidato proximo\" #debug-iPython\n",
    "            candidates = __newrobots.pop(0)\n",
    "            candidates.timenumber = data[\"tag\"]*(len([ robot for robot in robots if robot.timenumber*data[\"tag\"] > 0 ]) + 1)\n",
    "            candidates.updateThread(data)\n",
    "            robots.append(candidates)\n",
    "            datarobots.pop(index)\n",
    "            index -= 1\n",
    "        else:\n",
    "            if candidates != [] and candidates[0].timenumber < 0:\n",
    "                print \"candidato adversario\" #debug-iPython\n",
    "                opponent.remove(candidates[0])\n",
    "                candidates[0].updateThread(data)\n",
    "                datarobots.pop(index)\n",
    "                index -= 1\n",
    "            elif candidates != [] and candidates[0].timenumber > 0:\n",
    "                print \"cadidato aliado\" #debug-iPython\n",
    "                teammate.remove(candidates[0])\n",
    "                candidates[0].updateThread(data)\n",
    "                datarobots.pop(index)\n",
    "                index -= 1\n",
    "            elif candidates != []:\n",
    "                print \"candidato sei lá\" #debug-iPython\n",
    "                indefinite.remove(candidates[0])\n",
    "                candidates[0].timenumber = data[\"tag\"]*(len([ robot for robot in robots if robot.timenumber*data[\"tag\"] > 0 ]) + 1)\n",
    "                candidates[0].updateThread(data)\n",
    "                datarobots.pop(index)\n",
    "                index -= 1\n",
    "        \n",
    "        print \"Robots:\", robots #debug-iPython\n",
    "        print \"New Robots:\", __newrobots #debug-iPython\n",
    "        print \"\\n\" #debug-iPython\n",
    "        raw_input(\"Continuar...\") #debug-iPython\n",
    "        index += 1 #self-iPython distributeDataRobots"
   ]
  },
  {
   "cell_type": "code",
   "execution_count": null,
   "metadata": {},
   "outputs": [],
   "source": [
    "#ini-iPython"
   ]
  },
  {
   "cell_type": "markdown",
   "metadata": {},
   "source": [
    "## Teste distributeDataRobots"
   ]
  },
  {
   "cell_type": "code",
   "execution_count": null,
   "metadata": {},
   "outputs": [],
   "source": [
    "# data = [\n",
    "#     {\"tag\": -1, \"pos\": [+7.00, +0.00], \"movement\": 1, \"time\": 0.0},\n",
    "#     {\"tag\": 1, \"pos\": [+6.00, +0.00], \"movement\": 1, \"time\": 0.0},\n",
    "# ]\n",
    "\n",
    "# data = sorted(data, key= lambda k: k[\"time\"])\n",
    "\n",
    "# distributeDataRobots(data)\n",
    "\n",
    "# data = [\n",
    "#     {\"tag\": -1, \"pos\": [+4.49, -1.30], \"movement\": 1, \"time\": 0.5},\n",
    "#     {\"tag\": 1, \"pos\": [+6.00, +0.00], \"movement\": 1, \"time\": 0.0},\n",
    "# ]\n",
    "\n",
    "for i in xrange(1, 22):\n",
    "    self._bkb.write_int('VISION_RB'+ str(i).zfill(2) +'_TAG', 0)\n",
    "\n",
    "time.sleep(1)\n",
    "\n",
    "data = []\n",
    "\n",
    "data = readDataRobots(data)\n",
    "\n",
    "distributeDataRobots(data)\n",
    "\n",
    "print \"robots:\", robots\n",
    "\n",
    "#end-iPython"
   ]
  },
  {
   "cell_type": "markdown",
   "metadata": {},
   "source": [
    "# readDataBall\n",
    "Responsible for reading the data coming from the vision system.\n",
    "doxygen-iPython"
   ]
  },
  {
   "cell_type": "code",
   "execution_count": null,
   "metadata": {},
   "outputs": [],
   "source": [
    "#eself-iPython readDataBall\n",
    "#edes-iPython def readDataBall(self):\n",
    "def readDataBall(old):\n",
    "    if self._bkb.read_float(\"VISION_BALL_TAG\") == 1:\n",
    "        data = [{\n",
    "                \"tag\": 1,\n",
    "                \"pos\": [self._bkb.read_float(\"VISION_BALL_X\"), self._bkb.read_float(\"VISION_BALL_Y\")],\n",
    "                \"time\": self._bkb.read_float(\"VISION_BALL_TIME\"),\n",
    "                \"movement\": self._bkb.read_float(\"VISION_BALL_MOV\"),\n",
    "            }]\n",
    "        \n",
    "        self._bkb.write_float(\"VISION_BALL_TAG\", 0)\n",
    "        return old + data\n",
    "    else:\n",
    "        return old #self-iPython readDataBall"
   ]
  },
  {
   "cell_type": "code",
   "execution_count": null,
   "metadata": {},
   "outputs": [],
   "source": [
    "#ini-iPython"
   ]
  },
  {
   "cell_type": "markdown",
   "metadata": {},
   "source": [
    "## Teste readDataLandmarks"
   ]
  },
  {
   "cell_type": "code",
   "execution_count": null,
   "metadata": {},
   "outputs": [],
   "source": [
    "self._bkb.write_int(\"VISION_LAND_TAG\", 1)\n",
    "self._bkb.write_float(\"VISION_LAND_X\", 2)\n",
    "self._bkb.write_float(\"VISION_LAND_Y\", 3)\n",
    "self._bkb.write_double(\"VISION_LAND_TIME\", 4)\n",
    "self._bkb.write_int(\"VISION_LAND_MOV\", 5)\n",
    "a = []\n",
    "a = readDataLandmarks(a)\n",
    "print \"a:\", a\n",
    "a = readDataLandmarks(a)\n",
    "print \"a:\", a\n",
    "#end-iPython"
   ]
  },
  {
   "cell_type": "markdown",
   "metadata": {},
   "source": [
    "# printPreviousLine\n",
    ".\n",
    "doxygen-iPython"
   ]
  },
  {
   "cell_type": "code",
   "execution_count": null,
   "metadata": {},
   "outputs": [],
   "source": [
    "#eself-iPython printPreviousLine\n",
    "#edes-iPython def printPreviousLine(self, text, lines=1, back=True):\n",
    "def printPreviousLine(text, lines=1, back=True):\n",
    "    for i in xrange(lines):\n",
    "        print \"\\033[F\\r\",\n",
    "    print text\n",
    "\n",
    "    if back:\n",
    "        for i in xrange(lines - 1):\n",
    "            print \"\" #self-iPython printPreviousLine"
   ]
  },
  {
   "cell_type": "code",
   "execution_count": null,
   "metadata": {},
   "outputs": [],
   "source": [
    "#ini-iPython"
   ]
  },
  {
   "cell_type": "markdown",
   "metadata": {},
   "source": [
    "## Teste printPreviousLine"
   ]
  },
  {
   "cell_type": "code",
   "execution_count": null,
   "metadata": {
    "scrolled": false
   },
   "outputs": [],
   "source": [
    "print \"Ola mundo\"\n",
    "print \"Como vai você?\"\n",
    "printPreviousLine(\"Batata\", lines=3)\n",
    "#end-iPython"
   ]
  },
  {
   "cell_type": "markdown",
   "metadata": {},
   "source": [
    "# roundUI\n",
    ".\n",
    "doxygen-iPython"
   ]
  },
  {
   "cell_type": "code",
   "execution_count": null,
   "metadata": {},
   "outputs": [],
   "source": [
    "#eself-iPython roundUI\n",
    "#edes-iPython def roundUI(self, x, digits = 4):\n",
    "def roundUI(x, digits = 4):\n",
    "    try:\n",
    "        return round(x, (digits - 1)-int(floor(log10(abs(x)))))\n",
    "    except ValueError:\n",
    "        return 0 #self-iPython roundUI"
   ]
  },
  {
   "cell_type": "markdown",
   "metadata": {},
   "source": [
    "# updatingScreen\n",
    ".\n",
    "doxygen-iPython"
   ]
  },
  {
   "cell_type": "code",
   "execution_count": null,
   "metadata": {},
   "outputs": [],
   "source": [
    "#eself-iPython updatingScreen\n",
    "#edes-iPython def updatingScreen(self):\n",
    "def updatingScreen( ):\n",
    "    # Update landmark\n",
    "    if self._bkb.read_float(\"VISUAL_MEMORY_LAND_LOC\") == 0:\n",
    "        text = \"+---+ Landmark +     Não    +--------------+           00000          +      \"\n",
    "    else:\n",
    "        text = \"+---+ Landmark +     Sim    +--------------+           00000          +      \"\n",
    "    \n",
    "    texts = [\n",
    "        \"| x |          |            |     \"+ str(roundUI(self._bkb.read_float(\"VISUAL_MEMORY_LAND_X\"))).zfill(5) +\"    |                          |      \",\n",
    "        text,\n",
    "        \"| y |          |            |     \"+ str(roundUI(self._bkb.read_float(\"VISUAL_MEMORY_LAND_Y\"))).zfill(5) +\"    |                          |      \",\n",
    "    ]\n",
    "    if parameters[\"number_robots\"] > 1:\n",
    "        for i, text in zip(range(4 + (parameters[\"number_robots\"] - 1)*4, 4 + (parameters[\"number_robots\"] - 1)*4 - 3, -1), texts):\n",
    "            printPreviousLine(text, lines=i)\n",
    "    else:\n",
    "        for i, text in zip(range(4, 1, -1), texts):\n",
    "            printPreviousLine(text, lines=i)\n",
    "    \n",
    "    # Update robots\n",
    "    for robot in xrange(1, parameters[\"number_robots\"]):\n",
    "        # Update friend robots\n",
    "        if robot <= (parameters[\"number_robots\"] - 1)/2:\n",
    "            if self._bkb.read_float(\"VISUAL_MEMORY_AL_\"+ str(robot).zfill(2) +\"_LOC\") == 0:\n",
    "                text = \"+---+  Aliado  +     Não    +--------------+           \"+ str(roundUI(self._bkb.read_float(\"VISUAL_MEMORY_AL_\"+ str(robot).zfill(2) +\"_MAX_VEL\"))).zfill(5) +\"          +      \"\n",
    "            else:\n",
    "                text = \"+---+  Aliado  +     Sim    +--------------+           \"+ str(roundUI(self._bkb.read_float(\"VISUAL_MEMORY_AL_\"+ str(robot).zfill(2) +\"_MAX_VEL\"))).zfill(5) +\"          +      \"\n",
    "\n",
    "            texts = [\n",
    "                \"| x |          |            |     \"+ str(roundUI(self._bkb.read_float(\"VISUAL_MEMORY_AL_\"+ str(robot).zfill(2) +\"_X\"))).zfill(5) +\"    |                          |      \",\n",
    "                text,\n",
    "                \"| y |          |            |     \"+ str(roundUI(self._bkb.read_float(\"VISUAL_MEMORY_AL_\"+ str(robot).zfill(2) +\"_Y\"))).zfill(5) +\"    |                          |      \",\n",
    "            ]\n",
    "        else:\n",
    "            if self._bkb.read_float(\"VISUAL_MEMORY_OP_\"+ str(robot - (parameters[\"number_robots\"] - 1)/2).zfill(2) +\"_LOC\") == 0:\n",
    "                text = \"+---+ Oponente +     Não    +--------------+           \"+ str(roundUI(self._bkb.read_float(\"VISUAL_MEMORY_OP_\"+ str(robot - (parameters[\"number_robots\"] - 1)/2).zfill(2) +\"_MAX_VEL\"))).zfill(5) +\"          +      \"\n",
    "            else:\n",
    "                text = \"+---+ Oponente +     Sim    +--------------+           \"+ str(roundUI(self._bkb.read_float(\"VISUAL_MEMORY_OP_\"+ str(robot - (parameters[\"number_robots\"] - 1)/2).zfill(2) +\"_MAX_VEL\"))).zfill(5) +\"          +      \"\n",
    "\n",
    "            texts = [\n",
    "                \"| x |          |            |     \"+ str(roundUI(self._bkb.read_float(\"VISUAL_MEMORY_OP_\"+ str(robot - (parameters[\"number_robots\"] - 1)/2).zfill(2) +\"_X\"))).zfill(5) +\"    |                          |      \",\n",
    "                text,\n",
    "                \"| y |          |            |     \"+ str(roundUI(self._bkb.read_float(\"VISUAL_MEMORY_OP_\"+ str(robot - (parameters[\"number_robots\"] - 1)/2).zfill(2) +\"_Y\"))).zfill(5) +\"    |                          |      \",\n",
    "            ]\n",
    "        \n",
    "        for i, text in zip(range((parameters[\"number_robots\"] - robot)*4, (parameters[\"number_robots\"] - robot)*4 - 3, -1), texts):\n",
    "            printPreviousLine(text, lines=i) #self-iPython updatingScreen"
   ]
  },
  {
   "cell_type": "code",
   "execution_count": null,
   "metadata": {},
   "outputs": [],
   "source": [
    "#ini-iPython"
   ]
  },
  {
   "cell_type": "markdown",
   "metadata": {},
   "source": [
    "## Teste updatingScreen"
   ]
  },
  {
   "cell_type": "code",
   "execution_count": null,
   "metadata": {},
   "outputs": [],
   "source": [
    "updatingScreen( )\n",
    "#end-iPython"
   ]
  },
  {
   "cell_type": "markdown",
   "metadata": {},
   "source": [
    "# run\n",
    "doxygen-iPython"
   ]
  },
  {
   "cell_type": "code",
   "execution_count": null,
   "metadata": {},
   "outputs": [],
   "source": [
    "#eself-iPython run\n",
    "#edes-iPython def run(self):\n",
    "def run( ):\n",
    "    # Initiating variables\n",
    "    datalandmarks = []\n",
    "    datarobots = []\n",
    "    databall = []\n",
    "\n",
    "    if args.debug:\n",
    "        print \"\\nPeríodo de execução:\", parameters[\"execution_period_ms\"], \"\\tPeso mínimo:\", parameters[\"weight_robot\"]*100, \"%\", \"\\tTempo:\", time.strftime(\"%H:%M:%S\", time.localtime(time.time( )))\n",
    "        print \"    +----------+------------+--------------+--------------------------+      \"\n",
    "        print \"    |   Nome   | Localizado | Posição (cm) | Velocidade máxima (cm/s) |      \"\n",
    "        print \"+---+----------+------------+--------------+--------------------------+      \"\n",
    "        print \"| x |          |            |     00000    |                          |      \"\n",
    "        print \"+---+ Landmark +     Não    +--------------+           00000          +      \"\n",
    "        print \"| y |          |            |     00000    |                          |      \"\n",
    "        print \"+---+----------+------------+--------------+--------------------------+      \"\n",
    "\n",
    "        for i in xrange((parameters[\"number_robots\"] - 1)/2):\n",
    "            print \"| x |          |            |     00000    |                          |      \"\n",
    "            print \"+---+  Aliado  +     Não    +--------------+           00000          +      \"\n",
    "            print \"| y |          |            |     00000    |                          |      \"\n",
    "            print \"+---+----------+------------+--------------+--------------------------+      \"\n",
    "        for i in xrange((parameters[\"number_robots\"] - 1)/2, (parameters[\"number_robots\"] - 1)):\n",
    "            print \"| x |          |            |     00000    |                          |      \"\n",
    "            print \"+---+ Oponente +     Não    +--------------+           00000          +      \"\n",
    "            print \"| y |          |            |     00000    |                          |      \"\n",
    "            print \"+---+----------+------------+--------------+--------------------------+      \"\n",
    "\n",
    "    #des-iPython while True:\n",
    "    #ini-tab - Função while\n",
    "    try:\n",
    "        # Start counting time\n",
    "        start = time.time()\n",
    "        print \"start:\", start #debug-iPython\n",
    "\n",
    "        # Analyzing landmarks ------------------------------------------------------------\n",
    "        \n",
    "#         # Reading data from landmarks\n",
    "#         datalandmarks = readDataLandmarks(datalandmarks)\n",
    "# #         print \"datalandmarks:\", datalandmarks\n",
    "\n",
    "#         if datalandmarks != []:\n",
    "#             # Predict new landmarks position and robot speed (me)\n",
    "#             me.update(land.update(datalandmarks.pop(0)))\n",
    "#         else:\n",
    "#             # Predicts only the new landmarks position\n",
    "#             print \"Land:\" #debug-iPython\n",
    "#             land.predict(movements = 0)\n",
    "            \n",
    "        # Analyzing robots ------------------------------------------------------------\n",
    "\n",
    "        # Reading robots data\n",
    "        datarobots = readDataRobots(datarobots)\n",
    "#         print \"datarobots:\", datarobots\n",
    "        \n",
    "        print \"robots:\", robots #debug-iPython\n",
    "        print \"newrobots: \", __newrobots #debug-iPython\n",
    "\n",
    "        # Distribute the data to the robot objects\n",
    "        print \"Recebidos datarobots:\", datarobots #debug-iPython\n",
    "        distributeDataRobots(datarobots)\n",
    "        print \"Restantes datarobots:\", datarobots #debug-iPython\n",
    "        \n",
    "        print \"Robots:\", robots #debug-iPython\n",
    "        print \"New Robots: \", __newrobots #debug-iPython\n",
    "\n",
    "        # # Reading ball data\n",
    "        # databall = readDataBall(databall)\n",
    "\n",
    "        # # Distribute the data to the ball objects\n",
    "        # Batata\n",
    "\n",
    "        # # Doing cleaning and objects (lost objects)\n",
    "        i = 0\n",
    "        while i < len(robots):\n",
    "            if robots[i].testReset( ):\n",
    "                __newrobots.append(robots.pop(i))\n",
    "                continue\n",
    "            i += 1\n",
    "                \n",
    "\n",
    "        # # Predicts objects (Now)\n",
    "        for robot in robots:\n",
    "            print \"Robots:\" #debug-iPython\n",
    "            robot.predictThread(movements=0)\n",
    "        #ini-iPython\n",
    "            while not robot._threadPaused():\n",
    "                time.sleep(0.033333)\n",
    "            print \"Predito:\", robot._state\n",
    "        raw_input(\"Novo Ciclo...\")\n",
    "        #end-iPython\n",
    "\n",
    "        # # Send object for vision screening\n",
    "        # Batata\n",
    "\n",
    "        # Displaying debug values\n",
    "        if args.debug:        \n",
    "            printPreviousLine(\n",
    "                \"Período de execução: \" + str(parameters[\"execution_period_ms\"]) + \"\\tPeso mínimo: \" + str(parameters[\"weight_robot\"]*100) + \"%\\tTempo: \" + time.strftime(\"%H:%M:%S\", time.localtime(time.time( ))),\n",
    "                lines=8+4*(parameters[\"number_robots\"]-1)\n",
    "            )            \n",
    "            updatingScreen( )\n",
    "\n",
    "        # Wait an instant on the remaining time\n",
    "        delta = parameters[\"execution_period_ms\"]*1e-3 - time.time() + start\n",
    "        print \"delta:\", delta #debug-iPython\n",
    "        if delta > 0:\n",
    "            print \"Aguardando\", delta*1e3, \"ms\" #debug-iPython\n",
    "            time.sleep(delta) #self-iPython run\n",
    "            print \"Período finalizado\" #debug-iPython\n",
    "    except KeyboardInterrupt:\n",
    "        os.system('clear') # Cleaning terminal\n",
    "        print \"Keyboard interrupt detected\"\n",
    "        #edes-iPython break\n",
    "        pass\n",
    "    except VisualMemoryException as e:\n",
    "        #edes-iPython break\n",
    "        pass\n",
    "    #end-tab - Função while"
   ]
  },
  {
   "cell_type": "code",
   "execution_count": null,
   "metadata": {},
   "outputs": [],
   "source": [
    "#ini-iPython"
   ]
  },
  {
   "cell_type": "markdown",
   "metadata": {},
   "source": [
    "## Teste run"
   ]
  },
  {
   "cell_type": "code",
   "execution_count": null,
   "metadata": {},
   "outputs": [],
   "source": [
    "run( )\n",
    "#end-iPython"
   ]
  },
  {
   "cell_type": "markdown",
   "metadata": {},
   "source": [
    "# end\n",
    ".\n",
    "doxygen-iPython"
   ]
  },
  {
   "cell_type": "code",
   "execution_count": null,
   "metadata": {},
   "outputs": [],
   "source": [
    "#eself-iPython end\n",
    "#edes-iPython def end(self):\n",
    "def end( ):\n",
    "    self._end( )\n",
    "    kill = robots + __newrobots\n",
    "    print \"Lista de robos:\", kill #debug-iPython\n",
    "    \n",
    "    for robot in kill:\n",
    "        print \"Finalizando\", robot #debug-iPython\n",
    "        robot.end( )\n",
    "        print \"Finalizado\", robot #debug-iPython\n",
    "    \n",
    "    land.end( ) #self-iPython end"
   ]
  },
  {
   "cell_type": "code",
   "execution_count": null,
   "metadata": {},
   "outputs": [],
   "source": [
    "#ini-iPython"
   ]
  },
  {
   "cell_type": "markdown",
   "metadata": {},
   "source": [
    "## Teste end"
   ]
  },
  {
   "cell_type": "code",
   "execution_count": null,
   "metadata": {},
   "outputs": [],
   "source": [
    "end( )\n",
    "#end-iPython"
   ]
  },
  {
   "cell_type": "code",
   "execution_count": null,
   "metadata": {},
   "outputs": [],
   "source": [
    "#end-tab -> Finalizando classe"
   ]
  },
  {
   "cell_type": "code",
   "execution_count": null,
   "metadata": {},
   "outputs": [],
   "source": [
    "#ini-iPython"
   ]
  },
  {
   "cell_type": "markdown",
   "metadata": {},
   "source": [
    "# nova_variavel\n",
    ".\n",
    "doxygen-iPython"
   ]
  },
  {
   "cell_type": "code",
   "execution_count": null,
   "metadata": {},
   "outputs": [],
   "source": [
    "nova_variavel = None #self-iPython nova_variavel"
   ]
  },
  {
   "cell_type": "markdown",
   "metadata": {},
   "source": [
    "# nova_funcao\n",
    ".\n",
    "doxygen-iPython"
   ]
  },
  {
   "cell_type": "code",
   "execution_count": null,
   "metadata": {},
   "outputs": [],
   "source": [
    "# eself-iPython nova_funcao\n",
    "# edes-iPython def nova_funcao(self, variaveis_funcao):\n",
    "def nova_funcao(variaveis_funcao):\n",
    "    pass # self-iPython nova_funcao"
   ]
  },
  {
   "cell_type": "code",
   "execution_count": null,
   "metadata": {},
   "outputs": [],
   "source": [
    "#ini-iPython"
   ]
  },
  {
   "cell_type": "markdown",
   "metadata": {},
   "source": [
    "## Teste nova_funcao"
   ]
  },
  {
   "cell_type": "code",
   "execution_count": null,
   "metadata": {},
   "outputs": [],
   "source": [
    "\n",
    "#end-iPython"
   ]
  },
  {
   "cell_type": "code",
   "execution_count": null,
   "metadata": {},
   "outputs": [],
   "source": [
    "#end-iPython"
   ]
  }
 ],
 "metadata": {
  "kernelspec": {
   "display_name": "Python 2",
   "language": "python",
   "name": "python2"
  },
  "language_info": {
   "codemirror_mode": {
    "name": "ipython",
    "version": 2
   },
   "file_extension": ".py",
   "mimetype": "text/x-python",
   "name": "python",
   "nbconvert_exporter": "python",
   "pygments_lexer": "ipython2",
   "version": "2.7.12"
  }
 },
 "nbformat": 4,
 "nbformat_minor": 1
}
