{
 "cells": [
  {
   "cell_type": "markdown",
   "metadata": {},
   "source": [
    "****************************************************************************\n",
    "* @file: Speeds.py\n",
    "* @project: ROBOFEI-HT - FEI 😛\n",
    "* @author: Vinicius Nicassio Ferreira\n",
    "* @version: V0.0.1\n",
    "* @created: 23/10/2017\n",
    "* @e-mail: vinicius.nicassio@gmail.com\n",
    "* @brief: Class Speeds\n",
    "****************************************************************************"
   ]
  },
  {
   "cell_type": "code",
   "execution_count": 1,
   "metadata": {
    "collapsed": true
   },
   "outputs": [],
   "source": [
    "#ini-iPython"
   ]
  },
  {
   "cell_type": "markdown",
   "metadata": {},
   "source": [
    "# Executando no diretório principal"
   ]
  },
  {
   "cell_type": "code",
   "execution_count": 2,
   "metadata": {
    "collapsed": true
   },
   "outputs": [],
   "source": [
    "import os\n",
    "os.chdir('../../') #Executando na pasta Visual_Memory\n",
    "import sys\n",
    "sys.path.append('./include')\n",
    "sys.path.append('./src')\n",
    "sys.path.append('./Workbench/iPython')\n",
    "#end-iPython"
   ]
  },
  {
   "cell_type": "markdown",
   "metadata": {
    "collapsed": true
   },
   "source": [
    "---- Imports ----"
   ]
  },
  {
   "cell_type": "code",
   "execution_count": 3,
   "metadata": {
    "collapsed": true
   },
   "outputs": [],
   "source": [
    "# Libraries to be used.\n",
    "import sys\n",
    "#des-iPython sys.path.append(\"../include\")\n",
    "#des-iPython sys.path.append(\"../src\")"
   ]
  },
  {
   "cell_type": "code",
   "execution_count": 4,
   "metadata": {
    "collapsed": true
   },
   "outputs": [],
   "source": [
    "# The standard libraries used in the visual memory system.\n"
   ]
  },
  {
   "cell_type": "code",
   "execution_count": 5,
   "metadata": {
    "collapsed": false
   },
   "outputs": [],
   "source": [
    "# Used class developed by RoboFEI-HT.\n",
    "from Basic import * # Class with implementations and basic variables\n",
    "sym.init_printing() #debug-iPython"
   ]
  },
  {
   "cell_type": "markdown",
   "metadata": {
    "collapsed": true
   },
   "source": [
    "# Class to Speeds\n",
    "Class responsible for managing the robot's possible speeds (me).\n",
    "doxygen-iPython"
   ]
  },
  {
   "cell_type": "code",
   "execution_count": 6,
   "metadata": {
    "collapsed": true
   },
   "outputs": [],
   "source": [
    "#des-iPython class Speeds(Basic):\n",
    "#ini-tab -> Iniciando código classe"
   ]
  },
  {
   "cell_type": "markdown",
   "metadata": {},
   "source": [
    "---- Variables ----"
   ]
  },
  {
   "cell_type": "markdown",
   "metadata": {},
   "source": [
    "# __movementslist\n",
    "Velocity list of robot movements.\n",
    "doxygen-iPython"
   ]
  },
  {
   "cell_type": "code",
   "execution_count": 7,
   "metadata": {
    "collapsed": true
   },
   "outputs": [],
   "source": [
    "__movementslist = [] #self-iPython __movementslist"
   ]
  },
  {
   "cell_type": "markdown",
   "metadata": {},
   "source": [
    "# __u\n",
    "Speed matrix $u_t$.\n",
    "doxygen-iPython"
   ]
  },
  {
   "cell_type": "code",
   "execution_count": 8,
   "metadata": {
    "collapsed": true
   },
   "outputs": [],
   "source": [
    "__u = None #self-iPython __u"
   ]
  },
  {
   "cell_type": "markdown",
   "metadata": {},
   "source": [
    "# __R\n",
    "Speed error matrix $R_t$.\n",
    "doxygen-iPython"
   ]
  },
  {
   "cell_type": "code",
   "execution_count": 9,
   "metadata": {
    "collapsed": true
   },
   "outputs": [],
   "source": [
    "__R = None #self-iPython __R"
   ]
  },
  {
   "cell_type": "code",
   "execution_count": 10,
   "metadata": {
    "collapsed": true
   },
   "outputs": [],
   "source": [
    "#ini-iPython\n",
    "\n",
    "# ------- Lista de funções herdadas -------\n",
    "\n",
    "\n",
    "\n",
    "# ------- Lista variaveis herdadas -------\n",
    "\n",
    "#self-iPython vrx\n",
    "#self-iPython vry\n",
    "#self-iPython arx\n",
    "#self-iPython ary\n",
    "\n",
    "# ------- Lista de funções -------\n",
    "\n",
    "#self-iPython update\n",
    "#self-iPython __getitem__\n",
    "\n",
    "#end-iPython - Fim listas"
   ]
  },
  {
   "cell_type": "markdown",
   "metadata": {},
   "source": [
    "# Constructor Class\n",
    "Initializes basic network parameters and creates standard speeds.\n",
    "doxygen-iPython"
   ]
  },
  {
   "cell_type": "code",
   "execution_count": 11,
   "metadata": {
    "collapsed": false
   },
   "outputs": [
    {
     "data": {
      "image/png": "[encoded data removed]",
      "text/latex": [
       "$$\\left ( \\left[\\begin{matrix}0\\\\0\\\\0\\\\0\\\\1\\end{matrix}\\right], \\quad \\left[\\begin{array}{cccccc}1000 & 0 & 0 & 0 & 0 & 0\\\\0 & 1000 & 0 & 0 & 0 & 0\\\\0 & 0 & 1000 & 0 & 0 & 0\\\\0 & 0 & 0 & 1000 & 0 & 0\\\\0 & 0 & 0 & 0 & 1000 & 0\\\\0 & 0 & 0 & 0 & 0 & 1000\\end{array}\\right]\\right )$$"
      ],
      "text/plain": [
       "⎛⎡0⎤, ⎡1000   0     0     0     0     0  ⎤⎞\n",
       "⎜⎢ ⎥  ⎢                                  ⎥⎟\n",
       "⎜⎢0⎥  ⎢ 0    1000   0     0     0     0  ⎥⎟\n",
       "⎜⎢ ⎥  ⎢                                  ⎥⎟\n",
       "⎜⎢0⎥  ⎢ 0     0    1000   0     0     0  ⎥⎟\n",
       "⎜⎢ ⎥  ⎢                                  ⎥⎟\n",
       "⎜⎢0⎥  ⎢ 0     0     0    1000   0     0  ⎥⎟\n",
       "⎜⎢ ⎥  ⎢                                  ⎥⎟\n",
       "⎜⎣1⎦  ⎢ 0     0     0     0    1000   0  ⎥⎟\n",
       "⎜     ⎢                                  ⎥⎟\n",
       "⎝     ⎣ 0     0     0     0     0    1000⎦⎠"
      ]
     },
     "execution_count": 11,
     "metadata": {},
     "output_type": "execute_result"
    }
   ],
   "source": [
    "#des-iPython def __init__(self):\n",
    "#ini-tab -> Criando construtor\n",
    "__movementslist.append({\n",
    "    \"x_speed\": sym.Matrix([\n",
    "        [0], # v_x\n",
    "        [0], # v_y\n",
    "        [0], # a_x\n",
    "        [0], # a_y\n",
    "        [1], # constant\n",
    "    ]),\n",
    "        \n",
    "    \"R\": sym.Matrix(sym.Identity(6)*0)\n",
    "})\n",
    "\n",
    "__t = sym.symbols(\"t\") # Declaring variable time\n",
    "\n",
    "# Robot speed and acceleration variables\n",
    "vrx, vry = sym.symbols(\"vr_x vr_y\")\n",
    "arx, ary = sym.symbols(\"ar_x ar_y\")\n",
    "\n",
    "\n",
    "# Kalman filter matrices\n",
    "__u = sym.Matrix([\n",
    "    [0],\n",
    "    [0],\n",
    "    [0],\n",
    "    [0],\n",
    "    [1],\n",
    "])\n",
    "\n",
    "__R = sym.Matrix(sym.Identity(6)*1000)\n",
    "\n",
    "__u, __R #debug-iPython"
   ]
  },
  {
   "cell_type": "code",
   "execution_count": 12,
   "metadata": {
    "collapsed": false
   },
   "outputs": [],
   "source": [
    "#end-tab -> Finalizando construtor\n",
    "#ini-iPython"
   ]
  },
  {
   "cell_type": "markdown",
   "metadata": {},
   "source": [
    "## Teste construtor"
   ]
  },
  {
   "cell_type": "code",
   "execution_count": 13,
   "metadata": {
    "collapsed": false,
    "scrolled": false
   },
   "outputs": [
    {
     "data": {
      "image/png": "[encoded data removed]",
      "text/latex": [
       "$$\\left[\\begin{matrix}- t & 0 & - 0.5 t^{2} & 0 & p_{x}\\\\0 & - t & 0 & - 0.5 t^{2} & p_{y}\\\\0 & 0 & 0 & 0 & - S v_{y} - v_{x} \\left(- C + 1\\right) + v_{x}\\\\0 & 0 & 0 & 0 & S v_{x} - v_{y} \\left(- C + 1\\right) + v_{y}\\\\0 & 0 & 0 & 0 & - S a_{y} - a_{x} \\left(- C + 1\\right) + a_{x}\\\\0 & 0 & 0 & 0 & S a_{x} - a_{y} \\left(- C + 1\\right) + a_{y}\\end{matrix}\\right]$$"
      ],
      "text/plain": [
       "⎡              2                                    ⎤\n",
       "⎢-t  0   -0.5⋅t      0                pₓ            ⎥\n",
       "⎢                                                   ⎥\n",
       "⎢                       2                           ⎥\n",
       "⎢0   -t     0     -0.5⋅t              p_y           ⎥\n",
       "⎢                                                   ⎥\n",
       "⎢0   0      0        0     -S⋅v_y - vₓ⋅(-C + 1) + vₓ⎥\n",
       "⎢                                                   ⎥\n",
       "⎢0   0      0        0     S⋅vₓ - v_y⋅(-C + 1) + v_y⎥\n",
       "⎢                                                   ⎥\n",
       "⎢0   0      0        0     -S⋅a_y - aₓ⋅(-C + 1) + aₓ⎥\n",
       "⎢                                                   ⎥\n",
       "⎣0   0      0        0     S⋅aₓ - a_y⋅(-C + 1) + a_y⎦"
      ]
     },
     "execution_count": 13,
     "metadata": {},
     "output_type": "execute_result"
    }
   ],
   "source": [
    "p_x, p_y, v_x, v_y, a_x, a_y = sym.symbols(\"p_x, p_y, v_x, v_y, a_x, a_y\") # Object state variables\n",
    "\n",
    "sym.Matrix([\n",
    "    [vrx],\n",
    "    [vry],\n",
    "    [arx],\n",
    "    [ary],\n",
    "    [1],\n",
    "])\n",
    "\n",
    "px, py, p = sym.symbols(\"px py p\")\n",
    "px = 0.5*arx*__t**2# + vrx*__t\n",
    "py = 0.5*ary*__t**2# + vry*__t\n",
    "\n",
    "C, S = sym.symbols(\"C S\")\n",
    "# C = sym.cos(sym.atan2(py, px))\n",
    "# S = sym.sin(sym.atan2(py, px))\n",
    "\n",
    "Z = sym.Matrix([\n",
    "    [p_x - __t*vrx - 0.5*arx*__t**2],\n",
    "    [p_y - __t*vry - 0.5*ary*__t**2],\n",
    "    [v_x - v_x*(1-C) - v_y*S],\n",
    "    [v_y - v_y*(1-C) + v_x*S],\n",
    "    [a_x - a_x*(1-C) - a_y*S],\n",
    "    [a_y - a_y*(1-C) + a_x*S],\n",
    "])\n",
    "\n",
    "sym.Matrix([\n",
    "    [p_x - __t*vrx - 0.5*arx*__t**2],\n",
    "    [p_y - __t*vry - 0.5*ary*__t**2],\n",
    "    [v_x - v_x*(1-C) - v_y*S],\n",
    "    [v_y - v_y*(1-C) + v_x*S],\n",
    "    [a_x - a_x*(1-C) - a_y*S],\n",
    "    [a_y - a_y*(1-C) + a_x*S],\n",
    "])\n",
    "\n",
    "B = sym.Matrix([\n",
    "    [-__t, 0, -0.5*__t**2, 0, p_x],\n",
    "    [0, -__t, 0, -0.5*__t**2, p_y],\n",
    "    [0, 0, 0, 0, v_x - v_x*(1-C) - v_y*S],\n",
    "    [0, 0, 0, 0, v_y - v_y*(1-C) + v_x*S],\n",
    "    [0, 0, 0, 0, a_x - a_x*(1-C) - a_y*S],\n",
    "    [0, 0, 0, 0, a_y - a_y*(1-C) + a_x*S],\n",
    "])\n",
    "\n",
    "U = sym.Matrix([\n",
    "    [vrx],\n",
    "    [vry],\n",
    "    [arx],\n",
    "    [ary],\n",
    "    [1],\n",
    "])\n",
    "\n",
    "B\n",
    "#end-iPython"
   ]
  },
  {
   "cell_type": "markdown",
   "metadata": {},
   "source": [
    "# update\n",
    "Adds average robot speeds or upgrades to speeds.\n",
    "@param vector Observed speed.\n",
    "doxygen-iPython"
   ]
  },
  {
   "cell_type": "code",
   "execution_count": 14,
   "metadata": {
    "collapsed": true
   },
   "outputs": [],
   "source": [
    "#eself-iPython update\n",
    "#edes-iPython def update(self, vector):\n",
    "def update(vector):\n",
    "    if vector[0] == 0:\n",
    "        return\n",
    "    \n",
    "    if vector[0] + 1 > len(__movementslist):\n",
    "        while vector[0] + 1 > len(__movementslist):\n",
    "            __movementslist.append({\n",
    "                \"x_speed\": sym.Matrix([\n",
    "                    [0], # v_x\n",
    "                    [0], # v_y\n",
    "                    [0], # a_x\n",
    "                    [0], # a_y\n",
    "                    [1], # constant\n",
    "                ]),\n",
    "\n",
    "                \"R\": copy(__R)\n",
    "            })\n",
    "    \n",
    "    __movementslist[vector[0]][\"x_speed\"] = -sym.Matrix(vector[1][2:]).row_insert(4, sym.Matrix([-1]))\n",
    "    __movementslist[vector[0]][\"R\"] = vector[2] #self-iPython update"
   ]
  },
  {
   "cell_type": "code",
   "execution_count": 15,
   "metadata": {
    "collapsed": true
   },
   "outputs": [],
   "source": [
    "#ini-iPython"
   ]
  },
  {
   "cell_type": "markdown",
   "metadata": {},
   "source": [
    "## Teste update"
   ]
  },
  {
   "cell_type": "code",
   "execution_count": 16,
   "metadata": {
    "collapsed": false
   },
   "outputs": [
    {
     "data": {
      "image/png": "[encoded data removed]",
      "text/latex": [
       "$$\\left ( \\left [ 0, \\quad \\left[\\begin{matrix}1.4142135623731\\\\1.4142135623731\\\\-0.414213562373095\\\\-0.414213562373095\\\\-2\\\\2\\end{matrix}\\right], \\quad \\left[\\begin{array}{cccccc}1000 & 0 & 0 & 0 & 0 & 0\\\\0 & 1000 & 0 & 0 & 0 & 0\\\\0 & 0 & 1000 & 0 & 0 & 0\\\\0 & 0 & 0 & 1000 & 0 & 0\\\\0 & 0 & 0 & 0 & 1000 & 0\\\\0 & 0 & 0 & 0 & 0 & 1000\\end{array}\\right]\\right ], \\quad \\left[\\begin{matrix}0\\\\0\\\\0\\\\0\\\\1\\end{matrix}\\right], \\quad \\left[\\begin{array}{cccccc}0 & 0 & 0 & 0 & 0 & 0\\\\0 & 0 & 0 & 0 & 0 & 0\\\\0 & 0 & 0 & 0 & 0 & 0\\\\0 & 0 & 0 & 0 & 0 & 0\\\\0 & 0 & 0 & 0 & 0 & 0\\\\0 & 0 & 0 & 0 & 0 & 0\\end{array}\\right]\\right )$$"
      ],
      "text/plain": [
       "⎛⎡0, ⎡ 1.4142135623731  ⎤, ⎡1000   0     0     0     0     0  ⎤⎤, ⎡0⎤, ⎡0  0  \n",
       "⎜⎢   ⎢                  ⎥  ⎢                                  ⎥⎥  ⎢ ⎥  ⎢      \n",
       "⎜⎢   ⎢ 1.4142135623731  ⎥  ⎢ 0    1000   0     0     0     0  ⎥⎥  ⎢0⎥  ⎢0  0  \n",
       "⎜⎢   ⎢                  ⎥  ⎢                                  ⎥⎥  ⎢ ⎥  ⎢      \n",
       "⎜⎢   ⎢-0.414213562373095⎥  ⎢ 0     0    1000   0     0     0  ⎥⎥  ⎢0⎥  ⎢0  0  \n",
       "⎜⎢   ⎢                  ⎥  ⎢                                  ⎥⎥  ⎢ ⎥  ⎢      \n",
       "⎜⎢   ⎢-0.414213562373095⎥  ⎢ 0     0     0    1000   0     0  ⎥⎥  ⎢0⎥  ⎢0  0  \n",
       "⎜⎢   ⎢                  ⎥  ⎢                                  ⎥⎥  ⎢ ⎥  ⎢      \n",
       "⎜⎢   ⎢        -2        ⎥  ⎢ 0     0     0     0    1000   0  ⎥⎥  ⎣1⎦  ⎢0  0  \n",
       "⎜⎢   ⎢                  ⎥  ⎢                                  ⎥⎥       ⎢      \n",
       "⎝⎣   ⎣        2         ⎦  ⎣ 0     0     0     0     0    1000⎦⎦       ⎣0  0  \n",
       "\n",
       "0  0  0  0⎤⎞\n",
       "          ⎥⎟\n",
       "0  0  0  0⎥⎟\n",
       "          ⎥⎟\n",
       "0  0  0  0⎥⎟\n",
       "          ⎥⎟\n",
       "0  0  0  0⎥⎟\n",
       "          ⎥⎟\n",
       "0  0  0  0⎥⎟\n",
       "          ⎥⎟\n",
       "0  0  0  0⎦⎠"
      ]
     },
     "execution_count": 16,
     "metadata": {},
     "output_type": "execute_result"
    }
   ],
   "source": [
    "mov = 0\n",
    "\n",
    "vector = [\n",
    "    mov, # Movimento \n",
    "    \n",
    "    sym.Matrix([ # Velocidades calculadas\n",
    "        [2**0.5],\n",
    "        [2**0.5],\n",
    "        [1-2**0.5],\n",
    "        [1-2**0.5],\n",
    "        [-2],\n",
    "        [2],\n",
    "    ]),\n",
    "    \n",
    "    \n",
    "    copy(__R), # Erros calculados\n",
    "]\n",
    "\n",
    "\n",
    "\n",
    "update(vector)\n",
    "\n",
    "vector, __movementslist[mov][\"x_speed\"], __movementslist[mov][\"R\"]\n",
    "#end-iPython"
   ]
  },
  {
   "cell_type": "markdown",
   "metadata": {},
   "source": [
    "# __getitem__\n",
    "Returns the dictionary of motion vectors.\n",
    "@param x Vector position to be accessed.\n",
    "@return Returns the dictionary that will be used.\n",
    "doxygen-iPython"
   ]
  },
  {
   "cell_type": "code",
   "execution_count": 17,
   "metadata": {
    "collapsed": true
   },
   "outputs": [],
   "source": [
    "#eself-iPython __getitem__\n",
    "#edes-iPython def __getitem__(self, x):\n",
    "def __getitem__(x):\n",
    "    if x + 1 > len(__movementslist):\n",
    "        while x + 1 > len(__movementslist):\n",
    "            __movementslist.append({\n",
    "                \"x_speed\": sym.Matrix([\n",
    "                    [0], # v_x\n",
    "                    [0], # v_y\n",
    "                    [0], # a_x\n",
    "                    [0], # a_y\n",
    "                    [1], # constant\n",
    "                ]),\n",
    "\n",
    "                \"R\": copy(__R)\n",
    "            })\n",
    "    return __movementslist[x] #self-iPython __getitem__"
   ]
  },
  {
   "cell_type": "code",
   "execution_count": 18,
   "metadata": {
    "collapsed": true
   },
   "outputs": [],
   "source": [
    "#ini-iPython"
   ]
  },
  {
   "cell_type": "markdown",
   "metadata": {},
   "source": [
    "## Teste __getitem__"
   ]
  },
  {
   "cell_type": "code",
   "execution_count": 19,
   "metadata": {
    "collapsed": false
   },
   "outputs": [
    {
     "data": {
      "image/png": "[encoded data removed]",
      "text/latex": [
       "$$\\left ( \\left[\\begin{matrix}0\\\\0\\\\0\\\\0\\\\1\\end{matrix}\\right], \\quad \\left[\\begin{array}{cccccc}1000 & 0 & 0 & 0 & 0 & 0\\\\0 & 1000 & 0 & 0 & 0 & 0\\\\0 & 0 & 1000 & 0 & 0 & 0\\\\0 & 0 & 0 & 1000 & 0 & 0\\\\0 & 0 & 0 & 0 & 1000 & 0\\\\0 & 0 & 0 & 0 & 0 & 1000\\end{array}\\right]\\right )$$"
      ],
      "text/plain": [
       "⎛⎡0⎤, ⎡1000   0     0     0     0     0  ⎤⎞\n",
       "⎜⎢ ⎥  ⎢                                  ⎥⎟\n",
       "⎜⎢0⎥  ⎢ 0    1000   0     0     0     0  ⎥⎟\n",
       "⎜⎢ ⎥  ⎢                                  ⎥⎟\n",
       "⎜⎢0⎥  ⎢ 0     0    1000   0     0     0  ⎥⎟\n",
       "⎜⎢ ⎥  ⎢                                  ⎥⎟\n",
       "⎜⎢0⎥  ⎢ 0     0     0    1000   0     0  ⎥⎟\n",
       "⎜⎢ ⎥  ⎢                                  ⎥⎟\n",
       "⎜⎣1⎦  ⎢ 0     0     0     0    1000   0  ⎥⎟\n",
       "⎜     ⎢                                  ⎥⎟\n",
       "⎝     ⎣ 0     0     0     0     0    1000⎦⎠"
      ]
     },
     "execution_count": 19,
     "metadata": {},
     "output_type": "execute_result"
    }
   ],
   "source": [
    "a = 10\n",
    "__getitem__(a)[\"x_speed\"], __getitem__(a)[\"R\"]\n",
    "#end-iPython"
   ]
  },
  {
   "cell_type": "code",
   "execution_count": 20,
   "metadata": {
    "collapsed": false
   },
   "outputs": [],
   "source": [
    "#end-tab -> Finalizando classe"
   ]
  },
  {
   "cell_type": "code",
   "execution_count": 21,
   "metadata": {
    "collapsed": false
   },
   "outputs": [],
   "source": [
    "#ini-iPython"
   ]
  },
  {
   "cell_type": "markdown",
   "metadata": {},
   "source": [
    "# nova_variavel\n",
    ".\n",
    "doxygen-iPython"
   ]
  },
  {
   "cell_type": "code",
   "execution_count": 22,
   "metadata": {
    "collapsed": true
   },
   "outputs": [],
   "source": [
    "nova_variavel = None #self-iPython nova_variavel"
   ]
  },
  {
   "cell_type": "markdown",
   "metadata": {},
   "source": [
    "# nova_funcao\n",
    ".\n",
    "doxygen-iPython"
   ]
  },
  {
   "cell_type": "code",
   "execution_count": 23,
   "metadata": {
    "collapsed": true
   },
   "outputs": [],
   "source": [
    "# eself-iPython nova_funcao\n",
    "# edes-iPython def nova_funcao(self, variaveis_funcao):\n",
    "def nova_funcao(variaveis_funcao):\n",
    "    pass # self-iPython nova_funcao"
   ]
  },
  {
   "cell_type": "code",
   "execution_count": 24,
   "metadata": {
    "collapsed": true
   },
   "outputs": [],
   "source": [
    "#ini-iPython"
   ]
  },
  {
   "cell_type": "markdown",
   "metadata": {},
   "source": [
    "## Teste nova_funcao"
   ]
  },
  {
   "cell_type": "code",
   "execution_count": 25,
   "metadata": {
    "collapsed": true
   },
   "outputs": [],
   "source": [
    "\n",
    "#end-iPython"
   ]
  },
  {
   "cell_type": "code",
   "execution_count": 26,
   "metadata": {
    "collapsed": true
   },
   "outputs": [],
   "source": [
    "#end-iPython"
   ]
  }
 ],
 "metadata": {
  "kernelspec": {
   "display_name": "Python 2",
   "language": "python",
   "name": "python2"
  },
  "language_info": {
   "codemirror_mode": {
    "name": "ipython",
    "version": 2
   },
   "file_extension": ".py",
   "mimetype": "text/x-python",
   "name": "python",
   "nbconvert_exporter": "python",
   "pygments_lexer": "ipython2",
   "version": "2.7.6"
  }
 },
 "nbformat": 4,
 "nbformat_minor": 2
}
